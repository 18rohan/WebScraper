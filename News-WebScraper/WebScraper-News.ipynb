{
 "cells": [
  {
   "cell_type": "code",
   "execution_count": 1,
   "metadata": {},
   "outputs": [],
   "source": [
    "import bs4 as bs\n",
    "import urllib.request \n",
    "import pandas as pd\n"
   ]
  },
  {
   "cell_type": "code",
   "execution_count": 197,
   "metadata": {},
   "outputs": [],
   "source": [
    "source = urllib.request.urlopen(\"https://news.ycombinator.com\").read()"
   ]
  },
  {
   "cell_type": "code",
   "execution_count": 198,
   "metadata": {},
   "outputs": [],
   "source": [
    "soup = bs.BeautifulSoup(source,'html.parser')"
   ]
  },
  {
   "cell_type": "code",
   "execution_count": 199,
   "metadata": {},
   "outputs": [
    {
     "name": "stdout",
     "output_type": "stream",
     "text": [
      "<title>Hacker News</title>\n",
      "Hacker News\n"
     ]
    }
   ],
   "source": [
    "print(soup.title)\n",
    "print(soup.title.contents[0])"
   ]
  },
  {
   "cell_type": "code",
   "execution_count": 232,
   "metadata": {},
   "outputs": [],
   "source": [
    "data = soup.find_all('tr',attrs={'class':'athing'})\n"
   ]
  },
  {
   "cell_type": "code",
   "execution_count": 245,
   "metadata": {},
   "outputs": [],
   "source": [
    "articles = []\n",
    "for news in data:\n",
    "    items_a = news.find('a', class_ = 'storylink')\n",
    "    news_s = (items_a.text)\n",
    "    item_link = items_a.get('href') if item_a else None\n",
    "    next_row = news.find_next_sibling('tr')\n",
    "    score = next_row.find('span', class_='score')\n",
    "    score_final = score.get_text(strip=True) if item_a else '0 Points'\n",
    "    \n",
    "    articles.append({\n",
    "        'link':item_link,\n",
    "        'news':news_s,\n",
    "        'score':score_final\n",
    "    })\n",
    "    "
   ]
  },
  {
   "cell_type": "raw",
   "metadata": {},
   "source": [
    "article"
   ]
  },
  {
   "cell_type": "code",
   "execution_count": 247,
   "metadata": {},
   "outputs": [
    {
     "data": {
      "text/plain": [
       "[{'link': 'https://www.autocar.co.uk/car-news/motor-shows-geneva-motor-show/honda-bucks-industry-trend-removing-touchscreen-controls',\n",
       "  'news': 'Honda bucks industry trend by removing touchscreen controls',\n",
       "  'score': '652 points'},\n",
       " {'link': 'https://feed.tyler.io/so-uh-i-think-catalina-10154-broke-ssh/',\n",
       "  'news': 'I think Catalina 10.15.4 broke SSH',\n",
       "  'score': '372 points'},\n",
       " {'link': 'https://www.prisma.io/blog/prisma-2-beta-b7bcl0gd8d8e',\n",
       "  'news': 'Prisma 2.0 Beta',\n",
       "  'score': '132 points'},\n",
       " {'link': 'https://twitter.com/c1truz_/status/1244737672930824193',\n",
       "  'news': 'How the Zoom macOS installer does its job without you clicking ‘install’',\n",
       "  'score': '388 points'},\n",
       " {'link': 'https://www.eclipse.org/org/press-release/20200331-theia.php',\n",
       "  'news': 'Eclipse Theia 1.0 – Open-Source Alternative to Visual Studio Code',\n",
       "  'score': '108 points'},\n",
       " {'link': 'https://daringfireball.net/linked/2020/03/31/zoom-e2e',\n",
       "  'news': 'Zoom Falsely Claims Its Group Video Can Be End-to-End Encrypted',\n",
       "  'score': '21 points'},\n",
       " {'link': 'https://www.sciencemag.org/news/2020/03/lead-pollution-ancient-ice-cores-may-track-rise-and-fall-medieval-kings',\n",
       "  'news': 'Lead pollution in ancient ice cores track the rise and fall of medieval kings',\n",
       "  'score': '29 points'},\n",
       " {'link': 'https://cloud.google.com/blog/products/networking/introducing-service-directory',\n",
       "  'news': 'Google Cloud Introduces Service Directory',\n",
       "  'score': '44 points'},\n",
       " {'link': 'https://arstechnica.com/tech-policy/2020/03/court-violating-a-sites-terms-of-service-isnt-criminal-hacking/',\n",
       "  'news': 'Court: Violating a site’s terms of service isn’t criminal hacking',\n",
       "  'score': '263 points'},\n",
       " {'link': 'https://www.bloomberg.com/news/articles/2020-03-30/amazon-worker-who-led-strike-over-virus-says-company-fired-him',\n",
       "  'news': 'Amazon Fires Worker Who Led Strike over Virus',\n",
       "  'score': '364 points'},\n",
       " {'link': 'https://www.nature.com/articles/s41593-020-0608-8.epdf?referrer_access_token=yqi8gndGo3bsyqSOt-QH49RgN0jAjWel9jnR3ZoTv0PGGLjJSIdJ3hFHzrqzGtisj2DRxrMxg3xPhwYR9Or_MFFWi9FFLCitwQPN6hzDOfuddKxNu7NRPQzS80eVE9peKMdJN14zNjJ66HDiFw8OaB3K899HudKHwkGg7prtc2MKkCosR0Mg9lyu2R8tDA-O-XP-CgHFT7NJfXeq8il1mGo_26BUelda8VnFBttFRYIzC7ZAr5I03DG6S_NFvZQTiBj8zrA4P4qwNArhZ0sCMS7bc6l-KY6PS-SIqYDW2LvT2pkbfxepOjoNylWMqOyE&tracking_referrer=www.theguardian.com',\n",
       "  'news': 'Machine translation of cortical activity to text with encoder–decoder framework',\n",
       "  'score': '152 points'},\n",
       " {'link': 'https://www.stackallocated.com/blog/2020/saml-idp-no-shared-keys/',\n",
       "  'news': 'You need multiple SAML IDP signing keys',\n",
       "  'score': '23 points'},\n",
       " {'link': 'https://blog.darksky.net/dark-sky-has-a-new-home/',\n",
       "  'news': 'Dark Sky Has a New Home',\n",
       "  'score': '124 points'},\n",
       " {'link': 'https://ahuth.github.io/raycast/',\n",
       "  'news': '3D Raycasting Engine in JavaScript',\n",
       "  'score': '11 points'},\n",
       " {'link': 'https://xerces.org/pollinator-conservation/pollinator-friendly-plant-lists',\n",
       "  'news': 'Pollinator-Friendly Native Plant Lists',\n",
       "  'score': '131 points'},\n",
       " {'link': 'https://status.signal.org/',\n",
       "  'news': 'Signal was experiencing technical difficulties',\n",
       "  'score': '44 points'},\n",
       " {'link': 'https://www.perimeterx.com/resources/blog/2020/skimming-as-a-service-anatomy-of-a-magecart-attack-toolkit/',\n",
       "  'news': 'Skimming-as-a-Service: Anatomy of a Magecart Attack Toolkit',\n",
       "  'score': '4 points'},\n",
       " {'link': 'https://words.steveklabnik.com/c-is-how-the-computer-works-is-a-dangerous-mindset-for-c-programmers',\n",
       "  'news': '“C is how the computer works” is a dangerous mindset for C programmers',\n",
       "  'score': '241 points'},\n",
       " {'link': 'https://iso.500px.com/snow-monkey-iphone-photo/',\n",
       "  'news': 'The Story Behind a Photo of a Snow Monkey Using an iPhone (2019)',\n",
       "  'score': '62 points'},\n",
       " {'link': 'https://www.historytoday.com/history-matters/full-circle',\n",
       "  'news': 'Full Circle: The complicated history of why there are 360 degrees in a circle',\n",
       "  'score': '97 points'},\n",
       " {'link': 'https://theintercept.com/2020/03/31/zoom-meeting-encryption/',\n",
       "  'news': 'Zoom meetings aren’t end-to-end encrypted, despite marketing',\n",
       "  'score': '985 points'},\n",
       " {'link': 'https://vlaaad.github.io/year-of-clojure-on-the-desktop',\n",
       "  'news': 'Clojure on the Desktop',\n",
       "  'score': '278 points'},\n",
       " {'link': 'https://segment.com/blog/bug-bounty-at-segment/',\n",
       "  'news': 'How we run our bug bounty program at Segment',\n",
       "  'score': '34 points'},\n",
       " {'link': 'https://imply.io/post/compare-apache-druid-to-vertica',\n",
       "  'news': 'Why Vertica Customers Adopt Apache Druid for Real-Time Analytics',\n",
       "  'score': '8 points'},\n",
       " {'link': 'item?id=22737423',\n",
       "  'news': 'Ask HN: How to prosper under negative interest rates?',\n",
       "  'score': '158 points'},\n",
       " {'link': 'http://leahneukirchen.org/blog/archive/2020/01/x11-screen-locking-a-secure-and-modular-approach.html',\n",
       "  'news': 'X11 screen locking: a secure and modular approach',\n",
       "  'score': '79 points'},\n",
       " {'link': 'https://www.nybooks.com/daily/2019/11/06/why-we-wish-for-wilderness/',\n",
       "  'news': 'We Wish for Wilderness',\n",
       "  'score': '23 points'},\n",
       " {'link': 'https://www.robinsloan.com/notes/integration-loop/',\n",
       "  'news': 'An Integration Loop',\n",
       "  'score': '59 points'},\n",
       " {'link': 'https://opensource.googleblog.com/2020/03/kpt-packaging-up-your-kubernetes.html',\n",
       "  'news': 'Kpt: Packaging up your Kubernetes configuration with Git and YAML since 2014',\n",
       "  'score': '9 points'},\n",
       " {'link': 'https://deepmind.com/blog/article/Agent57-Outperforming-the-human-Atari-benchmark',\n",
       "  'news': 'Agent57: Outperforming the human Atari benchmark',\n",
       "  'score': '74 points'}]"
      ]
     },
     "execution_count": 247,
     "metadata": {},
     "output_type": "execute_result"
    }
   ],
   "source": [
    "articles"
   ]
  },
  {
   "cell_type": "code",
   "execution_count": 222,
   "metadata": {},
   "outputs": [
    {
     "data": {
      "text/plain": [
       "[[<a class=\"storylink\" href=\"https://www.autocar.co.uk/car-news/motor-shows-geneva-motor-show/honda-bucks-industry-trend-removing-touchscreen-controls\">Honda bucks industry trend by removing touchscreen controls</a>],\n",
       " [<a class=\"storylink\" href=\"https://feed.tyler.io/so-uh-i-think-catalina-10154-broke-ssh/\">I think Catalina 10.15.4 broke SSH</a>],\n",
       " [<a class=\"storylink\" href=\"https://www.prisma.io/blog/prisma-2-beta-b7bcl0gd8d8e\">Prisma 2.0 Beta</a>],\n",
       " [<a class=\"storylink\" href=\"https://twitter.com/c1truz_/status/1244737672930824193\">How the Zoom macOS installer does its job without you clicking ‘install’</a>],\n",
       " [<a class=\"storylink\" href=\"https://www.eclipse.org/org/press-release/20200331-theia.php\">Eclipse Theia 1.0 – Open-Source Alternative to Visual Studio Code</a>],\n",
       " [<a class=\"storylink\" href=\"https://daringfireball.net/linked/2020/03/31/zoom-e2e\">Zoom Falsely Claims Its Group Video Can Be End-to-End Encrypted</a>],\n",
       " [<a class=\"storylink\" href=\"https://www.sciencemag.org/news/2020/03/lead-pollution-ancient-ice-cores-may-track-rise-and-fall-medieval-kings\">Lead pollution in ancient ice cores track the rise and fall of medieval kings</a>],\n",
       " [<a class=\"storylink\" href=\"https://cloud.google.com/blog/products/networking/introducing-service-directory\">Google Cloud Introduces Service Directory</a>],\n",
       " [<a class=\"storylink\" href=\"https://arstechnica.com/tech-policy/2020/03/court-violating-a-sites-terms-of-service-isnt-criminal-hacking/\">Court: Violating a site’s terms of service isn’t criminal hacking</a>],\n",
       " [<a class=\"storylink\" href=\"https://www.bloomberg.com/news/articles/2020-03-30/amazon-worker-who-led-strike-over-virus-says-company-fired-him\">Amazon Fires Worker Who Led Strike over Virus</a>],\n",
       " [<a class=\"storylink\" href=\"https://www.nature.com/articles/s41593-020-0608-8.epdf?referrer_access_token=yqi8gndGo3bsyqSOt-QH49RgN0jAjWel9jnR3ZoTv0PGGLjJSIdJ3hFHzrqzGtisj2DRxrMxg3xPhwYR9Or_MFFWi9FFLCitwQPN6hzDOfuddKxNu7NRPQzS80eVE9peKMdJN14zNjJ66HDiFw8OaB3K899HudKHwkGg7prtc2MKkCosR0Mg9lyu2R8tDA-O-XP-CgHFT7NJfXeq8il1mGo_26BUelda8VnFBttFRYIzC7ZAr5I03DG6S_NFvZQTiBj8zrA4P4qwNArhZ0sCMS7bc6l-KY6PS-SIqYDW2LvT2pkbfxepOjoNylWMqOyE&amp;tracking_referrer=www.theguardian.com\">Machine translation of cortical activity to text with encoder–decoder framework</a>],\n",
       " [<a class=\"storylink\" href=\"https://www.stackallocated.com/blog/2020/saml-idp-no-shared-keys/\">You need multiple SAML IDP signing keys</a>],\n",
       " [<a class=\"storylink\" href=\"https://blog.darksky.net/dark-sky-has-a-new-home/\">Dark Sky Has a New Home</a>],\n",
       " [<a class=\"storylink\" href=\"https://ahuth.github.io/raycast/\">3D Raycasting Engine in JavaScript</a>],\n",
       " [<a class=\"storylink\" href=\"https://xerces.org/pollinator-conservation/pollinator-friendly-plant-lists\">Pollinator-Friendly Native Plant Lists</a>],\n",
       " [<a class=\"storylink\" href=\"https://status.signal.org/\">Signal was experiencing technical difficulties</a>],\n",
       " [<a class=\"storylink\" href=\"https://www.perimeterx.com/resources/blog/2020/skimming-as-a-service-anatomy-of-a-magecart-attack-toolkit/\" rel=\"nofollow\">Skimming-as-a-Service: Anatomy of a Magecart Attack Toolkit</a>],\n",
       " [<a class=\"storylink\" href=\"https://words.steveklabnik.com/c-is-how-the-computer-works-is-a-dangerous-mindset-for-c-programmers\">“C is how the computer works” is a dangerous mindset for C programmers</a>],\n",
       " [<a class=\"storylink\" href=\"https://iso.500px.com/snow-monkey-iphone-photo/\">The Story Behind a Photo of a Snow Monkey Using an iPhone (2019)</a>],\n",
       " [<a class=\"storylink\" href=\"https://www.historytoday.com/history-matters/full-circle\">Full Circle: The complicated history of why there are 360 degrees in a circle</a>],\n",
       " [<a class=\"storylink\" href=\"https://theintercept.com/2020/03/31/zoom-meeting-encryption/\">Zoom meetings aren’t end-to-end encrypted, despite marketing</a>],\n",
       " [<a class=\"storylink\" href=\"https://vlaaad.github.io/year-of-clojure-on-the-desktop\">Clojure on the Desktop</a>],\n",
       " [<a class=\"storylink\" href=\"https://segment.com/blog/bug-bounty-at-segment/\">How we run our bug bounty program at Segment</a>],\n",
       " [<a class=\"storylink\" href=\"https://imply.io/post/compare-apache-druid-to-vertica\">Why Vertica Customers Adopt Apache Druid for Real-Time Analytics</a>],\n",
       " [<a class=\"storylink\" href=\"item?id=22737423\">Ask HN: How to prosper under negative interest rates?</a>],\n",
       " [<a class=\"storylink\" href=\"http://leahneukirchen.org/blog/archive/2020/01/x11-screen-locking-a-secure-and-modular-approach.html\">X11 screen locking: a secure and modular approach</a>],\n",
       " [<a class=\"storylink\" href=\"https://www.nybooks.com/daily/2019/11/06/why-we-wish-for-wilderness/\">We Wish for Wilderness</a>],\n",
       " [<a class=\"storylink\" href=\"https://www.robinsloan.com/notes/integration-loop/\">An Integration Loop</a>],\n",
       " [<a class=\"storylink\" href=\"https://opensource.googleblog.com/2020/03/kpt-packaging-up-your-kubernetes.html\" rel=\"nofollow\">Kpt: Packaging up your Kubernetes configuration with Git and YAML since 2014</a>],\n",
       " [<a class=\"storylink\" href=\"https://deepmind.com/blog/article/Agent57-Outperforming-the-human-Atari-benchmark\">Agent57: Outperforming the human Atari benchmark</a>]]"
      ]
     },
     "execution_count": 222,
     "metadata": {},
     "output_type": "execute_result"
    }
   ],
   "source": [
    "links"
   ]
  },
  {
   "cell_type": "code",
   "execution_count": 214,
   "metadata": {},
   "outputs": [
    {
     "name": "stdout",
     "output_type": "stream",
     "text": [
      "{'link': 'https://docs.fcc.gov/public/attachments/DOC-363399A1.pdf', 'title': 'FCC will require phone carriers to authenticate calls by June 2021 [pdf]', 'score': '668 points', 'comments': '257 comments'}\n",
      "{'link': 'https://www.autocar.co.uk/car-news/motor-shows-geneva-motor-show/honda-bucks-industry-trend-removing-touchscreen-controls', 'title': 'Honda bucks industry trend by removing touchscreen controls', 'score': '1513 points', 'comments': '614 comments'}\n",
      "{'link': 'https://mjtsai.com/blog/2020/03/31/omni-group-layoffs/', 'title': 'Omni Group Layoffs', 'score': '113 points', 'comments': '47 comments'}\n",
      "{'link': 'https://lemire.me/blog/2020/03/31/we-released-simdjson-0-3-the-fastest-json-parser-in-the-world-is-even-better/', 'title': 'Simdjson 0.3: Faster JSON parser', 'score': '59 points', 'comments': '9 comments'}\n",
      "{'link': 'https://www.businessinsider.com/aa-intergroup-meetings-zoom-bombing-trolls-alcoholics-anonymous-2020-3', 'title': 'Trolls break into meetings on Zoom', 'score': '271 points', 'comments': '164 comments'}\n",
      "{'link': 'https://a16z.com/2020/03/31/planning-and-managing-layoffs/', 'title': 'Planning and Managing Layoffs', 'score': '152 points', 'comments': '40 comments'}\n",
      "{'link': 'https://github.com/oakes/vim_cubed', 'title': 'Vim rendered on a cube for no reason', 'score': '263 points', 'comments': '73 comments'}\n",
      "{'link': 'https://xy2.dev/racket-blog.html', 'title': 'Writing HTML with Racket and X-Expressions (2019)', 'score': '14 points', 'comments': '7 comments'}\n",
      "{'link': 'https://fortune.com/2020/03/30/startup-human-neurons-computer-chips/', 'title': 'A startup is building computer chips using real neurons', 'score': '33 points', 'comments': '5 comments'}\n",
      "{'link': 'https://feed.tyler.io/so-uh-i-think-catalina-10154-broke-ssh/', 'title': 'I think Catalina 10.15.4 broke SSH', 'score': '648 points', 'comments': '275 comments'}\n",
      "{'link': 'https://blog.darksky.net/dark-sky-has-a-new-home/', 'title': 'Apple acquires Dark Sky', 'score': '738 points', 'comments': '503 comments'}\n",
      "{'link': 'https://github.com/akeru-inc/xcnotary/blob/master/README.md', 'title': 'Show HN: Xcnotary – a Mac app notarization helper made with Rust', 'score': '72 points', 'comments': '20 comments'}\n",
      "{'link': 'https://www.thedrive.com/the-war-zone/32807/exclusive-unmasking-northrop-grummans-xrq-72a-great-horned-owl-spy-drone', 'title': \"Unmasking Northrop Grumman's XRQ-72A\", 'score': '34 points', 'comments': '16 comments'}\n",
      "{'link': 'https://github.com/johntitus/bungholio', 'title': 'Show HN: Bungholio – Get text messages when a product is available on Amazon', 'score': '74 points', 'comments': '30 comments'}\n",
      "{'link': 'https://www.wsj.com/articles/amazon-struggles-to-find-its-coronavirus-footing-its-a-time-of-great-stress-11585664987', 'title': 'Amazon struggles to find its coronavirus footing', 'score': '116 points', 'comments': '87 comments'}\n",
      "{'link': 'https://www.prisma.io/blog/prisma-2-beta-b7bcl0gd8d8e', 'title': 'Prisma 2.0 Beta: Type-safe Database Access', 'score': '257 points', 'comments': '100 comments'}\n",
      "{'link': 'https://julian.digital/2020/03/28/signaling-as-a-service/', 'title': 'Signaling as a Service', 'score': '115 points', 'comments': '47 comments'}\n",
      "{'link': 'https://dalton.substack.com/p/how-yc-will-be-funding-the-s20-batch', 'title': 'How YC will be funding the S20 batch', 'score': '122 points', 'comments': '39 comments'}\n",
      "{'link': 'https://forums.unrealengine.com/unreal-engine/announcements-and-releases/1739154-changes-to-the-official-unreal-engine-wiki', 'title': 'The Unreal Engine Wiki is now permanently offline', 'score': '159 points', 'comments': '91 comments'}\n",
      "{'link': 'http://www.cs.umd.edu/hcil/trs/93-03/93-03.html', 'title': 'Beyond Intelligent Machines: Just Do It (1993)', 'score': '17 points', 'comments': '6 comments'}\n",
      "{'link': 'https://k8slens.dev/', 'title': 'Lens – open-source IDE to control your Kubernetes clusters', 'score': '23 points', 'comments': '1 comment'}\n",
      "{'link': 'https://www.superhighway98.com/google', 'title': 'Google emphasizes popularity over accuracy', 'score': '300 points', 'comments': '198 comments'}\n",
      "{'link': 'https://www.linaro.org/blog/the-end-of-an-era/', 'title': 'The end of an Era – changing every single instance of a 32-bit time_t in Linux', 'score': '31 points', 'comments': '2 comments'}\n",
      "{'link': 'https://www.reuters.com/article/us-marriott-intnl-data-breach/marriott-says-5-2-million-guests-exposed-in-new-data-breach-idUSKBN21I3DC', 'title': 'Marriott says 5.2M guests exposed in new data breach', 'score': '153 points', 'comments': '47 comments'}\n",
      "{'link': 'https://www.medscape.com/viewarticle/927811', 'title': 'US Betrays Healthcare Workers in Coronavirus Disaster', 'score': '31 points', 'comments': '10 comments'}\n",
      "{'link': 'https://twitter.com/c1truz_/status/1244737672930824193', 'title': 'How the Zoom macOS installer does its job without you clicking ‘install’', 'score': '659 points', 'comments': '289 comments'}\n",
      "{'link': 'https://edition.cnn.com/style/article/mid-century-memories-kodachrome/index.html', 'title': 'Kodachrome was the Instagram of its time', 'score': '49 points', 'comments': '33 comments'}\n",
      "{'link': 'https://www.nature.com/articles/d41586-020-00965-x', 'title': 'A reduction in seismic noise is a boon for geoscientists', 'score': '69 points', 'comments': '14 comments'}\n",
      "{'link': 'https://ahuth.github.io/raycast/', 'title': 'Show HN: 3D Raycasting Engine in JavaScript', 'score': '92 points', 'comments': '31 comments'}\n",
      "{'link': 'http://writepay.blogspot.com/2020/03/the-textbroker-solution.html', 'title': 'The Textbroker Solution: Gig work as a freelance writer', 'score': '48 points', 'comments': '14 comments'}\n"
     ]
    }
   ],
   "source": [
    "import requests\n",
    "import re\n",
    "from bs4 import BeautifulSoup\n",
    "\n",
    "articles = []\n",
    "\n",
    "url = 'https://news.ycombinator.com/news'\n",
    "\n",
    "r = requests.get(url)\n",
    "html_soup = BeautifulSoup(r.text, 'html.parser')\n",
    "\n",
    "for item in html_soup.find_all('tr', class_='athing'):\n",
    "    item_a = item.find('a', class_='storylink')\n",
    "    item_link = item_a.get('href') if item_a else None\n",
    "    item_text = item_a.get_text(strip=True) if item_a else None\n",
    "    next_row = item.find_next_sibling('tr')\n",
    "    item_score = next_row.find('span', class_='score')\n",
    "    item_score = item_score.get_text(strip=True) if item_score else '0 points'\n",
    "    # We use regex here to find the correct element\n",
    "    item_comments = next_row.find('a', text=re.compile('\\d+(&nbsp;|\\s)comment(s?)'))\n",
    "    item_comments = item_comments.get_text(strip=True).replace('\\xa0', ' ') \\\n",
    "                        if item_comments else '0 comments'\n",
    "    articles.append({\n",
    "        'link' : item_link,\n",
    "        'title' : item_text,\n",
    "        'score' : item_score,\n",
    "        'comments' : item_comments})\n",
    "\n",
    "for article in articles:\n",
    "    print(article)"
   ]
  },
  {
   "cell_type": "code",
   "execution_count": null,
   "metadata": {},
   "outputs": [],
   "source": []
  },
  {
   "cell_type": "code",
   "execution_count": null,
   "metadata": {},
   "outputs": [],
   "source": []
  }
 ],
 "metadata": {
  "kernelspec": {
   "display_name": "Python 3",
   "language": "python",
   "name": "python3"
  },
  "language_info": {
   "codemirror_mode": {
    "name": "ipython",
    "version": 3
   },
   "file_extension": ".py",
   "mimetype": "text/x-python",
   "name": "python",
   "nbconvert_exporter": "python",
   "pygments_lexer": "ipython3",
   "version": "3.7.6"
  }
 },
 "nbformat": 4,
 "nbformat_minor": 4
}
