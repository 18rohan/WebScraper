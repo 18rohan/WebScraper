{
 "cells": [
  {
   "cell_type": "code",
   "execution_count": 36,
   "metadata": {},
   "outputs": [],
   "source": [
    "from selenium import webdriver\n",
    "import bs4 as bs\n",
    "import urllib.request \n",
    "import pandas as pd\n",
    "\n",
    "\n",
    "source = urllib.request.urlopen(\"http://books.toscrape.com/\").read()\n",
    "\n",
    "soup = bs.BeautifulSoup(source, 'html.parser')"
   ]
  },
  {
   "cell_type": "code",
   "execution_count": 61,
   "metadata": {
    "collapsed": true
   },
   "outputs": [
    {
     "name": "stdout",
     "output_type": "stream",
     "text": [
      "Books to Scrape\n",
      "We love being scraped!\n",
      "Home\n",
      "All products\n",
      "Books\n",
      "Travel\n",
      "Mystery\n",
      "Historical Fiction\n",
      "Sequential Art\n",
      "Classics\n",
      "Philosophy\n",
      "Romance\n",
      "Womens Fiction\n",
      "Fiction\n",
      "Childrens\n",
      "Religion\n",
      "Nonfiction\n",
      "Music\n",
      "Default\n",
      "Science Fiction\n",
      "Sports and Games\n",
      "Add a comment\n",
      "Fantasy\n",
      "New Adult\n",
      "Young Adult\n",
      "Science\n",
      "Poetry\n",
      "Paranormal\n",
      "Art\n",
      "Psychology\n",
      "Autobiography\n",
      "Parenting\n",
      "Adult Fiction\n",
      "Humor\n",
      "Horror\n",
      "History\n",
      "Food and Drink\n",
      "Christian Fiction\n",
      "Business\n",
      "Biography\n",
      "Thriller\n",
      "Contemporary\n",
      "Spirituality\n",
      "Academic\n",
      "Self Help\n",
      "Historical\n",
      "Christian\n",
      "Suspense\n",
      "Short Stories\n",
      "Novels\n",
      "Health\n",
      "Politics\n",
      "Cultural\n",
      "Erotica\n",
      "Crime\n",
      "All products\n",
      "1000\n",
      "results - showing\n",
      "1\n",
      "to\n",
      "20\n",
      ".\n",
      "Warning!\n",
      "This is a demo website for web scraping purposes. Prices and ratings here were randomly assigned and have no real meaning.\n",
      "A Light in the ...\n",
      "£51.77\n",
      "In stock\n",
      "Add to basket\n",
      "Tipping the Velvet\n",
      "£53.74\n",
      "In stock\n",
      "Add to basket\n",
      "Soumission\n",
      "£50.10\n",
      "In stock\n",
      "Add to basket\n",
      "Sharp Objects\n",
      "£47.82\n",
      "In stock\n",
      "Add to basket\n",
      "Sapiens: A Brief History ...\n",
      "£54.23\n",
      "In stock\n",
      "Add to basket\n",
      "The Requiem Red\n",
      "£22.65\n",
      "In stock\n",
      "Add to basket\n",
      "The Dirty Little Secrets ...\n",
      "£33.34\n",
      "In stock\n",
      "Add to basket\n",
      "The Coming Woman: A ...\n",
      "£17.93\n",
      "In stock\n",
      "Add to basket\n",
      "The Boys in the ...\n",
      "£22.60\n",
      "In stock\n",
      "Add to basket\n",
      "The Black Maria\n",
      "£52.15\n",
      "In stock\n",
      "Add to basket\n",
      "Starving Hearts (Triangular Trade ...\n",
      "£13.99\n",
      "In stock\n",
      "Add to basket\n",
      "Shakespeare's Sonnets\n",
      "£20.66\n",
      "In stock\n",
      "Add to basket\n",
      "Set Me Free\n",
      "£17.46\n",
      "In stock\n",
      "Add to basket\n",
      "Scott Pilgrim's Precious Little ...\n",
      "£52.29\n",
      "In stock\n",
      "Add to basket\n",
      "Rip it Up and ...\n",
      "£35.02\n",
      "In stock\n",
      "Add to basket\n",
      "Our Band Could Be ...\n",
      "£57.25\n",
      "In stock\n",
      "Add to basket\n",
      "Olio\n",
      "£23.88\n",
      "In stock\n",
      "Add to basket\n",
      "Mesaerion: The Best Science ...\n",
      "£37.59\n",
      "In stock\n",
      "Add to basket\n",
      "Libertarianism for Beginners\n",
      "£51.33\n",
      "In stock\n",
      "Add to basket\n",
      "It's Only the Himalayas\n",
      "£45.17\n",
      "In stock\n",
      "Add to basket\n",
      "Page 1 of 50\n",
      "next\n",
      "window.jQuery || document.write('<script src=\"static/oscar/js/jquery/jquery-1.9.1.min.js\"><\\/script>')\n",
      "$(function() {\n",
      "                \n",
      "    \n",
      "    \n",
      "    oscar.init();\n",
      "\n",
      "    oscar.search.init();\n",
      "\n",
      "            });\n"
     ]
    }
   ],
   "source": [
    "for string in soup.body.stripped_strings:\n",
    "    print(string)\n"
   ]
  },
  {
   "cell_type": "code",
   "execution_count": 62,
   "metadata": {},
   "outputs": [
    {
     "data": {
      "text/plain": [
       "<a href=\"index.html\">Books to Scrape</a>"
      ]
     },
     "execution_count": 62,
     "metadata": {},
     "output_type": "execute_result"
    }
   ],
   "source": [
    "soup.a"
   ]
  },
  {
   "cell_type": "code",
   "execution_count": null,
   "metadata": {},
   "outputs": [],
   "source": []
  },
  {
   "cell_type": "code",
   "execution_count": 79,
   "metadata": {},
   "outputs": [],
   "source": [
    "names = []\n",
    "prices = []\n",
    "\n",
    "for book in soup.select('article.product_pod'):\n",
    "  #  print(book)\n",
    "\n",
    "    name = book.find('h3').find('a').get('href')\n",
    "    price = book.find('p',attrs={'class':'price_color'}).text\n",
    "    names.append(name)\n",
    "    prices.append(price)\n",
    "\n"
   ]
  },
  {
   "cell_type": "code",
   "execution_count": 69,
   "metadata": {},
   "outputs": [
    {
     "data": {
      "text/plain": [
       "['£51.77',\n",
       " '£53.74',\n",
       " '£50.10',\n",
       " '£47.82',\n",
       " '£54.23',\n",
       " '£22.65',\n",
       " '£33.34',\n",
       " '£17.93',\n",
       " '£22.60',\n",
       " '£52.15',\n",
       " '£13.99',\n",
       " '£20.66',\n",
       " '£17.46',\n",
       " '£52.29',\n",
       " '£35.02',\n",
       " '£57.25',\n",
       " '£23.88',\n",
       " '£37.59',\n",
       " '£51.33',\n",
       " '£45.17']"
      ]
     },
     "execution_count": 69,
     "metadata": {},
     "output_type": "execute_result"
    }
   ],
   "source": [
    "prices"
   ]
  },
  {
   "cell_type": "code",
   "execution_count": 88,
   "metadata": {},
   "outputs": [
    {
     "data": {
      "text/plain": [
       "['a-light-in-the-attic_1000',\n",
       " 'tipping-the-velvet_999',\n",
       " 'soumission_998',\n",
       " 'sharp-objects_997',\n",
       " 'sapiens-a-brief-history-of-humankind_996',\n",
       " 'the-requiem-red_995',\n",
       " 'the-dirty-little-secrets-of-getting-your-dream-job_994',\n",
       " 'the-coming-woman-a-novel-based-on-the-life-of-the-infamous-feminist-victoria-woodhull_993',\n",
       " 'the-boys-in-the-boat-nine-americans-and-their-epic-quest-for-gold-at-the-1936-berlin-olympics_992',\n",
       " 'the-black-maria_991',\n",
       " 'starving-hearts-triangular-trade-trilogy-1_990',\n",
       " 'shakespeares-sonnets_989',\n",
       " 'set-me-free_988',\n",
       " 'scott-pilgrims-precious-little-life-scott-pilgrim-1_987',\n",
       " 'rip-it-up-and-start-again_986',\n",
       " 'our-band-could-be-your-life-scenes-from-the-american-indie-underground-1981-1991_985',\n",
       " 'olio_984',\n",
       " 'mesaerion-the-best-science-fiction-stories-1800-1849_983',\n",
       " 'libertarianism-for-beginners_982',\n",
       " 'its-only-the-himalayas_981']"
      ]
     },
     "execution_count": 88,
     "metadata": {},
     "output_type": "execute_result"
    }
   ],
   "source": [
    "book_names = []\n",
    "for i in names:\n",
    "    book_name = i.strip().split('/')\n",
    "    book_names.append(book_name[1])\n",
    "book_names"
   ]
  },
  {
   "cell_type": "code",
   "execution_count": 11,
   "metadata": {},
   "outputs": [],
   "source": [
    "data = pd.read_html(\"https://www.google.com/covid19-map/\")"
   ]
  },
  {
   "cell_type": "code",
   "execution_count": 97,
   "metadata": {},
   "outputs": [
    {
     "data": {
      "text/html": [
       "<div>\n",
       "<style scoped>\n",
       "    .dataframe tbody tr th:only-of-type {\n",
       "        vertical-align: middle;\n",
       "    }\n",
       "\n",
       "    .dataframe tbody tr th {\n",
       "        vertical-align: top;\n",
       "    }\n",
       "\n",
       "    .dataframe thead th {\n",
       "        text-align: right;\n",
       "    }\n",
       "</style>\n",
       "<table border=\"1\" class=\"dataframe\">\n",
       "  <thead>\n",
       "    <tr style=\"text-align: right;\">\n",
       "      <th></th>\n",
       "      <th>0</th>\n",
       "    </tr>\n",
       "  </thead>\n",
       "  <tbody>\n",
       "    <tr>\n",
       "      <th>0</th>\n",
       "      <td>a-light-in-the-attic_1000</td>\n",
       "    </tr>\n",
       "    <tr>\n",
       "      <th>1</th>\n",
       "      <td>tipping-the-velvet_999</td>\n",
       "    </tr>\n",
       "    <tr>\n",
       "      <th>2</th>\n",
       "      <td>soumission_998</td>\n",
       "    </tr>\n",
       "    <tr>\n",
       "      <th>3</th>\n",
       "      <td>sharp-objects_997</td>\n",
       "    </tr>\n",
       "    <tr>\n",
       "      <th>4</th>\n",
       "      <td>sapiens-a-brief-history-of-humankind_996</td>\n",
       "    </tr>\n",
       "  </tbody>\n",
       "</table>\n",
       "</div>"
      ],
      "text/plain": [
       "                                          0\n",
       "0                 a-light-in-the-attic_1000\n",
       "1                    tipping-the-velvet_999\n",
       "2                            soumission_998\n",
       "3                         sharp-objects_997\n",
       "4  sapiens-a-brief-history-of-humankind_996"
      ]
     },
     "execution_count": 97,
     "metadata": {},
     "output_type": "execute_result"
    }
   ],
   "source": [
    "book_data = pd.DataFrame(book_names)\n",
    "book_data.head()"
   ]
  },
  {
   "cell_type": "code",
   "execution_count": 100,
   "metadata": {},
   "outputs": [
    {
     "data": {
      "text/html": [
       "<div>\n",
       "<style scoped>\n",
       "    .dataframe tbody tr th:only-of-type {\n",
       "        vertical-align: middle;\n",
       "    }\n",
       "\n",
       "    .dataframe tbody tr th {\n",
       "        vertical-align: top;\n",
       "    }\n",
       "\n",
       "    .dataframe thead th {\n",
       "        text-align: right;\n",
       "    }\n",
       "</style>\n",
       "<table border=\"1\" class=\"dataframe\">\n",
       "  <thead>\n",
       "    <tr style=\"text-align: right;\">\n",
       "      <th></th>\n",
       "      <th>Book name</th>\n",
       "      <th>Book Price</th>\n",
       "    </tr>\n",
       "  </thead>\n",
       "  <tbody>\n",
       "    <tr>\n",
       "      <th>0</th>\n",
       "      <td>a-light-in-the-attic_1000</td>\n",
       "      <td>£51.77</td>\n",
       "    </tr>\n",
       "    <tr>\n",
       "      <th>1</th>\n",
       "      <td>tipping-the-velvet_999</td>\n",
       "      <td>£53.74</td>\n",
       "    </tr>\n",
       "    <tr>\n",
       "      <th>2</th>\n",
       "      <td>soumission_998</td>\n",
       "      <td>£50.10</td>\n",
       "    </tr>\n",
       "    <tr>\n",
       "      <th>3</th>\n",
       "      <td>sharp-objects_997</td>\n",
       "      <td>£47.82</td>\n",
       "    </tr>\n",
       "    <tr>\n",
       "      <th>4</th>\n",
       "      <td>sapiens-a-brief-history-of-humankind_996</td>\n",
       "      <td>£54.23</td>\n",
       "    </tr>\n",
       "  </tbody>\n",
       "</table>\n",
       "</div>"
      ],
      "text/plain": [
       "                                  Book name Book Price\n",
       "0                 a-light-in-the-attic_1000     £51.77\n",
       "1                    tipping-the-velvet_999     £53.74\n",
       "2                            soumission_998     £50.10\n",
       "3                         sharp-objects_997     £47.82\n",
       "4  sapiens-a-brief-history-of-humankind_996     £54.23"
      ]
     },
     "execution_count": 100,
     "metadata": {},
     "output_type": "execute_result"
    }
   ],
   "source": [
    "#book_data['Book Price'] = prices\n",
    "book_data = book_data.rename(columns={0:'Book name'})\n",
    "book_data.head()"
   ]
  },
  {
   "cell_type": "code",
   "execution_count": 99,
   "metadata": {},
   "outputs": [
    {
     "data": {
      "text/plain": [
       "{0, 'Book Price'}"
      ]
     },
     "execution_count": 99,
     "metadata": {},
     "output_type": "execute_result"
    }
   ],
   "source": [
    "set(book_data)"
   ]
  },
  {
   "cell_type": "code",
   "execution_count": null,
   "metadata": {},
   "outputs": [],
   "source": []
  }
 ],
 "metadata": {
  "kernelspec": {
   "display_name": "Python 3",
   "language": "python",
   "name": "python3"
  },
  "language_info": {
   "codemirror_mode": {
    "name": "ipython",
    "version": 3
   },
   "file_extension": ".py",
   "mimetype": "text/x-python",
   "name": "python",
   "nbconvert_exporter": "python",
   "pygments_lexer": "ipython3",
   "version": "3.7.6"
  }
 },
 "nbformat": 4,
 "nbformat_minor": 4
}
