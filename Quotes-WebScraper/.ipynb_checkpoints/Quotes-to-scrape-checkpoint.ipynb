{
 "cells": [
  {
   "cell_type": "code",
   "execution_count": 18,
   "metadata": {},
   "outputs": [],
   "source": [
    "import bs4 as bs\n",
    "import pandas as pd\n",
    "import numpy as np\n",
    "import urllib.request"
   ]
  },
  {
   "cell_type": "code",
   "execution_count": 151,
   "metadata": {},
   "outputs": [],
   "source": [
    "source = urllib.request.urlopen('http://quotes.toscrape.com').read()"
   ]
  },
  {
   "cell_type": "code",
   "execution_count": 20,
   "metadata": {},
   "outputs": [],
   "source": [
    "soup = bs.BeautifulSoup(source, 'html.parser')"
   ]
  },
  {
   "cell_type": "code",
   "execution_count": 21,
   "metadata": {},
   "outputs": [
    {
     "data": {
      "text/plain": [
       "<title>Quotes to Scrape</title>"
      ]
     },
     "execution_count": 21,
     "metadata": {},
     "output_type": "execute_result"
    }
   ],
   "source": [
    "soup.title"
   ]
  },
  {
   "cell_type": "code",
   "execution_count": 87,
   "metadata": {},
   "outputs": [],
   "source": [
    "data = soup.find_all('div', attrs = {'class':'row','class':'quote'})\n",
    "#authors = soup.find_all_next('div', class_ = 'quote')\n",
    "authors = soup.find_all('div', attrs={'class':'quote'})\n"
   ]
  },
  {
   "cell_type": "code",
   "execution_count": null,
   "metadata": {},
   "outputs": [],
   "source": []
  },
  {
   "cell_type": "code",
   "execution_count": 90,
   "metadata": {},
   "outputs": [
    {
     "data": {
      "text/plain": [
       "list"
      ]
     },
     "execution_count": 90,
     "metadata": {},
     "output_type": "execute_result"
    }
   ],
   "source": [
    "quotes = []\n",
    "authors_all = []\n",
    "articles = []\n",
    "for i in data:\n",
    "    text = i.find_all('span', class_='text')\n",
    "    for j in text:\n",
    "        quotes.append(j.text.strip())\n",
    "\n",
    "\n",
    "articles.append({\n",
    "    'quote':quotes,\n",
    "    'author':authors_all\n",
    "})\n",
    "    \n",
    "    \n",
    "type(quotes)"
   ]
  },
  {
   "cell_type": "code",
   "execution_count": 85,
   "metadata": {},
   "outputs": [
    {
     "name": "stdout",
     "output_type": "stream",
     "text": [
      "[<small class=\"author\" itemprop=\"author\">Albert Einstein</small>]\n",
      "[<small class=\"author\" itemprop=\"author\">Albert Einstein</small>]\n",
      "[<small class=\"author\" itemprop=\"author\">Albert Einstein</small>]\n",
      "[<small class=\"author\" itemprop=\"author\">Albert Einstein</small>]\n",
      "[<small class=\"author\" itemprop=\"author\">Albert Einstein</small>]\n",
      "[<small class=\"author\" itemprop=\"author\">Albert Einstein</small>]\n",
      "[<small class=\"author\" itemprop=\"author\">Albert Einstein</small>]\n",
      "[<small class=\"author\" itemprop=\"author\">Albert Einstein</small>]\n",
      "[<small class=\"author\" itemprop=\"author\">Albert Einstein</small>]\n",
      "[<small class=\"author\" itemprop=\"author\">Albert Einstein</small>]\n"
     ]
    }
   ],
   "source": [
    "quotes = []\n",
    "authors_all = []\n",
    "articles = []\n",
    "for i in data:\n",
    "    text = i.find('span', class_='text')\n",
    "    quotes.append(text.text.strip())\n",
    "    authors = soup.find('div', class_='quote')\n",
    "   # print(authors)\n",
    "    author_data = authors.find_all('small', class_='author')\n",
    "    print(author_data)\n",
    " #   for j in author_data:\n",
    "  #      print(j.text)\n",
    "#    print(author_data.text)\n",
    "    \n",
    "#    authors_span = authors.find('small') \n",
    "#    print(authors_span)\n",
    "   # authors_all.append(authors_span.text)\n",
    "\n",
    "\n",
    "\n",
    "\n",
    "articles.append({\n",
    "    'quote':quotes,\n",
    "    'author':authors_all\n",
    "})\n",
    "    \n",
    "    \n",
    "#articles"
   ]
  },
  {
   "cell_type": "code",
   "execution_count": 99,
   "metadata": {},
   "outputs": [
    {
     "data": {
      "text/html": [
       "<div>\n",
       "<style scoped>\n",
       "    .dataframe tbody tr th:only-of-type {\n",
       "        vertical-align: middle;\n",
       "    }\n",
       "\n",
       "    .dataframe tbody tr th {\n",
       "        vertical-align: top;\n",
       "    }\n",
       "\n",
       "    .dataframe thead th {\n",
       "        text-align: right;\n",
       "    }\n",
       "</style>\n",
       "<table border=\"1\" class=\"dataframe\">\n",
       "  <thead>\n",
       "    <tr style=\"text-align: right;\">\n",
       "      <th></th>\n",
       "      <th>0</th>\n",
       "      <th>Authors</th>\n",
       "    </tr>\n",
       "  </thead>\n",
       "  <tbody>\n",
       "    <tr>\n",
       "      <th>0</th>\n",
       "      <td>“The world as we have created it is a process ...</td>\n",
       "      <td>Albert Einstein</td>\n",
       "    </tr>\n",
       "    <tr>\n",
       "      <th>1</th>\n",
       "      <td>“It is our choices, Harry, that show what we t...</td>\n",
       "      <td>J.K. Rowling</td>\n",
       "    </tr>\n",
       "    <tr>\n",
       "      <th>2</th>\n",
       "      <td>“There are only two ways to live your life. On...</td>\n",
       "      <td>Albert Einstein</td>\n",
       "    </tr>\n",
       "    <tr>\n",
       "      <th>3</th>\n",
       "      <td>“The person, be it gentleman or lady, who has ...</td>\n",
       "      <td>Jane Austen</td>\n",
       "    </tr>\n",
       "    <tr>\n",
       "      <th>4</th>\n",
       "      <td>“Imperfection is beauty, madness is genius and...</td>\n",
       "      <td>Marilyn Monroe</td>\n",
       "    </tr>\n",
       "    <tr>\n",
       "      <th>5</th>\n",
       "      <td>“Try not to become a man of success. Rather be...</td>\n",
       "      <td>Albert Einstein</td>\n",
       "    </tr>\n",
       "    <tr>\n",
       "      <th>6</th>\n",
       "      <td>“It is better to be hated for what you are tha...</td>\n",
       "      <td>André Gide</td>\n",
       "    </tr>\n",
       "    <tr>\n",
       "      <th>7</th>\n",
       "      <td>“I have not failed. I've just found 10,000 way...</td>\n",
       "      <td>Thomas A. Edison</td>\n",
       "    </tr>\n",
       "    <tr>\n",
       "      <th>8</th>\n",
       "      <td>“A woman is like a tea bag; you never know how...</td>\n",
       "      <td>Eleanor Roosevelt</td>\n",
       "    </tr>\n",
       "    <tr>\n",
       "      <th>9</th>\n",
       "      <td>“A day without sunshine is like, you know, nig...</td>\n",
       "      <td>Steve Martin</td>\n",
       "    </tr>\n",
       "  </tbody>\n",
       "</table>\n",
       "</div>"
      ],
      "text/plain": [
       "                                                   0            Authors\n",
       "0  “The world as we have created it is a process ...    Albert Einstein\n",
       "1  “It is our choices, Harry, that show what we t...       J.K. Rowling\n",
       "2  “There are only two ways to live your life. On...    Albert Einstein\n",
       "3  “The person, be it gentleman or lady, who has ...        Jane Austen\n",
       "4  “Imperfection is beauty, madness is genius and...     Marilyn Monroe\n",
       "5  “Try not to become a man of success. Rather be...    Albert Einstein\n",
       "6  “It is better to be hated for what you are tha...         André Gide\n",
       "7  “I have not failed. I've just found 10,000 way...   Thomas A. Edison\n",
       "8  “A woman is like a tea bag; you never know how...  Eleanor Roosevelt\n",
       "9  “A day without sunshine is like, you know, nig...       Steve Martin"
      ]
     },
     "execution_count": 99,
     "metadata": {},
     "output_type": "execute_result"
    }
   ],
   "source": [
    "#all_quotes = pd.DataFrame(quotes)\n",
    "#all_quotes['Authors'] = authors_all\n",
    "all_quotes"
   ]
  },
  {
   "cell_type": "markdown",
   "metadata": {},
   "source": [
    "# Creating a DataFrame with Quotes and Authors' names"
   ]
  },
  {
   "cell_type": "code",
   "execution_count": 102,
   "metadata": {},
   "outputs": [],
   "source": [
    "all_quotes.rename(columns={0:'Quotes'}, inplace=True)"
   ]
  },
  {
   "cell_type": "code",
   "execution_count": 103,
   "metadata": {},
   "outputs": [
    {
     "data": {
      "text/html": [
       "<div>\n",
       "<style scoped>\n",
       "    .dataframe tbody tr th:only-of-type {\n",
       "        vertical-align: middle;\n",
       "    }\n",
       "\n",
       "    .dataframe tbody tr th {\n",
       "        vertical-align: top;\n",
       "    }\n",
       "\n",
       "    .dataframe thead th {\n",
       "        text-align: right;\n",
       "    }\n",
       "</style>\n",
       "<table border=\"1\" class=\"dataframe\">\n",
       "  <thead>\n",
       "    <tr style=\"text-align: right;\">\n",
       "      <th></th>\n",
       "      <th>Quotes</th>\n",
       "      <th>Authors</th>\n",
       "    </tr>\n",
       "  </thead>\n",
       "  <tbody>\n",
       "    <tr>\n",
       "      <th>0</th>\n",
       "      <td>“The world as we have created it is a process ...</td>\n",
       "      <td>Albert Einstein</td>\n",
       "    </tr>\n",
       "    <tr>\n",
       "      <th>1</th>\n",
       "      <td>“It is our choices, Harry, that show what we t...</td>\n",
       "      <td>J.K. Rowling</td>\n",
       "    </tr>\n",
       "    <tr>\n",
       "      <th>2</th>\n",
       "      <td>“There are only two ways to live your life. On...</td>\n",
       "      <td>Albert Einstein</td>\n",
       "    </tr>\n",
       "    <tr>\n",
       "      <th>3</th>\n",
       "      <td>“The person, be it gentleman or lady, who has ...</td>\n",
       "      <td>Jane Austen</td>\n",
       "    </tr>\n",
       "    <tr>\n",
       "      <th>4</th>\n",
       "      <td>“Imperfection is beauty, madness is genius and...</td>\n",
       "      <td>Marilyn Monroe</td>\n",
       "    </tr>\n",
       "    <tr>\n",
       "      <th>5</th>\n",
       "      <td>“Try not to become a man of success. Rather be...</td>\n",
       "      <td>Albert Einstein</td>\n",
       "    </tr>\n",
       "    <tr>\n",
       "      <th>6</th>\n",
       "      <td>“It is better to be hated for what you are tha...</td>\n",
       "      <td>André Gide</td>\n",
       "    </tr>\n",
       "    <tr>\n",
       "      <th>7</th>\n",
       "      <td>“I have not failed. I've just found 10,000 way...</td>\n",
       "      <td>Thomas A. Edison</td>\n",
       "    </tr>\n",
       "    <tr>\n",
       "      <th>8</th>\n",
       "      <td>“A woman is like a tea bag; you never know how...</td>\n",
       "      <td>Eleanor Roosevelt</td>\n",
       "    </tr>\n",
       "    <tr>\n",
       "      <th>9</th>\n",
       "      <td>“A day without sunshine is like, you know, nig...</td>\n",
       "      <td>Steve Martin</td>\n",
       "    </tr>\n",
       "  </tbody>\n",
       "</table>\n",
       "</div>"
      ],
      "text/plain": [
       "                                              Quotes            Authors\n",
       "0  “The world as we have created it is a process ...    Albert Einstein\n",
       "1  “It is our choices, Harry, that show what we t...       J.K. Rowling\n",
       "2  “There are only two ways to live your life. On...    Albert Einstein\n",
       "3  “The person, be it gentleman or lady, who has ...        Jane Austen\n",
       "4  “Imperfection is beauty, madness is genius and...     Marilyn Monroe\n",
       "5  “Try not to become a man of success. Rather be...    Albert Einstein\n",
       "6  “It is better to be hated for what you are tha...         André Gide\n",
       "7  “I have not failed. I've just found 10,000 way...   Thomas A. Edison\n",
       "8  “A woman is like a tea bag; you never know how...  Eleanor Roosevelt\n",
       "9  “A day without sunshine is like, you know, nig...       Steve Martin"
      ]
     },
     "execution_count": 103,
     "metadata": {},
     "output_type": "execute_result"
    }
   ],
   "source": [
    "all_quotes"
   ]
  },
  {
   "cell_type": "markdown",
   "metadata": {},
   "source": [
    "# Getting the list of names of Authors"
   ]
  },
  {
   "cell_type": "code",
   "execution_count": 96,
   "metadata": {},
   "outputs": [
    {
     "data": {
      "text/plain": [
       "['Albert Einstein',\n",
       " 'J.K. Rowling',\n",
       " 'Albert Einstein',\n",
       " 'Jane Austen',\n",
       " 'Marilyn Monroe',\n",
       " 'Albert Einstein',\n",
       " 'André Gide',\n",
       " 'Thomas A. Edison',\n",
       " 'Eleanor Roosevelt',\n",
       " 'Steve Martin']"
      ]
     },
     "execution_count": 96,
     "metadata": {},
     "output_type": "execute_result"
    }
   ],
   "source": [
    "for i in authors:\n",
    "    authors_span = i.find('small') if authors else None\n",
    "    authors_all.append(authors_span.text)\n",
    "authors_all"
   ]
  },
  {
   "cell_type": "markdown",
   "metadata": {},
   "source": [
    "# Creating a dictionary of Quotes and Authors' names:  articles"
   ]
  },
  {
   "cell_type": "code",
   "execution_count": 54,
   "metadata": {},
   "outputs": [],
   "source": [
    "quotes = []\n",
    "authors_all = []\n",
    "articles = []\n",
    "\n",
    "for i in data:\n",
    "    text = i.find_all('span', class_='text')\n",
    "    for j in text:\n",
    "        quotes.append(j.text.strip())\n",
    "\n",
    "for i in authors:\n",
    "    authors_span = i.find('small') if authors else None\n",
    "    authors_all.append(authors_span.text)\n",
    "\n",
    "articles.append({\n",
    "    'quote':quotes,\n",
    "    'author':authors_all\n",
    "})\n",
    "    \n",
    "\n",
    "#print(quotes)\n",
    "#print(authors_all)"
   ]
  },
  {
   "cell_type": "code",
   "execution_count": 55,
   "metadata": {},
   "outputs": [
    {
     "data": {
      "text/plain": [
       "[{'quote': ['“The world as we have created it is a process of our thinking. It cannot be changed without changing our thinking.”',\n",
       "   '“It is our choices, Harry, that show what we truly are, far more than our abilities.”',\n",
       "   '“There are only two ways to live your life. One is as though nothing is a miracle. The other is as though everything is a miracle.”',\n",
       "   '“The person, be it gentleman or lady, who has not pleasure in a good novel, must be intolerably stupid.”',\n",
       "   \"“Imperfection is beauty, madness is genius and it's better to be absolutely ridiculous than absolutely boring.”\",\n",
       "   '“Try not to become a man of success. Rather become a man of value.”',\n",
       "   '“It is better to be hated for what you are than to be loved for what you are not.”',\n",
       "   \"“I have not failed. I've just found 10,000 ways that won't work.”\",\n",
       "   \"“A woman is like a tea bag; you never know how strong it is until it's in hot water.”\",\n",
       "   '“A day without sunshine is like, you know, night.”'],\n",
       "  'author': ['Albert Einstein',\n",
       "   'J.K. Rowling',\n",
       "   'Albert Einstein',\n",
       "   'Jane Austen',\n",
       "   'Marilyn Monroe',\n",
       "   'Albert Einstein',\n",
       "   'André Gide',\n",
       "   'Thomas A. Edison',\n",
       "   'Eleanor Roosevelt',\n",
       "   'Steve Martin']}]"
      ]
     },
     "execution_count": 55,
     "metadata": {},
     "output_type": "execute_result"
    }
   ],
   "source": [
    "articles"
   ]
  },
  {
   "cell_type": "code",
   "execution_count": 15,
   "metadata": {
    "collapsed": true
   },
   "outputs": [
    {
     "name": "stdout",
     "output_type": "stream",
     "text": [
      "Now scraping page: http://quotes.toscrape.com/\n",
      "Now scraping page: http://quotes.toscrape.com/page/2/\n",
      "Now scraping page: http://quotes.toscrape.com/page/3/\n",
      "Now scraping page: http://quotes.toscrape.com/page/4/\n",
      "Now scraping page: http://quotes.toscrape.com/page/5/\n",
      "Now scraping page: http://quotes.toscrape.com/page/6/\n",
      "Now scraping page: http://quotes.toscrape.com/page/7/\n",
      "Now scraping page: http://quotes.toscrape.com/page/8/\n",
      "Now scraping page: http://quotes.toscrape.com/page/9/\n",
      "Now scraping page: http://quotes.toscrape.com/page/10/\n",
      "Now scraping author: http://quotes.toscrape.com/author/Charles-Bukowski\n",
      "Now scraping author: http://quotes.toscrape.com/author/Steve-Martin\n",
      "Now scraping author: http://quotes.toscrape.com/author/Dr-Seuss\n",
      "Now scraping author: http://quotes.toscrape.com/author/J-K-Rowling\n",
      "Now scraping author: http://quotes.toscrape.com/author/Alexandre-Dumas-fils\n",
      "Now scraping author: http://quotes.toscrape.com/author/Harper-Lee\n",
      "Now scraping author: http://quotes.toscrape.com/author/William-Nicholson\n",
      "Now scraping author: http://quotes.toscrape.com/author/E-E-Cummings\n",
      "Now scraping author: http://quotes.toscrape.com/author/Eleanor-Roosevelt\n",
      "Now scraping author: http://quotes.toscrape.com/author/John-Lennon\n",
      "Now scraping author: http://quotes.toscrape.com/author/J-D-Salinger\n",
      "Now scraping author: http://quotes.toscrape.com/author/George-Eliot\n",
      "Now scraping author: http://quotes.toscrape.com/author/Ayn-Rand\n",
      "Now scraping author: http://quotes.toscrape.com/author/Haruki-Murakami\n",
      "Now scraping author: http://quotes.toscrape.com/author/Andre-Gide\n",
      "Now scraping author: http://quotes.toscrape.com/author/Martin-Luther-King-Jr\n",
      "Now scraping author: http://quotes.toscrape.com/author/Albert-Einstein\n",
      "Now scraping author: http://quotes.toscrape.com/author/W-C-Fields\n",
      "Now scraping author: http://quotes.toscrape.com/author/Allen-Saunders\n",
      "Now scraping author: http://quotes.toscrape.com/author/Jane-Austen\n",
      "Now scraping author: http://quotes.toscrape.com/author/George-Carlin\n",
      "Now scraping author: http://quotes.toscrape.com/author/C-S-Lewis\n",
      "Now scraping author: http://quotes.toscrape.com/author/Terry-Pratchett\n",
      "Now scraping author: http://quotes.toscrape.com/author/Ralph-Waldo-Emerson\n",
      "Now scraping author: http://quotes.toscrape.com/author/Mother-Teresa\n",
      "Now scraping author: http://quotes.toscrape.com/author/Elie-Wiesel\n",
      "Now scraping author: http://quotes.toscrape.com/author/George-Bernard-Shaw\n",
      "Now scraping author: http://quotes.toscrape.com/author/Jorge-Luis-Borges\n",
      "Now scraping author: http://quotes.toscrape.com/author/Stephenie-Meyer\n",
      "Now scraping author: http://quotes.toscrape.com/author/James-Baldwin\n",
      "Now scraping author: http://quotes.toscrape.com/author/Jim-Henson\n",
      "Now scraping author: http://quotes.toscrape.com/author/Douglas-Adams\n",
      "Now scraping author: http://quotes.toscrape.com/author/Jimi-Hendrix\n",
      "Now scraping author: http://quotes.toscrape.com/author/Bob-Marley\n",
      "Now scraping author: http://quotes.toscrape.com/author/Pablo-Neruda\n",
      "Now scraping author: http://quotes.toscrape.com/author/Garrison-Keillor\n",
      "Now scraping author: http://quotes.toscrape.com/author/J-M-Barrie\n",
      "Now scraping author: http://quotes.toscrape.com/author/Khaled-Hosseini\n",
      "Now scraping author: http://quotes.toscrape.com/author/Mark-Twain\n",
      "Now scraping author: http://quotes.toscrape.com/author/Madeleine-LEngle\n",
      "Now scraping author: http://quotes.toscrape.com/author/Suzanne-Collins\n",
      "Now scraping author: http://quotes.toscrape.com/author/Alfred-Tennyson\n",
      "Now scraping author: http://quotes.toscrape.com/author/Marilyn-Monroe\n",
      "Now scraping author: http://quotes.toscrape.com/author/J-R-R-Tolkien\n",
      "Now scraping author: http://quotes.toscrape.com/author/Friedrich-Nietzsche\n",
      "Now scraping author: http://quotes.toscrape.com/author/Ernest-Hemingway\n",
      "Now scraping author: http://quotes.toscrape.com/author/Charles-M-Schulz\n",
      "Now scraping author: http://quotes.toscrape.com/author/Thomas-A-Edison\n",
      "Now scraping author: http://quotes.toscrape.com/author/George-R-R-Martin\n",
      "Now scraping author: http://quotes.toscrape.com/author/Helen-Keller\n"
     ]
    }
   ],
   "source": [
    "import requests\n",
    "import dataset\n",
    "from bs4 import BeautifulSoup\n",
    "from urllib.parse import urljoin, urlparse\n",
    "\n",
    "db = dataset.connect('sqlite:///quotes.db')\n",
    "\n",
    "authors_seen = set()\n",
    "\n",
    "base_url = 'http://quotes.toscrape.com/'\n",
    "\n",
    "def clean_url(url):\n",
    "    # Clean '/author/Steve-Martin' to 'Steve-Martin'\n",
    "    # Use urljoin to make an absolute URL\n",
    "    url = urljoin(base_url, url)\n",
    "    # Use urlparse to get out the path part\n",
    "    path = urlparse(url).path\n",
    "    # Now split the path by '/' and get the second part\n",
    "    # E.g. '/author/Steve-Martin' -> ['', 'author', 'Steve-Martin']\n",
    "    return path.split('/')[2]\n",
    "\n",
    "def scrape_quotes(html_soup):\n",
    "    for quote in html_soup.select('div.quote'):\n",
    "        quote_text = quote.find(class_='text').get_text(strip=True)\n",
    "        quote_author_url = clean_url(quote.find(class_='author').find_next_sibling('a').get('href'))\n",
    "        quote_tag_urls = [clean_url(a.get('href')) for a in quote.find_all('a', class_='tag')]\n",
    "        authors_seen.add(quote_author_url)\n",
    "        # Store this quote and its tags\n",
    "        quote_id = db['quotes'].insert({ 'text' : quote_text,\n",
    "                                         'author' : quote_author_url })\n",
    "        db['quote_tags'].insert_many(\n",
    "                 [{'quote_id' : quote_id, 'tag_id' : tag} for tag in quote_tag_urls])\n",
    "\n",
    "def scrape_author(html_soup, author_id):\n",
    "    author_name = html_soup.find(class_='author-title').get_text(strip=True)\n",
    "    author_born_date = html_soup.find(class_='author-born-date').get_text(strip=True)\n",
    "    author_born_loc = html_soup.find(class_='author-born-location').get_text(strip=True)\n",
    "    author_description = html_soup.find(class_='author-description').get_text(strip=True)\n",
    "    db['authors'].insert({ 'author_id' : author_id,\n",
    "                           'name' : author_name,\n",
    "                           'born_date' : author_born_date,\n",
    "                           'born_location' : author_born_loc,\n",
    "                           'description' : author_description})\n",
    "\n",
    "# Start by scraping all the quote pages\n",
    "url = base_url\n",
    "while True:\n",
    "    print('Now scraping page:', url)\n",
    "    r = requests.get(url)\n",
    "    html_soup = BeautifulSoup(r.text, 'html.parser')\n",
    "    # Scrape the quotes\n",
    "    scrape_quotes(html_soup)\n",
    "    # Is there a next page?\n",
    "    next_a = html_soup.select('li.next > a')\n",
    "    if not next_a or not next_a[0].get('href'):\n",
    "        break\n",
    "    url = urljoin(url, next_a[0].get('href'))\n",
    "\n",
    "# Now fetch out the author information\n",
    "for author_id in authors_seen:\n",
    "    url = urljoin(base_url, '/author/' + author_id)\n",
    "    print('Now scraping author:', url)\n",
    "    r = requests.get(url)\n",
    "    html_soup = BeautifulSoup(r.text, 'html.parser')\n",
    "    # Scrape the author information\n",
    "    scrape_author(html_soup, author_id)"
   ]
  },
  {
   "cell_type": "code",
   "execution_count": null,
   "metadata": {},
   "outputs": [],
   "source": []
  },
  {
   "cell_type": "markdown",
   "metadata": {},
   "source": [
    "# NEW APPROACH- CONSOLIDATED"
   ]
  },
  {
   "cell_type": "code",
   "execution_count": 122,
   "metadata": {},
   "outputs": [],
   "source": [
    "data = soup.find_all('div', attrs = {'class':'row','class':'quote'})\n",
    "#authors = soup.find_all_next('div', class_ = 'quote')\n",
    "authors = soup.find_all('div', attrs={'class':'quote'})\n",
    "\n"
   ]
  },
  {
   "cell_type": "code",
   "execution_count": 13,
   "metadata": {},
   "outputs": [],
   "source": [
    "base_url = 'http://quotes.toscrape.com/'\n",
    "def clean_url(url):\n",
    "    url = urljoin(base_url, url)\n",
    "    path = urlparse(url).path\n",
    "    return url.split('/')[2]\n",
    "\n",
    "    \n",
    "    "
   ]
  },
  {
   "cell_type": "markdown",
   "metadata": {},
   "source": [
    "# Getting the tags and their URLs"
   ]
  },
  {
   "cell_type": "code",
   "execution_count": 115,
   "metadata": {},
   "outputs": [],
   "source": [
    "all_tags = []\n",
    "for i in soup.find_all('div', class_ = 'col-md-4 tags-box'):\n",
    "    tags = i.find_all('a', href = True)\n",
    "    for j in tags:\n",
    "        all_tags.append(j.get('href'))"
   ]
  },
  {
   "cell_type": "code",
   "execution_count": 116,
   "metadata": {},
   "outputs": [],
   "source": [
    "base_url = 'http://quotes.toscrape.com/'\n",
    "tag_urls = []\n",
    "for tag_url in all_tags:\n",
    "    url_tag = urljoin(base_url, tag_url)\n",
    "    tag_urls.append(url_tag)\n"
   ]
  },
  {
   "cell_type": "code",
   "execution_count": 162,
   "metadata": {},
   "outputs": [
    {
     "data": {
      "text/plain": [
       "['http://quotes.toscrape.com/tag/love/',\n",
       " 'http://quotes.toscrape.com/tag/inspirational/',\n",
       " 'http://quotes.toscrape.com/tag/life/',\n",
       " 'http://quotes.toscrape.com/tag/humor/',\n",
       " 'http://quotes.toscrape.com/tag/books/',\n",
       " 'http://quotes.toscrape.com/tag/reading/',\n",
       " 'http://quotes.toscrape.com/tag/friendship/',\n",
       " 'http://quotes.toscrape.com/tag/friends/',\n",
       " 'http://quotes.toscrape.com/tag/truth/',\n",
       " 'http://quotes.toscrape.com/tag/simile/']"
      ]
     },
     "execution_count": 162,
     "metadata": {},
     "output_type": "execute_result"
    }
   ],
   "source": [
    "tag_urls"
   ]
  },
  {
   "cell_type": "markdown",
   "metadata": {},
   "source": [
    "# Getting the quotes text"
   ]
  },
  {
   "cell_type": "code",
   "execution_count": 255,
   "metadata": {},
   "outputs": [
    {
     "name": "stdout",
     "output_type": "stream",
     "text": [
      "10\n"
     ]
    }
   ],
   "source": [
    "for page in tag_urls:\n",
    "    source = urllib.request.urlopen(page).read()\n",
    "    soup = bs.BeautifulSoup(source, 'html.parser')\n",
    "    data = soup.find_all('div', attrs = {'class':'row','class':'col-md-8'})\n",
    "\n",
    "def quotes1():\n",
    "    source = urllib.request.urlopen(\"http://quotes.toscrape.com/tag/love/\").read()\n",
    "    new_list = []\n",
    "    soup = bs.BeautifulSoup(source, 'html.parser')\n",
    "    data = soup.find_all('div', attrs = {'class':'row','class':'col-md-8'})\n",
    "    for i in data:\n",
    "        text = i.find_all('span', class_='text')\n",
    "        for j in text:\n",
    "            new_list.append(j.text.strip())\n",
    "\n",
    "            #print(j.text.strip())\n",
    "\n",
    "    return len(new_list)\n",
    "print(quotes1())"
   ]
  },
  {
   "cell_type": "code",
   "execution_count": 222,
   "metadata": {},
   "outputs": [
    {
     "name": "stdout",
     "output_type": "stream",
     "text": [
      "7\n",
      "7\n",
      "7\n",
      "7\n",
      "7\n",
      "7\n",
      "7\n",
      "7\n",
      "7\n",
      "7\n"
     ]
    }
   ],
   "source": [
    "quotes(data)"
   ]
  },
  {
   "cell_type": "code",
   "execution_count": 204,
   "metadata": {},
   "outputs": [],
   "source": [
    "def author_name(authors):\n",
    "    authors_all11 = []\n",
    "    for i in authors:\n",
    "        authors_span = i.find_all('small')\n",
    "        author_name = (authors_span.text)\n",
    "    return author_name"
   ]
  },
  {
   "cell_type": "markdown",
   "metadata": {},
   "source": [
    "# Main Program"
   ]
  },
  {
   "cell_type": "code",
   "execution_count": 205,
   "metadata": {},
   "outputs": [],
   "source": [
    "quotes_statement = []\n",
    "author_name_new = []\n",
    "for page in tag_urls:\n",
    "#    print(page)\n",
    "    source = urllib.request.urlopen(page).read()\n",
    "    soup = bs.BeautifulSoup(source, 'html.parser')\n",
    "    data = soup.find_all('div', attrs = {'class':'row','class':'quote'})\n",
    "    #authors = soup.find_all('div', attrs={'class':'quote'})\n",
    "    quote_statement.append(quotes(data))\n",
    "#quotes_new.append(quotes(data))\n",
    "#    author_name_new =author_name(authors)\n",
    "\n"
   ]
  },
  {
   "cell_type": "code",
   "execution_count": 208,
   "metadata": {},
   "outputs": [
    {
     "name": "stdout",
     "output_type": "stream",
     "text": [
      "['“A day without sunshine is like', ' you know', ' night.”']\n",
      "['“Life is like riding a bicycle. To keep your balance', ' you must keep moving.”']\n",
      "[\"“He's like a drug for you\", ' Bella.”']\n"
     ]
    },
    {
     "ename": "AttributeError",
     "evalue": "'list' object has no attribute 'split'",
     "output_type": "error",
     "traceback": [
      "\u001b[0;31m---------------------------------------------------------------------------\u001b[0m",
      "\u001b[0;31mAttributeError\u001b[0m                            Traceback (most recent call last)",
      "\u001b[0;32m<ipython-input-208-56a63e7ab628>\u001b[0m in \u001b[0;36m<module>\u001b[0;34m\u001b[0m\n\u001b[1;32m      1\u001b[0m \u001b[0;32mfor\u001b[0m \u001b[0mk\u001b[0m \u001b[0;32min\u001b[0m \u001b[0mquote_statement\u001b[0m\u001b[0;34m:\u001b[0m\u001b[0;34m\u001b[0m\u001b[0;34m\u001b[0m\u001b[0m\n\u001b[0;32m----> 2\u001b[0;31m     \u001b[0mprint\u001b[0m\u001b[0;34m(\u001b[0m\u001b[0mk\u001b[0m\u001b[0;34m.\u001b[0m\u001b[0msplit\u001b[0m\u001b[0;34m(\u001b[0m\u001b[0;34m','\u001b[0m\u001b[0;34m)\u001b[0m\u001b[0;34m)\u001b[0m\u001b[0;34m\u001b[0m\u001b[0;34m\u001b[0m\u001b[0m\n\u001b[0m",
      "\u001b[0;31mAttributeError\u001b[0m: 'list' object has no attribute 'split'"
     ]
    }
   ],
   "source": [
    "for k in quote_statement:\n",
    "    print(k.split(','))"
   ]
  },
  {
   "cell_type": "code",
   "execution_count": 142,
   "metadata": {},
   "outputs": [
    {
     "data": {
      "text/plain": [
       "['“The world as we have created it is a process of our thinking. It cannot be changed without changing our thinking.”',\n",
       " '“It is our choices, Harry, that show what we truly are, far more than our abilities.”',\n",
       " '“There are only two ways to live your life. One is as though nothing is a miracle. The other is as though everything is a miracle.”',\n",
       " '“The person, be it gentleman or lady, who has not pleasure in a good novel, must be intolerably stupid.”',\n",
       " \"“Imperfection is beauty, madness is genius and it's better to be absolutely ridiculous than absolutely boring.”\",\n",
       " '“Try not to become a man of success. Rather become a man of value.”',\n",
       " '“It is better to be hated for what you are than to be loved for what you are not.”',\n",
       " \"“I have not failed. I've just found 10,000 ways that won't work.”\",\n",
       " \"“A woman is like a tea bag; you never know how strong it is until it's in hot water.”\",\n",
       " '“A day without sunshine is like, you know, night.”']"
      ]
     },
     "execution_count": 142,
     "metadata": {},
     "output_type": "execute_result"
    }
   ],
   "source": [
    "quotes1"
   ]
  },
  {
   "cell_type": "code",
   "execution_count": null,
   "metadata": {},
   "outputs": [],
   "source": []
  },
  {
   "cell_type": "code",
   "execution_count": 119,
   "metadata": {},
   "outputs": [
    {
     "ename": "AttributeError",
     "evalue": "'int' object has no attribute 'text'",
     "output_type": "error",
     "traceback": [
      "\u001b[0;31m---------------------------------------------------------------------------\u001b[0m",
      "\u001b[0;31mAttributeError\u001b[0m                            Traceback (most recent call last)",
      "\u001b[0;32m<ipython-input-119-1be11c059295>\u001b[0m in \u001b[0;36m<module>\u001b[0;34m\u001b[0m\n\u001b[1;32m     10\u001b[0m \u001b[0;32mfor\u001b[0m \u001b[0mi\u001b[0m \u001b[0;32min\u001b[0m \u001b[0mauthors\u001b[0m\u001b[0;34m:\u001b[0m\u001b[0;34m\u001b[0m\u001b[0;34m\u001b[0m\u001b[0m\n\u001b[1;32m     11\u001b[0m     \u001b[0mauthors_span\u001b[0m \u001b[0;34m=\u001b[0m \u001b[0mi\u001b[0m\u001b[0;34m.\u001b[0m\u001b[0mfind\u001b[0m\u001b[0;34m(\u001b[0m\u001b[0;34m'small'\u001b[0m\u001b[0;34m)\u001b[0m \u001b[0;32mif\u001b[0m \u001b[0mauthors\u001b[0m \u001b[0;32melse\u001b[0m \u001b[0;32mNone\u001b[0m\u001b[0;34m\u001b[0m\u001b[0;34m\u001b[0m\u001b[0m\n\u001b[0;32m---> 12\u001b[0;31m     \u001b[0mauthors_all\u001b[0m\u001b[0;34m.\u001b[0m\u001b[0mappend\u001b[0m\u001b[0;34m(\u001b[0m\u001b[0mauthors_span\u001b[0m\u001b[0;34m.\u001b[0m\u001b[0mtext\u001b[0m\u001b[0;34m)\u001b[0m\u001b[0;34m\u001b[0m\u001b[0;34m\u001b[0m\u001b[0m\n\u001b[0m\u001b[1;32m     13\u001b[0m \u001b[0;34m\u001b[0m\u001b[0m\n\u001b[1;32m     14\u001b[0m articles.append({\n",
      "\u001b[0;31mAttributeError\u001b[0m: 'int' object has no attribute 'text'"
     ]
    }
   ],
   "source": [
    "quotes = []\n",
    "authors_all = []\n",
    "articles = []\n",
    "\n",
    "for i in data:\n",
    "    text = i.find_all('span', class_='text')\n",
    "    for j in text:\n",
    "        quotes.append(j.text.strip())\n",
    "\n",
    "for i in authors:\n",
    "    authors_span = i.find('small') if authors else None\n",
    "    authors_all.append(authors_span.text)\n",
    "\n",
    "articles.append({\n",
    "    'quote':quotes,\n",
    "    'author':authors_all\n",
    "})"
   ]
  },
  {
   "cell_type": "code",
   "execution_count": null,
   "metadata": {},
   "outputs": [],
   "source": [
    "quotes = []\n",
    "authors_all = []\n",
    "articles = []\n",
    "for i in data:\n",
    "    text = i.find_all('span', class_='text')\n",
    "    for j in text:\n",
    "        quotes.append(j.text.strip())"
   ]
  },
  {
   "cell_type": "code",
   "execution_count": null,
   "metadata": {},
   "outputs": [],
   "source": []
  },
  {
   "cell_type": "code",
   "execution_count": null,
   "metadata": {},
   "outputs": [],
   "source": []
  },
  {
   "cell_type": "code",
   "execution_count": null,
   "metadata": {},
   "outputs": [],
   "source": []
  },
  {
   "cell_type": "code",
   "execution_count": 268,
   "metadata": {},
   "outputs": [
    {
     "name": "stdout",
     "output_type": "stream",
     "text": [
      "http://quotes.toscrape.com/page/2/\n",
      "http://quotes.toscrape.com/page/2/\n",
      "http://quotes.toscrape.com/page/2/\n",
      "http://quotes.toscrape.com/page/2/\n",
      "http://quotes.toscrape.com/page/2/\n",
      "http://quotes.toscrape.com/page/2/\n",
      "http://quotes.toscrape.com/page/2/\n",
      "http://quotes.toscrape.com/page/2/\n",
      "http://quotes.toscrape.com/page/2/\n",
      "http://quotes.toscrape.com/page/2/\n"
     ]
    }
   ],
   "source": [
    "import pandas as pd\n",
    "import numpy as np\n",
    "import bs4 as bs\n",
    "import urllib.request\n",
    "from urllib.parse import urlparse, urljoin\n",
    "\n",
    "\n",
    "base_url = 'http://quotes.toscrape.com/'\n",
    "source = urllib.request.urlopen(base_url).read()\n",
    "soup = bs.BeautifulSoup(source, 'html.parser')\n",
    "\n",
    "\n",
    "#function to get the quotes text from the webpage\n",
    "def quotes(url):\n",
    "    new_list = []\n",
    "    source = urllib.request.urlopen(url).read()\n",
    "    soup = bs.BeautifulSoup(source, 'html.parser')\n",
    "    data = soup.find_all('div', attrs = {'class':'row','class':'col-md-8'})\n",
    "    for i in data:\n",
    "        text = i.find_all('span', class_='text')\n",
    "        for j in text:\n",
    "            new_list.append(j.text.strip())\n",
    "\n",
    "    return new_list\n",
    "\n",
    "# Getting the URLs\n",
    "def get_urls(soup):\n",
    "    all_tags = []\n",
    "    for i in soup.find_all('div', class_ = 'col-md-4 tags-box'):\n",
    "        tags = i.find_all('a', href = True)\n",
    "        for j in tags:\n",
    "            all_tags.append(j.get('href'))\n",
    "    base_url = 'http://quotes.toscrape.com/'\n",
    "    tag_urls = []\n",
    "    for tag_url in all_tags:\n",
    "        url_tag = urljoin(base_url, tag_url)\n",
    "        tag_urls.append(url_tag)\n",
    "    return tag_urls\n",
    "\n",
    "\n",
    "#Main function\n",
    "all_quotes = []\n",
    "urls = get_urls(soup)\n",
    "for url in urls:\n",
    "    quote_l = quotes(url)\n",
    "    next_page = soup.select('li.next > a')\n",
    "    if not next_page or not next_page[0].get('href'):\n",
    "        break\n",
    "    else:\n",
    "        new_url = urljoin(url,next_page[0].get('href'))\n",
    "        print(new_url)\n",
    "    \n",
    "    all_quotes.append(quote_l)\n",
    "#print(next_page[0].get('href'))\n",
    "    #print(len(all_quotes))\n",
    "\n",
    "#quotes_to_scrap = pd.DataFrame()\n",
    "quotes_to_scrap['Quotes'] = all_quotes\n",
    "\n",
    "\n",
    "\n",
    "\n",
    "\n",
    "\n",
    "\n"
   ]
  },
  {
   "cell_type": "code",
   "execution_count": 263,
   "metadata": {},
   "outputs": [
    {
     "data": {
      "text/plain": [
       "(10, 1)"
      ]
     },
     "execution_count": 263,
     "metadata": {},
     "output_type": "execute_result"
    }
   ],
   "source": [
    "quotes_to_scrap.shape"
   ]
  },
  {
   "cell_type": "code",
   "execution_count": null,
   "metadata": {},
   "outputs": [],
   "source": []
  }
 ],
 "metadata": {
  "kernelspec": {
   "display_name": "Python 3",
   "language": "python",
   "name": "python3"
  },
  "language_info": {
   "codemirror_mode": {
    "name": "ipython",
    "version": 3
   },
   "file_extension": ".py",
   "mimetype": "text/x-python",
   "name": "python",
   "nbconvert_exporter": "python",
   "pygments_lexer": "ipython3",
   "version": "3.7.6"
  }
 },
 "nbformat": 4,
 "nbformat_minor": 4
}
