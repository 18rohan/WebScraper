{
 "cells": [
  {
   "cell_type": "code",
   "execution_count": 511,
   "metadata": {},
   "outputs": [],
   "source": [
    "import bs4 as bs\n",
    "import pandas as pd\n",
    "import numpy as np\n",
    "import urllib.request"
   ]
  },
  {
   "cell_type": "code",
   "execution_count": 512,
   "metadata": {},
   "outputs": [],
   "source": [
    "source = urllib.request.urlopen('http://quotes.toscrape.com').read()"
   ]
  },
  {
   "cell_type": "code",
   "execution_count": 513,
   "metadata": {},
   "outputs": [],
   "source": [
    "soup = bs.BeautifulSoup(source, 'html.parser')"
   ]
  },
  {
   "cell_type": "code",
   "execution_count": 514,
   "metadata": {},
   "outputs": [
    {
     "data": {
      "text/plain": [
       "<title>Quotes to Scrape</title>"
      ]
     },
     "execution_count": 514,
     "metadata": {},
     "output_type": "execute_result"
    }
   ],
   "source": [
    "soup.title"
   ]
  },
  {
   "cell_type": "code",
   "execution_count": 515,
   "metadata": {},
   "outputs": [],
   "source": [
    "data = soup.find_all('div', attrs = {'class':'row','class':'quote'})\n",
    "#authors = soup.find_all_next('div', class_ = 'quote')\n",
    "authors = soup.find_all('div', attrs={'class':'quote'})\n"
   ]
  },
  {
   "cell_type": "code",
   "execution_count": null,
   "metadata": {},
   "outputs": [],
   "source": []
  },
  {
   "cell_type": "code",
   "execution_count": 90,
   "metadata": {},
   "outputs": [
    {
     "data": {
      "text/plain": [
       "list"
      ]
     },
     "execution_count": 90,
     "metadata": {},
     "output_type": "execute_result"
    }
   ],
   "source": [
    "quotes = []\n",
    "authors_all = []\n",
    "articles = []\n",
    "for i in data:\n",
    "    text = i.find_all('span', class_='text')\n",
    "    for j in text:\n",
    "        quotes.append(j.text.strip())\n",
    "\n",
    "\n",
    "articles.append({\n",
    "    'quote':quotes,\n",
    "    'author':authors_all\n",
    "})\n",
    "    \n",
    "    \n",
    "type(quotes)"
   ]
  },
  {
   "cell_type": "code",
   "execution_count": 85,
   "metadata": {},
   "outputs": [
    {
     "name": "stdout",
     "output_type": "stream",
     "text": [
      "[<small class=\"author\" itemprop=\"author\">Albert Einstein</small>]\n",
      "[<small class=\"author\" itemprop=\"author\">Albert Einstein</small>]\n",
      "[<small class=\"author\" itemprop=\"author\">Albert Einstein</small>]\n",
      "[<small class=\"author\" itemprop=\"author\">Albert Einstein</small>]\n",
      "[<small class=\"author\" itemprop=\"author\">Albert Einstein</small>]\n",
      "[<small class=\"author\" itemprop=\"author\">Albert Einstein</small>]\n",
      "[<small class=\"author\" itemprop=\"author\">Albert Einstein</small>]\n",
      "[<small class=\"author\" itemprop=\"author\">Albert Einstein</small>]\n",
      "[<small class=\"author\" itemprop=\"author\">Albert Einstein</small>]\n",
      "[<small class=\"author\" itemprop=\"author\">Albert Einstein</small>]\n"
     ]
    }
   ],
   "source": [
    "quotes = []\n",
    "authors_all = []\n",
    "articles = []\n",
    "for i in data:\n",
    "    text = i.find('span', class_='text')\n",
    "    quotes.append(text.text.strip())\n",
    "    authors = soup.find('div', class_='quote')\n",
    "   # print(authors)\n",
    "    author_data = authors.find_all('small', class_='author')\n",
    "    print(author_data)\n",
    " #   for j in author_data:\n",
    "  #      print(j.text)\n",
    "#    print(author_data.text)\n",
    "    \n",
    "#    authors_span = authors.find('small') \n",
    "#    print(authors_span)\n",
    "   # authors_all.append(authors_span.text)\n",
    "\n",
    "\n",
    "\n",
    "\n",
    "articles.append({\n",
    "    'quote':quotes,\n",
    "    'author':authors_all\n",
    "})\n",
    "    \n",
    "    \n",
    "#articles"
   ]
  },
  {
   "cell_type": "code",
   "execution_count": 99,
   "metadata": {},
   "outputs": [
    {
     "data": {
      "text/html": [
       "<div>\n",
       "<style scoped>\n",
       "    .dataframe tbody tr th:only-of-type {\n",
       "        vertical-align: middle;\n",
       "    }\n",
       "\n",
       "    .dataframe tbody tr th {\n",
       "        vertical-align: top;\n",
       "    }\n",
       "\n",
       "    .dataframe thead th {\n",
       "        text-align: right;\n",
       "    }\n",
       "</style>\n",
       "<table border=\"1\" class=\"dataframe\">\n",
       "  <thead>\n",
       "    <tr style=\"text-align: right;\">\n",
       "      <th></th>\n",
       "      <th>0</th>\n",
       "      <th>Authors</th>\n",
       "    </tr>\n",
       "  </thead>\n",
       "  <tbody>\n",
       "    <tr>\n",
       "      <th>0</th>\n",
       "      <td>“The world as we have created it is a process ...</td>\n",
       "      <td>Albert Einstein</td>\n",
       "    </tr>\n",
       "    <tr>\n",
       "      <th>1</th>\n",
       "      <td>“It is our choices, Harry, that show what we t...</td>\n",
       "      <td>J.K. Rowling</td>\n",
       "    </tr>\n",
       "    <tr>\n",
       "      <th>2</th>\n",
       "      <td>“There are only two ways to live your life. On...</td>\n",
       "      <td>Albert Einstein</td>\n",
       "    </tr>\n",
       "    <tr>\n",
       "      <th>3</th>\n",
       "      <td>“The person, be it gentleman or lady, who has ...</td>\n",
       "      <td>Jane Austen</td>\n",
       "    </tr>\n",
       "    <tr>\n",
       "      <th>4</th>\n",
       "      <td>“Imperfection is beauty, madness is genius and...</td>\n",
       "      <td>Marilyn Monroe</td>\n",
       "    </tr>\n",
       "    <tr>\n",
       "      <th>5</th>\n",
       "      <td>“Try not to become a man of success. Rather be...</td>\n",
       "      <td>Albert Einstein</td>\n",
       "    </tr>\n",
       "    <tr>\n",
       "      <th>6</th>\n",
       "      <td>“It is better to be hated for what you are tha...</td>\n",
       "      <td>André Gide</td>\n",
       "    </tr>\n",
       "    <tr>\n",
       "      <th>7</th>\n",
       "      <td>“I have not failed. I've just found 10,000 way...</td>\n",
       "      <td>Thomas A. Edison</td>\n",
       "    </tr>\n",
       "    <tr>\n",
       "      <th>8</th>\n",
       "      <td>“A woman is like a tea bag; you never know how...</td>\n",
       "      <td>Eleanor Roosevelt</td>\n",
       "    </tr>\n",
       "    <tr>\n",
       "      <th>9</th>\n",
       "      <td>“A day without sunshine is like, you know, nig...</td>\n",
       "      <td>Steve Martin</td>\n",
       "    </tr>\n",
       "  </tbody>\n",
       "</table>\n",
       "</div>"
      ],
      "text/plain": [
       "                                                   0            Authors\n",
       "0  “The world as we have created it is a process ...    Albert Einstein\n",
       "1  “It is our choices, Harry, that show what we t...       J.K. Rowling\n",
       "2  “There are only two ways to live your life. On...    Albert Einstein\n",
       "3  “The person, be it gentleman or lady, who has ...        Jane Austen\n",
       "4  “Imperfection is beauty, madness is genius and...     Marilyn Monroe\n",
       "5  “Try not to become a man of success. Rather be...    Albert Einstein\n",
       "6  “It is better to be hated for what you are tha...         André Gide\n",
       "7  “I have not failed. I've just found 10,000 way...   Thomas A. Edison\n",
       "8  “A woman is like a tea bag; you never know how...  Eleanor Roosevelt\n",
       "9  “A day without sunshine is like, you know, nig...       Steve Martin"
      ]
     },
     "execution_count": 99,
     "metadata": {},
     "output_type": "execute_result"
    }
   ],
   "source": [
    "#all_quotes = pd.DataFrame(quotes)\n",
    "#all_quotes['Authors'] = authors_all\n",
    "all_quotes"
   ]
  },
  {
   "cell_type": "markdown",
   "metadata": {},
   "source": [
    "# Creating a DataFrame with Quotes and Authors' names"
   ]
  },
  {
   "cell_type": "code",
   "execution_count": 102,
   "metadata": {},
   "outputs": [],
   "source": [
    "all_quotes.rename(columns={0:'Quotes'}, inplace=True)"
   ]
  },
  {
   "cell_type": "code",
   "execution_count": 103,
   "metadata": {},
   "outputs": [
    {
     "data": {
      "text/html": [
       "<div>\n",
       "<style scoped>\n",
       "    .dataframe tbody tr th:only-of-type {\n",
       "        vertical-align: middle;\n",
       "    }\n",
       "\n",
       "    .dataframe tbody tr th {\n",
       "        vertical-align: top;\n",
       "    }\n",
       "\n",
       "    .dataframe thead th {\n",
       "        text-align: right;\n",
       "    }\n",
       "</style>\n",
       "<table border=\"1\" class=\"dataframe\">\n",
       "  <thead>\n",
       "    <tr style=\"text-align: right;\">\n",
       "      <th></th>\n",
       "      <th>Quotes</th>\n",
       "      <th>Authors</th>\n",
       "    </tr>\n",
       "  </thead>\n",
       "  <tbody>\n",
       "    <tr>\n",
       "      <th>0</th>\n",
       "      <td>“The world as we have created it is a process ...</td>\n",
       "      <td>Albert Einstein</td>\n",
       "    </tr>\n",
       "    <tr>\n",
       "      <th>1</th>\n",
       "      <td>“It is our choices, Harry, that show what we t...</td>\n",
       "      <td>J.K. Rowling</td>\n",
       "    </tr>\n",
       "    <tr>\n",
       "      <th>2</th>\n",
       "      <td>“There are only two ways to live your life. On...</td>\n",
       "      <td>Albert Einstein</td>\n",
       "    </tr>\n",
       "    <tr>\n",
       "      <th>3</th>\n",
       "      <td>“The person, be it gentleman or lady, who has ...</td>\n",
       "      <td>Jane Austen</td>\n",
       "    </tr>\n",
       "    <tr>\n",
       "      <th>4</th>\n",
       "      <td>“Imperfection is beauty, madness is genius and...</td>\n",
       "      <td>Marilyn Monroe</td>\n",
       "    </tr>\n",
       "    <tr>\n",
       "      <th>5</th>\n",
       "      <td>“Try not to become a man of success. Rather be...</td>\n",
       "      <td>Albert Einstein</td>\n",
       "    </tr>\n",
       "    <tr>\n",
       "      <th>6</th>\n",
       "      <td>“It is better to be hated for what you are tha...</td>\n",
       "      <td>André Gide</td>\n",
       "    </tr>\n",
       "    <tr>\n",
       "      <th>7</th>\n",
       "      <td>“I have not failed. I've just found 10,000 way...</td>\n",
       "      <td>Thomas A. Edison</td>\n",
       "    </tr>\n",
       "    <tr>\n",
       "      <th>8</th>\n",
       "      <td>“A woman is like a tea bag; you never know how...</td>\n",
       "      <td>Eleanor Roosevelt</td>\n",
       "    </tr>\n",
       "    <tr>\n",
       "      <th>9</th>\n",
       "      <td>“A day without sunshine is like, you know, nig...</td>\n",
       "      <td>Steve Martin</td>\n",
       "    </tr>\n",
       "  </tbody>\n",
       "</table>\n",
       "</div>"
      ],
      "text/plain": [
       "                                              Quotes            Authors\n",
       "0  “The world as we have created it is a process ...    Albert Einstein\n",
       "1  “It is our choices, Harry, that show what we t...       J.K. Rowling\n",
       "2  “There are only two ways to live your life. On...    Albert Einstein\n",
       "3  “The person, be it gentleman or lady, who has ...        Jane Austen\n",
       "4  “Imperfection is beauty, madness is genius and...     Marilyn Monroe\n",
       "5  “Try not to become a man of success. Rather be...    Albert Einstein\n",
       "6  “It is better to be hated for what you are tha...         André Gide\n",
       "7  “I have not failed. I've just found 10,000 way...   Thomas A. Edison\n",
       "8  “A woman is like a tea bag; you never know how...  Eleanor Roosevelt\n",
       "9  “A day without sunshine is like, you know, nig...       Steve Martin"
      ]
     },
     "execution_count": 103,
     "metadata": {},
     "output_type": "execute_result"
    }
   ],
   "source": [
    "all_quotes"
   ]
  },
  {
   "cell_type": "markdown",
   "metadata": {},
   "source": [
    "# Getting the list of names of Authors"
   ]
  },
  {
   "cell_type": "code",
   "execution_count": 96,
   "metadata": {},
   "outputs": [
    {
     "data": {
      "text/plain": [
       "['Albert Einstein',\n",
       " 'J.K. Rowling',\n",
       " 'Albert Einstein',\n",
       " 'Jane Austen',\n",
       " 'Marilyn Monroe',\n",
       " 'Albert Einstein',\n",
       " 'André Gide',\n",
       " 'Thomas A. Edison',\n",
       " 'Eleanor Roosevelt',\n",
       " 'Steve Martin']"
      ]
     },
     "execution_count": 96,
     "metadata": {},
     "output_type": "execute_result"
    }
   ],
   "source": [
    "for i in authors:\n",
    "    authors_span = i.find('small') if authors else None\n",
    "    authors_all.append(authors_span.text)\n",
    "authors_all"
   ]
  },
  {
   "cell_type": "markdown",
   "metadata": {},
   "source": [
    "# Creating a dictionary of Quotes and Authors' names:  articles"
   ]
  },
  {
   "cell_type": "code",
   "execution_count": 54,
   "metadata": {},
   "outputs": [],
   "source": [
    "quotes = []\n",
    "authors_all = []\n",
    "articles = []\n",
    "\n",
    "for i in data:\n",
    "    text = i.find_all('span', class_='text')\n",
    "    for j in text:\n",
    "        quotes.append(j.text.strip())\n",
    "\n",
    "for i in authors:\n",
    "    authors_span = i.find('small') if authors else None\n",
    "    authors_all.append(authors_span.text)\n",
    "\n",
    "articles.append({\n",
    "    'quote':quotes,\n",
    "    'author':authors_all\n",
    "})\n",
    "    \n",
    "\n",
    "#print(quotes)\n",
    "#print(authors_all)"
   ]
  },
  {
   "cell_type": "code",
   "execution_count": 55,
   "metadata": {},
   "outputs": [
    {
     "data": {
      "text/plain": [
       "[{'quote': ['“The world as we have created it is a process of our thinking. It cannot be changed without changing our thinking.”',\n",
       "   '“It is our choices, Harry, that show what we truly are, far more than our abilities.”',\n",
       "   '“There are only two ways to live your life. One is as though nothing is a miracle. The other is as though everything is a miracle.”',\n",
       "   '“The person, be it gentleman or lady, who has not pleasure in a good novel, must be intolerably stupid.”',\n",
       "   \"“Imperfection is beauty, madness is genius and it's better to be absolutely ridiculous than absolutely boring.”\",\n",
       "   '“Try not to become a man of success. Rather become a man of value.”',\n",
       "   '“It is better to be hated for what you are than to be loved for what you are not.”',\n",
       "   \"“I have not failed. I've just found 10,000 ways that won't work.”\",\n",
       "   \"“A woman is like a tea bag; you never know how strong it is until it's in hot water.”\",\n",
       "   '“A day without sunshine is like, you know, night.”'],\n",
       "  'author': ['Albert Einstein',\n",
       "   'J.K. Rowling',\n",
       "   'Albert Einstein',\n",
       "   'Jane Austen',\n",
       "   'Marilyn Monroe',\n",
       "   'Albert Einstein',\n",
       "   'André Gide',\n",
       "   'Thomas A. Edison',\n",
       "   'Eleanor Roosevelt',\n",
       "   'Steve Martin']}]"
      ]
     },
     "execution_count": 55,
     "metadata": {},
     "output_type": "execute_result"
    }
   ],
   "source": [
    "articles"
   ]
  },
  {
   "cell_type": "code",
   "execution_count": 15,
   "metadata": {
    "collapsed": true
   },
   "outputs": [
    {
     "name": "stdout",
     "output_type": "stream",
     "text": [
      "Now scraping page: http://quotes.toscrape.com/\n",
      "Now scraping page: http://quotes.toscrape.com/page/2/\n",
      "Now scraping page: http://quotes.toscrape.com/page/3/\n",
      "Now scraping page: http://quotes.toscrape.com/page/4/\n",
      "Now scraping page: http://quotes.toscrape.com/page/5/\n",
      "Now scraping page: http://quotes.toscrape.com/page/6/\n",
      "Now scraping page: http://quotes.toscrape.com/page/7/\n",
      "Now scraping page: http://quotes.toscrape.com/page/8/\n",
      "Now scraping page: http://quotes.toscrape.com/page/9/\n",
      "Now scraping page: http://quotes.toscrape.com/page/10/\n",
      "Now scraping author: http://quotes.toscrape.com/author/Charles-Bukowski\n",
      "Now scraping author: http://quotes.toscrape.com/author/Steve-Martin\n",
      "Now scraping author: http://quotes.toscrape.com/author/Dr-Seuss\n",
      "Now scraping author: http://quotes.toscrape.com/author/J-K-Rowling\n",
      "Now scraping author: http://quotes.toscrape.com/author/Alexandre-Dumas-fils\n",
      "Now scraping author: http://quotes.toscrape.com/author/Harper-Lee\n",
      "Now scraping author: http://quotes.toscrape.com/author/William-Nicholson\n",
      "Now scraping author: http://quotes.toscrape.com/author/E-E-Cummings\n",
      "Now scraping author: http://quotes.toscrape.com/author/Eleanor-Roosevelt\n",
      "Now scraping author: http://quotes.toscrape.com/author/John-Lennon\n",
      "Now scraping author: http://quotes.toscrape.com/author/J-D-Salinger\n",
      "Now scraping author: http://quotes.toscrape.com/author/George-Eliot\n",
      "Now scraping author: http://quotes.toscrape.com/author/Ayn-Rand\n",
      "Now scraping author: http://quotes.toscrape.com/author/Haruki-Murakami\n",
      "Now scraping author: http://quotes.toscrape.com/author/Andre-Gide\n",
      "Now scraping author: http://quotes.toscrape.com/author/Martin-Luther-King-Jr\n",
      "Now scraping author: http://quotes.toscrape.com/author/Albert-Einstein\n",
      "Now scraping author: http://quotes.toscrape.com/author/W-C-Fields\n",
      "Now scraping author: http://quotes.toscrape.com/author/Allen-Saunders\n",
      "Now scraping author: http://quotes.toscrape.com/author/Jane-Austen\n",
      "Now scraping author: http://quotes.toscrape.com/author/George-Carlin\n",
      "Now scraping author: http://quotes.toscrape.com/author/C-S-Lewis\n",
      "Now scraping author: http://quotes.toscrape.com/author/Terry-Pratchett\n",
      "Now scraping author: http://quotes.toscrape.com/author/Ralph-Waldo-Emerson\n",
      "Now scraping author: http://quotes.toscrape.com/author/Mother-Teresa\n",
      "Now scraping author: http://quotes.toscrape.com/author/Elie-Wiesel\n",
      "Now scraping author: http://quotes.toscrape.com/author/George-Bernard-Shaw\n",
      "Now scraping author: http://quotes.toscrape.com/author/Jorge-Luis-Borges\n",
      "Now scraping author: http://quotes.toscrape.com/author/Stephenie-Meyer\n",
      "Now scraping author: http://quotes.toscrape.com/author/James-Baldwin\n",
      "Now scraping author: http://quotes.toscrape.com/author/Jim-Henson\n",
      "Now scraping author: http://quotes.toscrape.com/author/Douglas-Adams\n",
      "Now scraping author: http://quotes.toscrape.com/author/Jimi-Hendrix\n",
      "Now scraping author: http://quotes.toscrape.com/author/Bob-Marley\n",
      "Now scraping author: http://quotes.toscrape.com/author/Pablo-Neruda\n",
      "Now scraping author: http://quotes.toscrape.com/author/Garrison-Keillor\n",
      "Now scraping author: http://quotes.toscrape.com/author/J-M-Barrie\n",
      "Now scraping author: http://quotes.toscrape.com/author/Khaled-Hosseini\n",
      "Now scraping author: http://quotes.toscrape.com/author/Mark-Twain\n",
      "Now scraping author: http://quotes.toscrape.com/author/Madeleine-LEngle\n",
      "Now scraping author: http://quotes.toscrape.com/author/Suzanne-Collins\n",
      "Now scraping author: http://quotes.toscrape.com/author/Alfred-Tennyson\n",
      "Now scraping author: http://quotes.toscrape.com/author/Marilyn-Monroe\n",
      "Now scraping author: http://quotes.toscrape.com/author/J-R-R-Tolkien\n",
      "Now scraping author: http://quotes.toscrape.com/author/Friedrich-Nietzsche\n",
      "Now scraping author: http://quotes.toscrape.com/author/Ernest-Hemingway\n",
      "Now scraping author: http://quotes.toscrape.com/author/Charles-M-Schulz\n",
      "Now scraping author: http://quotes.toscrape.com/author/Thomas-A-Edison\n",
      "Now scraping author: http://quotes.toscrape.com/author/George-R-R-Martin\n",
      "Now scraping author: http://quotes.toscrape.com/author/Helen-Keller\n"
     ]
    }
   ],
   "source": [
    "import requests\n",
    "import dataset\n",
    "from bs4 import BeautifulSoup\n",
    "from urllib.parse import urljoin, urlparse\n",
    "\n",
    "db = dataset.connect('sqlite:///quotes.db')\n",
    "\n",
    "authors_seen = set()\n",
    "\n",
    "base_url = 'http://quotes.toscrape.com/'\n",
    "\n",
    "def clean_url(url):\n",
    "    # Clean '/author/Steve-Martin' to 'Steve-Martin'\n",
    "    # Use urljoin to make an absolute URL\n",
    "    url = urljoin(base_url, url)\n",
    "    # Use urlparse to get out the path part\n",
    "    path = urlparse(url).path\n",
    "    # Now split the path by '/' and get the second part\n",
    "    # E.g. '/author/Steve-Martin' -> ['', 'author', 'Steve-Martin']\n",
    "    return path.split('/')[2]\n",
    "\n",
    "def scrape_quotes(html_soup):\n",
    "    for quote in html_soup.select('div.quote'):\n",
    "        quote_text = quote.find(class_='text').get_text(strip=True)\n",
    "        quote_author_url = clean_url(quote.find(class_='author').find_next_sibling('a').get('href'))\n",
    "        quote_tag_urls = [clean_url(a.get('href')) for a in quote.find_all('a', class_='tag')]\n",
    "        authors_seen.add(quote_author_url)\n",
    "        # Store this quote and its tags\n",
    "        quote_id = db['quotes'].insert({ 'text' : quote_text,\n",
    "                                         'author' : quote_author_url })\n",
    "        db['quote_tags'].insert_many(\n",
    "                 [{'quote_id' : quote_id, 'tag_id' : tag} for tag in quote_tag_urls])\n",
    "\n",
    "def scrape_author(html_soup, author_id):\n",
    "    author_name = html_soup.find(class_='author-title').get_text(strip=True)\n",
    "    author_born_date = html_soup.find(class_='author-born-date').get_text(strip=True)\n",
    "    author_born_loc = html_soup.find(class_='author-born-location').get_text(strip=True)\n",
    "    author_description = html_soup.find(class_='author-description').get_text(strip=True)\n",
    "    db['authors'].insert({ 'author_id' : author_id,\n",
    "                           'name' : author_name,\n",
    "                           'born_date' : author_born_date,\n",
    "                           'born_location' : author_born_loc,\n",
    "                           'description' : author_description})\n",
    "\n",
    "# Start by scraping all the quote pages\n",
    "url = base_url\n",
    "while True:\n",
    "    print('Now scraping page:', url)\n",
    "    r = requests.get(url)\n",
    "    html_soup = BeautifulSoup(r.text, 'html.parser')\n",
    "    # Scrape the quotes\n",
    "    scrape_quotes(html_soup)\n",
    "    # Is there a next page?\n",
    "    next_a = html_soup.select('li.next > a')\n",
    "    if not next_a or not next_a[0].get('href'):\n",
    "        break\n",
    "    url = urljoin(url, next_a[0].get('href'))\n",
    "\n",
    "# Now fetch out the author information\n",
    "for author_id in authors_seen:\n",
    "    url = urljoin(base_url, '/author/' + author_id)\n",
    "    print('Now scraping author:', url)\n",
    "    r = requests.get(url)\n",
    "    html_soup = BeautifulSoup(r.text, 'html.parser')\n",
    "    # Scrape the author information\n",
    "    scrape_author(html_soup, author_id)"
   ]
  },
  {
   "cell_type": "code",
   "execution_count": null,
   "metadata": {},
   "outputs": [],
   "source": []
  },
  {
   "cell_type": "markdown",
   "metadata": {},
   "source": [
    "# NEW APPROACH- CONSOLIDATED"
   ]
  },
  {
   "cell_type": "code",
   "execution_count": 122,
   "metadata": {},
   "outputs": [],
   "source": [
    "data = soup.find_all('div', attrs = {'class':'row','class':'quote'})\n",
    "#authors = soup.find_all_next('div', class_ = 'quote')\n",
    "authors = soup.find_all('div', attrs={'class':'quote'})\n",
    "\n"
   ]
  },
  {
   "cell_type": "code",
   "execution_count": 13,
   "metadata": {},
   "outputs": [],
   "source": [
    "base_url = 'http://quotes.toscrape.com/'\n",
    "def clean_url(url):\n",
    "    url = urljoin(base_url, url)\n",
    "    path = urlparse(url).path\n",
    "    return url.split('/')[2]\n",
    "\n",
    "    \n",
    "    "
   ]
  },
  {
   "cell_type": "markdown",
   "metadata": {},
   "source": [
    "# Getting the tags and their URLs"
   ]
  },
  {
   "cell_type": "code",
   "execution_count": 115,
   "metadata": {},
   "outputs": [],
   "source": [
    "all_tags = []\n",
    "for i in soup.find_all('div', class_ = 'col-md-4 tags-box'):\n",
    "    tags = i.find_all('a', href = True)\n",
    "    for j in tags:\n",
    "        all_tags.append(j.get('href'))"
   ]
  },
  {
   "cell_type": "code",
   "execution_count": 116,
   "metadata": {},
   "outputs": [],
   "source": [
    "base_url = 'http://quotes.toscrape.com/'\n",
    "tag_urls = []\n",
    "for tag_url in all_tags:\n",
    "    url_tag = urljoin(base_url, tag_url)\n",
    "    tag_urls.append(url_tag)\n"
   ]
  },
  {
   "cell_type": "code",
   "execution_count": 162,
   "metadata": {},
   "outputs": [
    {
     "data": {
      "text/plain": [
       "['http://quotes.toscrape.com/tag/love/',\n",
       " 'http://quotes.toscrape.com/tag/inspirational/',\n",
       " 'http://quotes.toscrape.com/tag/life/',\n",
       " 'http://quotes.toscrape.com/tag/humor/',\n",
       " 'http://quotes.toscrape.com/tag/books/',\n",
       " 'http://quotes.toscrape.com/tag/reading/',\n",
       " 'http://quotes.toscrape.com/tag/friendship/',\n",
       " 'http://quotes.toscrape.com/tag/friends/',\n",
       " 'http://quotes.toscrape.com/tag/truth/',\n",
       " 'http://quotes.toscrape.com/tag/simile/']"
      ]
     },
     "execution_count": 162,
     "metadata": {},
     "output_type": "execute_result"
    }
   ],
   "source": [
    "tag_urls"
   ]
  },
  {
   "cell_type": "markdown",
   "metadata": {},
   "source": [
    "# Getting the quotes text"
   ]
  },
  {
   "cell_type": "code",
   "execution_count": 255,
   "metadata": {},
   "outputs": [
    {
     "name": "stdout",
     "output_type": "stream",
     "text": [
      "10\n"
     ]
    }
   ],
   "source": [
    "for page in tag_urls:\n",
    "    source = urllib.request.urlopen(page).read()\n",
    "    soup = bs.BeautifulSoup(source, 'html.parser')\n",
    "    data = soup.find_all('div', attrs = {'class':'row','class':'col-md-8'})\n",
    "\n",
    "def quotes1():\n",
    "    source = urllib.request.urlopen(\"http://quotes.toscrape.com/tag/love/\").read()\n",
    "    new_list = []\n",
    "    soup = bs.BeautifulSoup(source, 'html.parser')\n",
    "    data = soup.find_all('div', attrs = {'class':'row','class':'col-md-8'})\n",
    "    for i in data:\n",
    "        text = i.find_all('span', class_='text')\n",
    "        for j in text:\n",
    "            new_list.append(j.text.strip())\n",
    "\n",
    "            #print(j.text.strip())\n",
    "\n",
    "    return len(new_list)\n",
    "print(quotes1())"
   ]
  },
  {
   "cell_type": "code",
   "execution_count": 222,
   "metadata": {},
   "outputs": [
    {
     "name": "stdout",
     "output_type": "stream",
     "text": [
      "7\n",
      "7\n",
      "7\n",
      "7\n",
      "7\n",
      "7\n",
      "7\n",
      "7\n",
      "7\n",
      "7\n"
     ]
    }
   ],
   "source": [
    "quotes(data)"
   ]
  },
  {
   "cell_type": "code",
   "execution_count": 204,
   "metadata": {},
   "outputs": [],
   "source": [
    "def author_name(authors):\n",
    "    authors_all11 = []\n",
    "    for i in authors:\n",
    "        authors_span = i.find_all('small')\n",
    "        author_name = (authors_span.text)\n",
    "    return author_name"
   ]
  },
  {
   "cell_type": "markdown",
   "metadata": {},
   "source": [
    "# Main Program"
   ]
  },
  {
   "cell_type": "code",
   "execution_count": 205,
   "metadata": {},
   "outputs": [],
   "source": [
    "quotes_statement = []\n",
    "author_name_new = []\n",
    "for page in tag_urls:\n",
    "#    print(page)\n",
    "    source = urllib.request.urlopen(page).read()\n",
    "    soup = bs.BeautifulSoup(source, 'html.parser')\n",
    "    data = soup.find_all('div', attrs = {'class':'row','class':'quote'})\n",
    "    #authors = soup.find_all('div', attrs={'class':'quote'})\n",
    "    quote_statement.append(quotes(data))\n",
    "#quotes_new.append(quotes(data))\n",
    "#    author_name_new =author_name(authors)\n",
    "\n"
   ]
  },
  {
   "cell_type": "code",
   "execution_count": 208,
   "metadata": {},
   "outputs": [
    {
     "name": "stdout",
     "output_type": "stream",
     "text": [
      "['“A day without sunshine is like', ' you know', ' night.”']\n",
      "['“Life is like riding a bicycle. To keep your balance', ' you must keep moving.”']\n",
      "[\"“He's like a drug for you\", ' Bella.”']\n"
     ]
    },
    {
     "ename": "AttributeError",
     "evalue": "'list' object has no attribute 'split'",
     "output_type": "error",
     "traceback": [
      "\u001b[0;31m---------------------------------------------------------------------------\u001b[0m",
      "\u001b[0;31mAttributeError\u001b[0m                            Traceback (most recent call last)",
      "\u001b[0;32m<ipython-input-208-56a63e7ab628>\u001b[0m in \u001b[0;36m<module>\u001b[0;34m\u001b[0m\n\u001b[1;32m      1\u001b[0m \u001b[0;32mfor\u001b[0m \u001b[0mk\u001b[0m \u001b[0;32min\u001b[0m \u001b[0mquote_statement\u001b[0m\u001b[0;34m:\u001b[0m\u001b[0;34m\u001b[0m\u001b[0;34m\u001b[0m\u001b[0m\n\u001b[0;32m----> 2\u001b[0;31m     \u001b[0mprint\u001b[0m\u001b[0;34m(\u001b[0m\u001b[0mk\u001b[0m\u001b[0;34m.\u001b[0m\u001b[0msplit\u001b[0m\u001b[0;34m(\u001b[0m\u001b[0;34m','\u001b[0m\u001b[0;34m)\u001b[0m\u001b[0;34m)\u001b[0m\u001b[0;34m\u001b[0m\u001b[0;34m\u001b[0m\u001b[0m\n\u001b[0m",
      "\u001b[0;31mAttributeError\u001b[0m: 'list' object has no attribute 'split'"
     ]
    }
   ],
   "source": [
    "for k in quote_statement:\n",
    "    print(k.split(','))"
   ]
  },
  {
   "cell_type": "code",
   "execution_count": 142,
   "metadata": {},
   "outputs": [
    {
     "data": {
      "text/plain": [
       "['“The world as we have created it is a process of our thinking. It cannot be changed without changing our thinking.”',\n",
       " '“It is our choices, Harry, that show what we truly are, far more than our abilities.”',\n",
       " '“There are only two ways to live your life. One is as though nothing is a miracle. The other is as though everything is a miracle.”',\n",
       " '“The person, be it gentleman or lady, who has not pleasure in a good novel, must be intolerably stupid.”',\n",
       " \"“Imperfection is beauty, madness is genius and it's better to be absolutely ridiculous than absolutely boring.”\",\n",
       " '“Try not to become a man of success. Rather become a man of value.”',\n",
       " '“It is better to be hated for what you are than to be loved for what you are not.”',\n",
       " \"“I have not failed. I've just found 10,000 ways that won't work.”\",\n",
       " \"“A woman is like a tea bag; you never know how strong it is until it's in hot water.”\",\n",
       " '“A day without sunshine is like, you know, night.”']"
      ]
     },
     "execution_count": 142,
     "metadata": {},
     "output_type": "execute_result"
    }
   ],
   "source": [
    "quotes1"
   ]
  },
  {
   "cell_type": "code",
   "execution_count": null,
   "metadata": {},
   "outputs": [],
   "source": []
  },
  {
   "cell_type": "code",
   "execution_count": 119,
   "metadata": {},
   "outputs": [
    {
     "ename": "AttributeError",
     "evalue": "'int' object has no attribute 'text'",
     "output_type": "error",
     "traceback": [
      "\u001b[0;31m---------------------------------------------------------------------------\u001b[0m",
      "\u001b[0;31mAttributeError\u001b[0m                            Traceback (most recent call last)",
      "\u001b[0;32m<ipython-input-119-1be11c059295>\u001b[0m in \u001b[0;36m<module>\u001b[0;34m\u001b[0m\n\u001b[1;32m     10\u001b[0m \u001b[0;32mfor\u001b[0m \u001b[0mi\u001b[0m \u001b[0;32min\u001b[0m \u001b[0mauthors\u001b[0m\u001b[0;34m:\u001b[0m\u001b[0;34m\u001b[0m\u001b[0;34m\u001b[0m\u001b[0m\n\u001b[1;32m     11\u001b[0m     \u001b[0mauthors_span\u001b[0m \u001b[0;34m=\u001b[0m \u001b[0mi\u001b[0m\u001b[0;34m.\u001b[0m\u001b[0mfind\u001b[0m\u001b[0;34m(\u001b[0m\u001b[0;34m'small'\u001b[0m\u001b[0;34m)\u001b[0m \u001b[0;32mif\u001b[0m \u001b[0mauthors\u001b[0m \u001b[0;32melse\u001b[0m \u001b[0;32mNone\u001b[0m\u001b[0;34m\u001b[0m\u001b[0;34m\u001b[0m\u001b[0m\n\u001b[0;32m---> 12\u001b[0;31m     \u001b[0mauthors_all\u001b[0m\u001b[0;34m.\u001b[0m\u001b[0mappend\u001b[0m\u001b[0;34m(\u001b[0m\u001b[0mauthors_span\u001b[0m\u001b[0;34m.\u001b[0m\u001b[0mtext\u001b[0m\u001b[0;34m)\u001b[0m\u001b[0;34m\u001b[0m\u001b[0;34m\u001b[0m\u001b[0m\n\u001b[0m\u001b[1;32m     13\u001b[0m \u001b[0;34m\u001b[0m\u001b[0m\n\u001b[1;32m     14\u001b[0m articles.append({\n",
      "\u001b[0;31mAttributeError\u001b[0m: 'int' object has no attribute 'text'"
     ]
    }
   ],
   "source": [
    "quotes = []\n",
    "authors_all = []\n",
    "articles = []\n",
    "\n",
    "for i in data:\n",
    "    text = i.find_all('span', class_='text')\n",
    "    for j in text:\n",
    "        quotes.append(j.text.strip())\n",
    "\n",
    "for i in authors:\n",
    "    authors_span = i.find('small') if authors else None\n",
    "    authors_all.append(authors_span.text)\n",
    "\n",
    "articles.append({\n",
    "    'quote':quotes,\n",
    "    'author':authors_all\n",
    "})"
   ]
  },
  {
   "cell_type": "code",
   "execution_count": null,
   "metadata": {},
   "outputs": [],
   "source": [
    "quotes = []\n",
    "authors_all = []\n",
    "articles = []\n",
    "for i in data:\n",
    "    text = i.find_all('span', class_='text')\n",
    "    for j in text:\n",
    "        quotes.append(j.text.strip())"
   ]
  },
  {
   "cell_type": "code",
   "execution_count": null,
   "metadata": {},
   "outputs": [],
   "source": []
  },
  {
   "cell_type": "code",
   "execution_count": null,
   "metadata": {},
   "outputs": [],
   "source": []
  },
  {
   "cell_type": "code",
   "execution_count": null,
   "metadata": {},
   "outputs": [],
   "source": []
  },
  {
   "cell_type": "code",
   "execution_count": 312,
   "metadata": {},
   "outputs": [],
   "source": [
    "import pandas as pd\n",
    "import numpy as np\n",
    "import bs4 as bs\n",
    "import urllib.request\n",
    "from urllib.parse import urlparse, urljoin\n",
    "\n",
    "\n",
    "base_url = 'http://quotes.toscrape.com/'\n",
    "source = urllib.request.urlopen(base_url).read()\n",
    "soup = bs.BeautifulSoup(source, 'html.parser')\n",
    "\n",
    "\n",
    "#function to get the quotes text from the webpage\n",
    "def quotes(url):\n",
    "    new_list = []\n",
    "    source = urllib.request.urlopen(url).read()\n",
    "    soup = bs.BeautifulSoup(source, 'html.parser')\n",
    "    data = soup.find_all('div', attrs = {'class':'row','class':'col-md-8'})\n",
    "    for i in data:\n",
    "        text = i.find_all('span', class_='text')\n",
    "        for j in text:\n",
    "            new_list.append(j.text.strip())\n",
    "\n",
    "    return new_list\n",
    "\n",
    "# Getting the URLs\n",
    "def get_urls(soup):\n",
    "    all_tags = []\n",
    "    for i in soup.find_all('div', class_ = 'col-md-4 tags-box'):\n",
    "        tags = i.find_all('a', href = True)\n",
    "        for j in tags:\n",
    "            all_tags.append(j.get('href'))\n",
    "    base_url = 'http://quotes.toscrape.com/'\n",
    "    tag_urls = []\n",
    "    for tag_url in all_tags:\n",
    "        url_tag = urljoin(base_url, tag_url)\n",
    "        tag_urls.append(url_tag)\n",
    "    return tag_urls\n",
    "\n",
    "\n",
    "#Main function\n",
    "all_quotes = []\n",
    "urls = get_urls(soup)\n",
    "for url1 in urls:\n",
    "   # print(url1)\n",
    "    quote_l = quotes(url1)\n",
    "   # print(quote_l)\n",
    "    next_page = soup.select('li.next > a')\n",
    "    if not next_page or not next_page[0].get('href'):\n",
    "        break\n",
    "    url1 = url1 + next_page[0].get('href').lstrip('/')\n",
    "   # print(url1)\n",
    "    all_quotes.append(quote_l)\n",
    "    #print(len(all_quotes))\n",
    "\n",
    "for url2 in urls:\n",
    "    author\n",
    "quotes_to_scrap = pd.DataFrame()\n",
    "quotes_to_scrap['Quotes'] = new_list\n",
    "\n",
    "\n",
    "\n",
    "\n",
    "\n",
    "\n",
    "\n"
   ]
  },
  {
   "cell_type": "code",
   "execution_count": 313,
   "metadata": {},
   "outputs": [
    {
     "data": {
      "text/html": [
       "<div>\n",
       "<style scoped>\n",
       "    .dataframe tbody tr th:only-of-type {\n",
       "        vertical-align: middle;\n",
       "    }\n",
       "\n",
       "    .dataframe tbody tr th {\n",
       "        vertical-align: top;\n",
       "    }\n",
       "\n",
       "    .dataframe thead th {\n",
       "        text-align: right;\n",
       "    }\n",
       "</style>\n",
       "<table border=\"1\" class=\"dataframe\">\n",
       "  <thead>\n",
       "    <tr style=\"text-align: right;\">\n",
       "      <th></th>\n",
       "      <th>Quotes</th>\n",
       "    </tr>\n",
       "  </thead>\n",
       "  <tbody>\n",
       "    <tr>\n",
       "      <th>0</th>\n",
       "      <td>“It is better to be hated for what you are tha...</td>\n",
       "    </tr>\n",
       "    <tr>\n",
       "      <th>1</th>\n",
       "      <td>“This life is what you make it. No matter what...</td>\n",
       "    </tr>\n",
       "    <tr>\n",
       "      <th>2</th>\n",
       "      <td>“You may not be her first, her last, or her on...</td>\n",
       "    </tr>\n",
       "    <tr>\n",
       "      <th>3</th>\n",
       "      <td>“The opposite of love is not hate, it's indiff...</td>\n",
       "    </tr>\n",
       "    <tr>\n",
       "      <th>4</th>\n",
       "      <td>“It is not a lack of love, but a lack of frien...</td>\n",
       "    </tr>\n",
       "    <tr>\n",
       "      <th>...</th>\n",
       "      <td>...</td>\n",
       "    </tr>\n",
       "    <tr>\n",
       "      <th>68</th>\n",
       "      <td>“The truth.\" Dumbledore sighed. \"It is a beaut...</td>\n",
       "    </tr>\n",
       "    <tr>\n",
       "      <th>69</th>\n",
       "      <td>“Never tell the truth to people who are not wo...</td>\n",
       "    </tr>\n",
       "    <tr>\n",
       "      <th>70</th>\n",
       "      <td>“A day without sunshine is like, you know, nig...</td>\n",
       "    </tr>\n",
       "    <tr>\n",
       "      <th>71</th>\n",
       "      <td>“Life is like riding a bicycle. To keep your b...</td>\n",
       "    </tr>\n",
       "    <tr>\n",
       "      <th>72</th>\n",
       "      <td>“He's like a drug for you, Bella.”</td>\n",
       "    </tr>\n",
       "  </tbody>\n",
       "</table>\n",
       "<p>73 rows × 1 columns</p>\n",
       "</div>"
      ],
      "text/plain": [
       "                                               Quotes\n",
       "0   “It is better to be hated for what you are tha...\n",
       "1   “This life is what you make it. No matter what...\n",
       "2   “You may not be her first, her last, or her on...\n",
       "3   “The opposite of love is not hate, it's indiff...\n",
       "4   “It is not a lack of love, but a lack of frien...\n",
       "..                                                ...\n",
       "68  “The truth.\" Dumbledore sighed. \"It is a beaut...\n",
       "69  “Never tell the truth to people who are not wo...\n",
       "70  “A day without sunshine is like, you know, nig...\n",
       "71  “Life is like riding a bicycle. To keep your b...\n",
       "72                 “He's like a drug for you, Bella.”\n",
       "\n",
       "[73 rows x 1 columns]"
      ]
     },
     "execution_count": 313,
     "metadata": {},
     "output_type": "execute_result"
    }
   ],
   "source": [
    "quotes_to_scrap"
   ]
  },
  {
   "cell_type": "code",
   "execution_count": 310,
   "metadata": {},
   "outputs": [
    {
     "data": {
      "text/plain": [
       "73"
      ]
     },
     "execution_count": 310,
     "metadata": {},
     "output_type": "execute_result"
    }
   ],
   "source": [
    "new_list = []\n",
    "for i in all_quotes:\n",
    "    for j in i:\n",
    "        new_list.append(j)\n",
    "len(new_list"
   ]
  },
  {
   "cell_type": "code",
   "execution_count": 289,
   "metadata": {},
   "outputs": [
    {
     "data": {
      "text/plain": [
       "'http://quotes.toscrape.com/tag/humor/page/2'"
      ]
     },
     "execution_count": 289,
     "metadata": {},
     "output_type": "execute_result"
    }
   ],
   "source": [
    "\n",
    "string = \"http://quotes.toscrape.com/tag/humor/\"+\"page/2\"\n",
    "string"
   ]
  },
  {
   "cell_type": "markdown",
   "metadata": {},
   "source": [
    "# Get authors links"
   ]
  },
  {
   "cell_type": "code",
   "execution_count": 337,
   "metadata": {},
   "outputs": [],
   "source": [
    "def get_author_links(url):\n",
    "    source = urllib.request.urlopen(url).read()\n",
    "    soup = bs.BeautifulSoup(source, 'html.parser')\n",
    "    data = soup.find_all('div', attrs = {'class':'row','class':'col-md-8'})\n",
    "    author_links = []\n",
    "    for i in data:    \n",
    "        author_link = i.select('a')\n",
    "        for j in author_link:\n",
    "            author_link2 = j.get('href')\n",
    "            if 'author' in author_link2:\n",
    "                author_links.append(author_link2)\n",
    "            \n",
    "    return author_links\n",
    "\n",
    "\n",
    "\n",
    "\n",
    "    "
   ]
  },
  {
   "cell_type": "markdown",
   "metadata": {},
   "source": [
    "# Get author's info"
   ]
  },
  {
   "cell_type": "code",
   "execution_count": 492,
   "metadata": {},
   "outputs": [
    {
     "name": "stdout",
     "output_type": "stream",
     "text": [
      "http://quotes.toscrape.com/tag/love/\n",
      "http://quotes.toscrape.com/tag/inspirational/\n",
      "http://quotes.toscrape.com/tag/life/\n",
      "http://quotes.toscrape.com/tag/humor/\n",
      "http://quotes.toscrape.com/tag/books/\n",
      "http://quotes.toscrape.com/tag/reading/\n",
      "http://quotes.toscrape.com/tag/friendship/\n",
      "http://quotes.toscrape.com/tag/friends/\n",
      "http://quotes.toscrape.com/tag/truth/\n",
      "http://quotes.toscrape.com/tag/simile/\n"
     ]
    }
   ],
   "source": [
    "source = urllib.request.urlopen(url).read()\n",
    "soup = bs.BeautifulSoup(source, 'html.parser')\n",
    "\n",
    "urls = get_urls(soup)\n",
    "#all_author_urls = []\n",
    "for url in urls:\n",
    "    print(url)\n",
    "    #next_page = soup.select('li.next > a')\n",
    "    #if not next_page or not next_page[0].get('href'):\n",
    "     #   break\n",
    "    #url = url + next_page[0].get('href').lstrip('/')\n",
    "#    print(url)\n",
    "#    author_urls = get_author_links(url)\n",
    "#    print(author_urls)\n",
    "    \n",
    "    \n",
    "    \n",
    "    \n",
    " #   for j in author_urls:\n",
    "  #      final_url = base_url + j.lstrip('/')\n",
    "   #     if final_url not in all_author_urls:\n",
    "    #        all_author_urls.append(final_url)\n",
    "\n",
    "#all_author_urls\n",
    "\n"
   ]
  },
  {
   "cell_type": "code",
   "execution_count": 334,
   "metadata": {},
   "outputs": [
    {
     "data": {
      "text/plain": [
       "'http://quotes.toscrape.com/'"
      ]
     },
     "execution_count": 334,
     "metadata": {},
     "output_type": "execute_result"
    }
   ],
   "source": [
    "base_url"
   ]
  },
  {
   "cell_type": "markdown",
   "metadata": {},
   "source": [
    "# Getting Authors info URLs\n"
   ]
  },
  {
   "cell_type": "code",
   "execution_count": 504,
   "metadata": {
    "scrolled": true
   },
   "outputs": [
    {
     "data": {
      "text/plain": [
       "['http://quotes.toscrape.com/author/Andre-Gide',\n",
       " 'http://quotes.toscrape.com/author/Marilyn-Monroe',\n",
       " 'http://quotes.toscrape.com/author/Bob-Marley',\n",
       " 'http://quotes.toscrape.com/author/Elie-Wiesel',\n",
       " 'http://quotes.toscrape.com/author/Friedrich-Nietzsche',\n",
       " 'http://quotes.toscrape.com/author/Pablo-Neruda',\n",
       " 'http://quotes.toscrape.com/author/Marilyn-Monroe',\n",
       " 'http://quotes.toscrape.com/author/Marilyn-Monroe',\n",
       " 'http://quotes.toscrape.com/author/James-Baldwin',\n",
       " 'http://quotes.toscrape.com/author/Jane-Austen',\n",
       " 'http://quotes.toscrape.com/author/Albert-Einstein',\n",
       " 'http://quotes.toscrape.com/author/Marilyn-Monroe',\n",
       " 'http://quotes.toscrape.com/author/Thomas-A-Edison',\n",
       " 'http://quotes.toscrape.com/author/Marilyn-Monroe',\n",
       " 'http://quotes.toscrape.com/author/Elie-Wiesel',\n",
       " 'http://quotes.toscrape.com/author/J-K-Rowling',\n",
       " 'http://quotes.toscrape.com/author/George-Eliot',\n",
       " 'http://quotes.toscrape.com/author/C-S-Lewis',\n",
       " 'http://quotes.toscrape.com/author/Martin-Luther-King-Jr',\n",
       " 'http://quotes.toscrape.com/author/Helen-Keller',\n",
       " 'http://quotes.toscrape.com/author/Albert-Einstein',\n",
       " 'http://quotes.toscrape.com/author/Andre-Gide',\n",
       " 'http://quotes.toscrape.com/author/Marilyn-Monroe',\n",
       " 'http://quotes.toscrape.com/author/Douglas-Adams',\n",
       " 'http://quotes.toscrape.com/author/Mark-Twain',\n",
       " 'http://quotes.toscrape.com/author/Allen-Saunders',\n",
       " 'http://quotes.toscrape.com/author/Dr-Seuss',\n",
       " 'http://quotes.toscrape.com/author/Albert-Einstein',\n",
       " 'http://quotes.toscrape.com/author/George-Bernard-Shaw',\n",
       " 'http://quotes.toscrape.com/author/Ralph-Waldo-Emerson',\n",
       " 'http://quotes.toscrape.com/author/Jane-Austen',\n",
       " 'http://quotes.toscrape.com/author/Steve-Martin',\n",
       " 'http://quotes.toscrape.com/author/Garrison-Keillor',\n",
       " 'http://quotes.toscrape.com/author/Jim-Henson',\n",
       " 'http://quotes.toscrape.com/author/Charles-M-Schulz',\n",
       " 'http://quotes.toscrape.com/author/Suzanne-Collins',\n",
       " 'http://quotes.toscrape.com/author/Charles-Bukowski',\n",
       " 'http://quotes.toscrape.com/author/Terry-Pratchett',\n",
       " 'http://quotes.toscrape.com/author/Dr-Seuss',\n",
       " 'http://quotes.toscrape.com/author/George-Carlin',\n",
       " 'http://quotes.toscrape.com/author/Jane-Austen',\n",
       " 'http://quotes.toscrape.com/author/Mark-Twain',\n",
       " 'http://quotes.toscrape.com/author/Jorge-Luis-Borges',\n",
       " 'http://quotes.toscrape.com/author/C-S-Lewis',\n",
       " 'http://quotes.toscrape.com/author/Haruki-Murakami',\n",
       " 'http://quotes.toscrape.com/author/Ernest-Hemingway',\n",
       " 'http://quotes.toscrape.com/author/J-D-Salinger',\n",
       " 'http://quotes.toscrape.com/tag/authors/page/1/',\n",
       " 'http://quotes.toscrape.com/author/Mark-Twain',\n",
       " 'http://quotes.toscrape.com/author/Jane-Austen',\n",
       " 'http://quotes.toscrape.com/author/Madeleine-LEngle',\n",
       " 'http://quotes.toscrape.com/author/Dr-Seuss',\n",
       " 'http://quotes.toscrape.com/author/William-Nicholson',\n",
       " 'http://quotes.toscrape.com/author/George-R-R-Martin',\n",
       " 'http://quotes.toscrape.com/author/C-S-Lewis',\n",
       " 'http://quotes.toscrape.com/author/J-D-Salinger',\n",
       " 'http://quotes.toscrape.com/tag/authors/page/1/',\n",
       " 'http://quotes.toscrape.com/author/Mark-Twain',\n",
       " 'http://quotes.toscrape.com/author/Jane-Austen',\n",
       " 'http://quotes.toscrape.com/author/Friedrich-Nietzsche',\n",
       " 'http://quotes.toscrape.com/author/Mark-Twain',\n",
       " 'http://quotes.toscrape.com/author/Bob-Marley',\n",
       " 'http://quotes.toscrape.com/author/Jane-Austen',\n",
       " 'http://quotes.toscrape.com/author/Alfred-Tennyson',\n",
       " 'http://quotes.toscrape.com/author/Marilyn-Monroe',\n",
       " 'http://quotes.toscrape.com/author/J-K-Rowling',\n",
       " 'http://quotes.toscrape.com/author/Mark-Twain',\n",
       " 'http://quotes.toscrape.com/author/Ernest-Hemingway',\n",
       " 'http://quotes.toscrape.com/author/George-Carlin',\n",
       " 'http://quotes.toscrape.com/author/Mark-Twain',\n",
       " 'http://quotes.toscrape.com/author/J-K-Rowling',\n",
       " 'http://quotes.toscrape.com/author/Mark-Twain',\n",
       " 'http://quotes.toscrape.com/author/Steve-Martin',\n",
       " 'http://quotes.toscrape.com/author/Albert-Einstein',\n",
       " 'http://quotes.toscrape.com/author/Stephenie-Meyer']"
      ]
     },
     "execution_count": 504,
     "metadata": {},
     "output_type": "execute_result"
    }
   ],
   "source": [
    "source = urllib.request.urlopen(base_url).read()\n",
    "soup = bs.BeautifulSoup(source, 'html.parser')\n",
    "\n",
    "urls = get_urls(soup)\n",
    "all_author_urls = []\n",
    "for url in urls:\n",
    "#    print(url)\n",
    "    author_urls = get_author_links(url)\n",
    "   # print(author_urls)\n",
    "    for j in author_urls:\n",
    "        #print(j)\n",
    "        final_url = base_url + j.lstrip('/')\n",
    "        all_author_urls.append(final_url)\n",
    "        #print(final_url)\n",
    "   #     if final_url not in all_author_urls:\n",
    "    #\n",
    "\n",
    "all_author_urls"
   ]
  },
  {
   "cell_type": "markdown",
   "metadata": {},
   "source": [
    "# Getting Birthdates and Birthplaces"
   ]
  },
  {
   "cell_type": "code",
   "execution_count": 527,
   "metadata": {},
   "outputs": [],
   "source": [
    "#print(type(all_author_urls))\n",
    "\n",
    "def get_author_birthdate(all_author_urls):\n",
    "    author_birthdates = []\n",
    "    author_birthplaces = []\n",
    "    author_info = {}\n",
    "    for author_url_single in all_author_urls:\n",
    "        source_author = urllib.request.urlopen(author_url_single).read()\n",
    "        soup = bs.BeautifulSoup(source_author, 'html.parser')\n",
    "        data_author = soup.select('p')\n",
    "        for author in data_author:\n",
    "            birthdate = author.find_all('span',class_='author-born-date')\n",
    "            for i in birthdate:\n",
    "                author_birthdates.append(i.text)\n",
    "        for author in data_author:\n",
    "            birthplace = author.find_all('span', class_='author-born-location')\n",
    "            for j in birthplace:\n",
    "                author_birthplaces.append(j.text)\n",
    "         \n",
    "                author_info = {\n",
    "                'birthdate':author_birthdates,\n",
    "                'birthplace':author_birthplaces\n",
    "                }\n",
    "    return author_birthdates, author_birthplaces\n",
    "\n",
    "\n",
    "\n"
   ]
  },
  {
   "cell_type": "code",
   "execution_count": 510,
   "metadata": {},
   "outputs": [
    {
     "data": {
      "text/plain": [
       "['November 22, 1869',\n",
       " 'June 01, 1926',\n",
       " 'February 06, 1945',\n",
       " 'September 30, 1928',\n",
       " 'October 15, 1844',\n",
       " 'July 12, 1904',\n",
       " 'June 01, 1926',\n",
       " 'June 01, 1926',\n",
       " 'August 02, 1924',\n",
       " 'December 16, 1775',\n",
       " 'March 14, 1879',\n",
       " 'June 01, 1926',\n",
       " 'February 11, 1847',\n",
       " 'June 01, 1926',\n",
       " 'September 30, 1928',\n",
       " 'July 31, 1965',\n",
       " 'November 22, 1819',\n",
       " 'November 29, 1898',\n",
       " 'January 15, 1929',\n",
       " 'June 27, 1880',\n",
       " 'March 14, 1879',\n",
       " 'November 22, 1869',\n",
       " 'June 01, 1926',\n",
       " 'March 11, 1952',\n",
       " 'November 30, 1835',\n",
       " 'April 24, 1899',\n",
       " 'March 02, 1904',\n",
       " 'March 14, 1879',\n",
       " 'July 26, 1856',\n",
       " 'May 25, 1803',\n",
       " 'December 16, 1775',\n",
       " 'August 14, 1945',\n",
       " 'August 07, 1942',\n",
       " 'September 24, 1936',\n",
       " 'November 26, 1922',\n",
       " 'August 11, 1962',\n",
       " 'August 16, 1920',\n",
       " 'April 28, 1948',\n",
       " 'March 02, 1904',\n",
       " 'May 12, 1937',\n",
       " 'December 16, 1775',\n",
       " 'November 30, 1835',\n",
       " 'August 24, 1899',\n",
       " 'November 29, 1898',\n",
       " 'January 12, 1949',\n",
       " 'July 21, 1899',\n",
       " 'January 01, 1919',\n",
       " 'November 30, 1835',\n",
       " 'December 16, 1775',\n",
       " 'November 29, 1918',\n",
       " 'March 02, 1904',\n",
       " 'January 12, 1948',\n",
       " 'September 20, 1948',\n",
       " 'November 29, 1898',\n",
       " 'January 01, 1919',\n",
       " 'November 30, 1835',\n",
       " 'December 16, 1775',\n",
       " 'October 15, 1844',\n",
       " 'November 30, 1835',\n",
       " 'February 06, 1945',\n",
       " 'December 16, 1775',\n",
       " 'August 06, 1809',\n",
       " 'June 01, 1926',\n",
       " 'July 31, 1965',\n",
       " 'November 30, 1835',\n",
       " 'July 21, 1899',\n",
       " 'May 12, 1937',\n",
       " 'November 30, 1835',\n",
       " 'July 31, 1965',\n",
       " 'November 30, 1835',\n",
       " 'August 14, 1945',\n",
       " 'March 14, 1879',\n",
       " 'December 24, 1973']"
      ]
     },
     "execution_count": 510,
     "metadata": {},
     "output_type": "execute_result"
    }
   ],
   "source": [
    "birthdates"
   ]
  },
  {
   "cell_type": "code",
   "execution_count": 509,
   "metadata": {},
   "outputs": [],
   "source": [
    "birthdates,birthplaces = get_author_birthdate(all_author_urls)"
   ]
  },
  {
   "cell_type": "code",
   "execution_count": null,
   "metadata": {},
   "outputs": [],
   "source": []
  },
  {
   "cell_type": "code",
   "execution_count": 415,
   "metadata": {},
   "outputs": [
    {
     "data": {
      "text/html": [
       "<div>\n",
       "<style scoped>\n",
       "    .dataframe tbody tr th:only-of-type {\n",
       "        vertical-align: middle;\n",
       "    }\n",
       "\n",
       "    .dataframe tbody tr th {\n",
       "        vertical-align: top;\n",
       "    }\n",
       "\n",
       "    .dataframe thead th {\n",
       "        text-align: right;\n",
       "    }\n",
       "</style>\n",
       "<table border=\"1\" class=\"dataframe\">\n",
       "  <thead>\n",
       "    <tr style=\"text-align: right;\">\n",
       "      <th></th>\n",
       "      <th>Quotes</th>\n",
       "    </tr>\n",
       "  </thead>\n",
       "  <tbody>\n",
       "    <tr>\n",
       "      <th>0</th>\n",
       "      <td>“It is better to be hated for what you are tha...</td>\n",
       "    </tr>\n",
       "    <tr>\n",
       "      <th>1</th>\n",
       "      <td>“This life is what you make it. No matter what...</td>\n",
       "    </tr>\n",
       "    <tr>\n",
       "      <th>2</th>\n",
       "      <td>“You may not be her first, her last, or her on...</td>\n",
       "    </tr>\n",
       "    <tr>\n",
       "      <th>3</th>\n",
       "      <td>“The opposite of love is not hate, it's indiff...</td>\n",
       "    </tr>\n",
       "    <tr>\n",
       "      <th>4</th>\n",
       "      <td>“It is not a lack of love, but a lack of frien...</td>\n",
       "    </tr>\n",
       "    <tr>\n",
       "      <th>...</th>\n",
       "      <td>...</td>\n",
       "    </tr>\n",
       "    <tr>\n",
       "      <th>68</th>\n",
       "      <td>“The truth.\" Dumbledore sighed. \"It is a beaut...</td>\n",
       "    </tr>\n",
       "    <tr>\n",
       "      <th>69</th>\n",
       "      <td>“Never tell the truth to people who are not wo...</td>\n",
       "    </tr>\n",
       "    <tr>\n",
       "      <th>70</th>\n",
       "      <td>“A day without sunshine is like, you know, nig...</td>\n",
       "    </tr>\n",
       "    <tr>\n",
       "      <th>71</th>\n",
       "      <td>“Life is like riding a bicycle. To keep your b...</td>\n",
       "    </tr>\n",
       "    <tr>\n",
       "      <th>72</th>\n",
       "      <td>“He's like a drug for you, Bella.”</td>\n",
       "    </tr>\n",
       "  </tbody>\n",
       "</table>\n",
       "<p>73 rows × 1 columns</p>\n",
       "</div>"
      ],
      "text/plain": [
       "                                               Quotes\n",
       "0   “It is better to be hated for what you are tha...\n",
       "1   “This life is what you make it. No matter what...\n",
       "2   “You may not be her first, her last, or her on...\n",
       "3   “The opposite of love is not hate, it's indiff...\n",
       "4   “It is not a lack of love, but a lack of frien...\n",
       "..                                                ...\n",
       "68  “The truth.\" Dumbledore sighed. \"It is a beaut...\n",
       "69  “Never tell the truth to people who are not wo...\n",
       "70  “A day without sunshine is like, you know, nig...\n",
       "71  “Life is like riding a bicycle. To keep your b...\n",
       "72                 “He's like a drug for you, Bella.”\n",
       "\n",
       "[73 rows x 1 columns]"
      ]
     },
     "execution_count": 415,
     "metadata": {},
     "output_type": "execute_result"
    }
   ],
   "source": [
    "quotes_to_scrap['a']"
   ]
  },
  {
   "cell_type": "code",
   "execution_count": 477,
   "metadata": {},
   "outputs": [
    {
     "data": {
      "text/plain": [
       "['/author/Steve-Martin', '/author/Albert-Einstein', '/author/Stephenie-Meyer']"
      ]
     },
     "execution_count": 477,
     "metadata": {},
     "output_type": "execute_result"
    }
   ],
   "source": [
    "def get_author_links(url):\n",
    "    source = urllib.request.urlopen(url).read()\n",
    "    soup = bs.BeautifulSoup(source, 'html.parser')\n",
    "    data = soup.find_all('div', attrs = {'class':'row','class':'col-md-8'})\n",
    "    author_links = []\n",
    "    for i in data:\n",
    "        author_link = i.select('a')\n",
    "        for j in author_link:\n",
    "            author_link2 = j.get('href')\n",
    "            if 'author' in author_link2:\n",
    "                author_links.append(author_link2)\n",
    "\n",
    "    return author_links\n",
    "get_author_links(url)"
   ]
  },
  {
   "cell_type": "code",
   "execution_count": 450,
   "metadata": {
    "scrolled": false
   },
   "outputs": [
    {
     "name": "stdout",
     "output_type": "stream",
     "text": [
      "10\n",
      "10\n",
      "10\n",
      "10\n",
      "10\n",
      "7\n",
      "5\n",
      "4\n",
      "4\n",
      "3\n"
     ]
    }
   ],
   "source": [
    "def quotes(url):\n",
    "    new_list = []\n",
    "    author_names = []\n",
    "    final_list = []\n",
    "    source = urllib.request.urlopen(url).read()\n",
    "    soup = bs.BeautifulSoup(source, 'html.parser')\n",
    "    data = soup.find_all('div', attrs = {'class':'row','class':'col-md-8'})\n",
    "    for i in data:\n",
    "        text = i.find_all('span', class_='text')\n",
    "        for j in text:\n",
    "            new_list.append(j.text.strip())\n",
    "    for author in data:\n",
    "        author_name = author.find_all('small', class_='author')\n",
    "        for a_n in author_name:\n",
    "            author_names.append(a_n.text.strip())\n",
    "    \n",
    "        final_list.append({\n",
    "            'quotes':new_list,\n",
    "            'authors':author_names\n",
    "        })\n",
    "    return author_names, new_list\n",
    "\n",
    "\n",
    "urls = get_urls(soup)\n",
    "for url1 in urls:\n",
    "    authors_l,quote1 = quotes(url1)\n",
    "#    for i in authors:\n",
    " #       print(i)\n",
    "    print(authors_l)"
   ]
  },
  {
   "cell_type": "code",
   "execution_count": 424,
   "metadata": {
    "collapsed": true
   },
   "outputs": [
    {
     "name": "stdout",
     "output_type": "stream",
     "text": [
      "['“It is better to be hated for what you are than to be loved for what you are not.”', \"“This life is what you make it. No matter what, you're going to mess up sometimes, it's a universal truth. But the good part is you get to decide how you're going to mess it up. Girls will be your friends - they'll act like it anyway. But just remember, some come, some go. The ones that stay with you through everything - they're your true best friends. Don't let go of them. Also remember, sisters make the best friends in the world. As for lovers, well, they'll come and go too. And baby, I hate to say it, most of them - actually pretty much all of them are going to break your heart, but you can't give up because if you give up, you'll never find your soulmate. You'll never find that half who makes you whole and that goes for everything. Just because you fail once, doesn't mean you're gonna fail at everything. Keep trying, hold on, and always, always, always believe in yourself, because if you don't, then who will, sweetie? So keep your head high, keep your chin up, and most importantly, keep smiling, because life's a beautiful thing and there's so much to smile about.”\", \"“You may not be her first, her last, or her only. She loved before she may love again. But if she loves you now, what else matters? She's not perfect—you aren't either, and the two of you may never be perfect together but if she can make you laugh, cause you to think twice, and admit to being human and making mistakes, hold onto her and give her the most you can. She may not be thinking about you every second of the day, but she will give you a part of her that she knows you can break—her heart. So don't hurt her, don't change her, don't analyze and don't expect more than she can give. Smile when she makes you happy, let her know when she makes you mad, and miss her when she's not there.”\", \"“The opposite of love is not hate, it's indifference. The opposite of art is not ugliness, it's indifference. The opposite of faith is not heresy, it's indifference. And the opposite of life is not death, it's indifference.”\", '“It is not a lack of love, but a lack of friendship that makes unhappy marriages.”', '“I love you without knowing how, or when, or from where. I love you simply, without problems or pride: I love you in this way because I do not know any other way of loving but this, in which there is no I or you, so intimate that your hand upon my chest is my hand, so intimate that when I fall asleep your eyes close.”', '“If you can make a woman laugh, you can make her do anything.”', '“The real lover is the man who can thrill you by kissing your forehead or smiling into your eyes or just staring into space.”', '“Love does not begin and end the way we seem to think it does. Love is a battle, love is a war; love is a growing up.”', '“There is nothing I would not do for those who are really my friends. I have no notion of loving people by halves, it is not my nature.”']\n",
      "['“There are only two ways to live your life. One is as though nothing is a miracle. The other is as though everything is a miracle.”', \"“Imperfection is beauty, madness is genius and it's better to be absolutely ridiculous than absolutely boring.”\", \"“I have not failed. I've just found 10,000 ways that won't work.”\", \"“This life is what you make it. No matter what, you're going to mess up sometimes, it's a universal truth. But the good part is you get to decide how you're going to mess it up. Girls will be your friends - they'll act like it anyway. But just remember, some come, some go. The ones that stay with you through everything - they're your true best friends. Don't let go of them. Also remember, sisters make the best friends in the world. As for lovers, well, they'll come and go too. And baby, I hate to say it, most of them - actually pretty much all of them are going to break your heart, but you can't give up because if you give up, you'll never find your soulmate. You'll never find that half who makes you whole and that goes for everything. Just because you fail once, doesn't mean you're gonna fail at everything. Keep trying, hold on, and always, always, always believe in yourself, because if you don't, then who will, sweetie? So keep your head high, keep your chin up, and most importantly, keep smiling, because life's a beautiful thing and there's so much to smile about.”\", \"“The opposite of love is not hate, it's indifference. The opposite of art is not ugliness, it's indifference. The opposite of faith is not heresy, it's indifference. And the opposite of life is not death, it's indifference.”\", '“To the well-organized mind, death is but the next great adventure.”', '“It is never too late to be what you might have been.”', '“You can never get a cup of tea large enough or a book long enough to suit me.”', '“Only in the darkness can you see the stars.”', '“When one door of happiness closes, another opens; but often we look so long at the closed door that we do not see the one which has been opened for us.”']\n",
      "['“There are only two ways to live your life. One is as though nothing is a miracle. The other is as though everything is a miracle.”', '“It is better to be hated for what you are than to be loved for what you are not.”', \"“This life is what you make it. No matter what, you're going to mess up sometimes, it's a universal truth. But the good part is you get to decide how you're going to mess it up. Girls will be your friends - they'll act like it anyway. But just remember, some come, some go. The ones that stay with you through everything - they're your true best friends. Don't let go of them. Also remember, sisters make the best friends in the world. As for lovers, well, they'll come and go too. And baby, I hate to say it, most of them - actually pretty much all of them are going to break your heart, but you can't give up because if you give up, you'll never find your soulmate. You'll never find that half who makes you whole and that goes for everything. Just because you fail once, doesn't mean you're gonna fail at everything. Keep trying, hold on, and always, always, always believe in yourself, because if you don't, then who will, sweetie? So keep your head high, keep your chin up, and most importantly, keep smiling, because life's a beautiful thing and there's so much to smile about.”\", '“I may not have gone where I intended to go, but I think I have ended up where I needed to be.”', '“Good friends, good books, and a sleepy conscience: this is the ideal life.”', '“Life is what happens to us while we are making other plans.”', '“Today you are You, that is truer than true. There is no one alive who is Youer than You.”', '“Life is like riding a bicycle. To keep your balance, you must keep moving.”', \"“Life isn't about finding yourself. Life is about creating yourself.”\", '“Finish each day and be done with it. You have done what you could. Some blunders and absurdities no doubt crept in; forget them as soon as you can. Tomorrow is a new day. You shall begin it serenely and with too high a spirit to be encumbered with your old nonsense.”']\n",
      "['“The person, be it gentleman or lady, who has not pleasure in a good novel, must be intolerably stupid.”', '“A day without sunshine is like, you know, night.”', '“Anyone who thinks sitting in church can make you a Christian must also think that sitting in a garage can make you a car.”', '“Beauty is in the eye of the beholder and it may be necessary from time to time to give a stupid or misinformed beholder a black eye.”', \"“All you need is love. But a little chocolate now and then doesn't hurt.”\", \"“Remember, we're madly in love, so it's all right to kiss me anytime you feel like it.”\", '“Some people never go crazy. What truly horrible lives they must lead.”', '“The trouble with having an open mind, of course, is that people will insist on coming along and trying to put things in it.”', '“Think left and think right and think low and think high. Oh, the thinks you can think up if only you try!”', '“The reason I talk to myself is because I’m the only one whose answers I accept.”']\n",
      "['“The person, be it gentleman or lady, who has not pleasure in a good novel, must be intolerably stupid.”', '“Good friends, good books, and a sleepy conscience: this is the ideal life.”', '“I have always imagined that Paradise will be a kind of library.”', '“You can never get a cup of tea large enough or a book long enough to suit me.”', '“If you only read the books that everyone else is reading, you can only think what everyone else is thinking.”', '“There is no friend as loyal as a book.”', \"“What really knocks me out is a book that, when you're all done reading it, you wish the author that wrote it was a terrific friend of yours and you could call him up on the phone whenever you felt like it. That doesn't happen much, though.”\", \"“′Classic′ - a book which people praise and don't read.”\", '“I declare after all there is no enjoyment like reading! How much sooner one tires of any thing than of a book! -- When I have a house of my own, I shall be miserable if I have not an excellent library.”', '“You have to write the book that wants to be written. And if the book will be too difficult for grown-ups, then you write it for children.”']\n"
     ]
    },
    {
     "name": "stdout",
     "output_type": "stream",
     "text": [
      "[\"“The more that you read, the more things you will know. The more that you learn, the more places you'll go.”\", \"“We read to know we're not alone.”\", '“A reader lives a thousand lives before he dies, said Jojen. The man who never reads lives only one.”', '“You can never get a cup of tea large enough or a book long enough to suit me.”', \"“What really knocks me out is a book that, when you're all done reading it, you wish the author that wrote it was a terrific friend of yours and you could call him up on the phone whenever you felt like it. That doesn't happen much, though.”\", \"“′Classic′ - a book which people praise and don't read.”\", '“I declare after all there is no enjoyment like reading! How much sooner one tires of any thing than of a book! -- When I have a house of my own, I shall be miserable if I have not an excellent library.”']\n",
      "['“It is not a lack of love, but a lack of friendship that makes unhappy marriages.”', '“Good friends, good books, and a sleepy conscience: this is the ideal life.”', '“The truth is, everyone is going to hurt you. You just got to find the ones worth suffering for.”', '“There is nothing I would not do for those who are really my friends. I have no notion of loving people by halves, it is not my nature.”', '“If I had a flower for every time I thought of you...I could walk through my garden forever.”']\n",
      "[\"“This life is what you make it. No matter what, you're going to mess up sometimes, it's a universal truth. But the good part is you get to decide how you're going to mess it up. Girls will be your friends - they'll act like it anyway. But just remember, some come, some go. The ones that stay with you through everything - they're your true best friends. Don't let go of them. Also remember, sisters make the best friends in the world. As for lovers, well, they'll come and go too. And baby, I hate to say it, most of them - actually pretty much all of them are going to break your heart, but you can't give up because if you give up, you'll never find your soulmate. You'll never find that half who makes you whole and that goes for everything. Just because you fail once, doesn't mean you're gonna fail at everything. Keep trying, hold on, and always, always, always believe in yourself, because if you don't, then who will, sweetie? So keep your head high, keep your chin up, and most importantly, keep smiling, because life's a beautiful thing and there's so much to smile about.”\", '“It takes a great deal of bravery to stand up to our enemies, but just as much to stand up to our friends.”', '“Good friends, good books, and a sleepy conscience: this is the ideal life.”', '“There is no friend as loyal as a book.”']\n",
      "['“The reason I talk to myself is because I’m the only one whose answers I accept.”', '“A lie can travel half way around the world while the truth is putting on its shoes.”', '“The truth.\" Dumbledore sighed. \"It is a beautiful and terrible thing, and should therefore be treated with great caution.”', '“Never tell the truth to people who are not worthy of it.”']\n",
      "['“A day without sunshine is like, you know, night.”', '“Life is like riding a bicycle. To keep your balance, you must keep moving.”', \"“He's like a drug for you, Bella.”\"]\n"
     ]
    }
   ],
   "source": [
    "\n",
    "   # quote_l = quotes(url1)\n",
    "\n",
    "def quotes(url):\n",
    "    new_list = []\n",
    "    source = urllib.request.urlopen(url).read()\n",
    "    soup = bs.BeautifulSoup(source, 'html.parser')\n",
    "    data = soup.find_all('div', attrs = {'class':'row','class':'col-md-8'})\n",
    "    for i in data:\n",
    "        text = i.find_all('span', class_='text')\n",
    "        for j in text:\n",
    "            new_list.append(j.text.strip())\n",
    "\n",
    "    return new_list\n",
    "all_quotes = []\n",
    "urls = get_urls(soup)\n",
    "for url1 in urls:\n",
    "    quote = quotes(url1)\n",
    "    print(quote)"
   ]
  },
  {
   "cell_type": "code",
   "execution_count": 422,
   "metadata": {},
   "outputs": [
    {
     "data": {
      "text/plain": [
       "['“A day without sunshine is like, you know, night.”',\n",
       " '“Life is like riding a bicycle. To keep your balance, you must keep moving.”',\n",
       " \"“He's like a drug for you, Bella.”\"]"
      ]
     },
     "execution_count": 422,
     "metadata": {},
     "output_type": "execute_result"
    }
   ],
   "source": [
    "quotes(url)"
   ]
  },
  {
   "cell_type": "code",
   "execution_count": 439,
   "metadata": {
    "collapsed": true
   },
   "outputs": [
    {
     "ename": "ValueError",
     "evalue": "Length of values does not match length of index",
     "output_type": "error",
     "traceback": [
      "\u001b[0;31m---------------------------------------------------------------------------\u001b[0m",
      "\u001b[0;31mValueError\u001b[0m                                Traceback (most recent call last)",
      "\u001b[0;32m<ipython-input-439-0896471168bc>\u001b[0m in \u001b[0;36m<module>\u001b[0;34m\u001b[0m\n\u001b[0;32m----> 1\u001b[0;31m \u001b[0mquotes_to_scrap\u001b[0m\u001b[0;34m[\u001b[0m\u001b[0;34m'author'\u001b[0m\u001b[0;34m]\u001b[0m \u001b[0;34m=\u001b[0m \u001b[0mall_authors\u001b[0m\u001b[0;34m\u001b[0m\u001b[0;34m\u001b[0m\u001b[0m\n\u001b[0m\u001b[1;32m      2\u001b[0m \u001b[0mquotes_to_scrap\u001b[0m\u001b[0;34m\u001b[0m\u001b[0;34m\u001b[0m\u001b[0m\n",
      "\u001b[0;32m~/opt/anaconda3/envs/Dash-env/lib/python3.7/site-packages/pandas/core/frame.py\u001b[0m in \u001b[0;36m__setitem__\u001b[0;34m(self, key, value)\u001b[0m\n\u001b[1;32m   2936\u001b[0m         \u001b[0;32melse\u001b[0m\u001b[0;34m:\u001b[0m\u001b[0;34m\u001b[0m\u001b[0;34m\u001b[0m\u001b[0m\n\u001b[1;32m   2937\u001b[0m             \u001b[0;31m# set column\u001b[0m\u001b[0;34m\u001b[0m\u001b[0;34m\u001b[0m\u001b[0;34m\u001b[0m\u001b[0m\n\u001b[0;32m-> 2938\u001b[0;31m             \u001b[0mself\u001b[0m\u001b[0;34m.\u001b[0m\u001b[0m_set_item\u001b[0m\u001b[0;34m(\u001b[0m\u001b[0mkey\u001b[0m\u001b[0;34m,\u001b[0m \u001b[0mvalue\u001b[0m\u001b[0;34m)\u001b[0m\u001b[0;34m\u001b[0m\u001b[0;34m\u001b[0m\u001b[0m\n\u001b[0m\u001b[1;32m   2939\u001b[0m \u001b[0;34m\u001b[0m\u001b[0m\n\u001b[1;32m   2940\u001b[0m     \u001b[0;32mdef\u001b[0m \u001b[0m_setitem_slice\u001b[0m\u001b[0;34m(\u001b[0m\u001b[0mself\u001b[0m\u001b[0;34m,\u001b[0m \u001b[0mkey\u001b[0m\u001b[0;34m,\u001b[0m \u001b[0mvalue\u001b[0m\u001b[0;34m)\u001b[0m\u001b[0;34m:\u001b[0m\u001b[0;34m\u001b[0m\u001b[0;34m\u001b[0m\u001b[0m\n",
      "\u001b[0;32m~/opt/anaconda3/envs/Dash-env/lib/python3.7/site-packages/pandas/core/frame.py\u001b[0m in \u001b[0;36m_set_item\u001b[0;34m(self, key, value)\u001b[0m\n\u001b[1;32m   2998\u001b[0m \u001b[0;34m\u001b[0m\u001b[0m\n\u001b[1;32m   2999\u001b[0m         \u001b[0mself\u001b[0m\u001b[0;34m.\u001b[0m\u001b[0m_ensure_valid_index\u001b[0m\u001b[0;34m(\u001b[0m\u001b[0mvalue\u001b[0m\u001b[0;34m)\u001b[0m\u001b[0;34m\u001b[0m\u001b[0;34m\u001b[0m\u001b[0m\n\u001b[0;32m-> 3000\u001b[0;31m         \u001b[0mvalue\u001b[0m \u001b[0;34m=\u001b[0m \u001b[0mself\u001b[0m\u001b[0;34m.\u001b[0m\u001b[0m_sanitize_column\u001b[0m\u001b[0;34m(\u001b[0m\u001b[0mkey\u001b[0m\u001b[0;34m,\u001b[0m \u001b[0mvalue\u001b[0m\u001b[0;34m)\u001b[0m\u001b[0;34m\u001b[0m\u001b[0;34m\u001b[0m\u001b[0m\n\u001b[0m\u001b[1;32m   3001\u001b[0m         \u001b[0mNDFrame\u001b[0m\u001b[0;34m.\u001b[0m\u001b[0m_set_item\u001b[0m\u001b[0;34m(\u001b[0m\u001b[0mself\u001b[0m\u001b[0;34m,\u001b[0m \u001b[0mkey\u001b[0m\u001b[0;34m,\u001b[0m \u001b[0mvalue\u001b[0m\u001b[0;34m)\u001b[0m\u001b[0;34m\u001b[0m\u001b[0;34m\u001b[0m\u001b[0m\n\u001b[1;32m   3002\u001b[0m \u001b[0;34m\u001b[0m\u001b[0m\n",
      "\u001b[0;32m~/opt/anaconda3/envs/Dash-env/lib/python3.7/site-packages/pandas/core/frame.py\u001b[0m in \u001b[0;36m_sanitize_column\u001b[0;34m(self, key, value, broadcast)\u001b[0m\n\u001b[1;32m   3634\u001b[0m \u001b[0;34m\u001b[0m\u001b[0m\n\u001b[1;32m   3635\u001b[0m             \u001b[0;31m# turn me into an ndarray\u001b[0m\u001b[0;34m\u001b[0m\u001b[0;34m\u001b[0m\u001b[0;34m\u001b[0m\u001b[0m\n\u001b[0;32m-> 3636\u001b[0;31m             \u001b[0mvalue\u001b[0m \u001b[0;34m=\u001b[0m \u001b[0msanitize_index\u001b[0m\u001b[0;34m(\u001b[0m\u001b[0mvalue\u001b[0m\u001b[0;34m,\u001b[0m \u001b[0mself\u001b[0m\u001b[0;34m.\u001b[0m\u001b[0mindex\u001b[0m\u001b[0;34m,\u001b[0m \u001b[0mcopy\u001b[0m\u001b[0;34m=\u001b[0m\u001b[0;32mFalse\u001b[0m\u001b[0;34m)\u001b[0m\u001b[0;34m\u001b[0m\u001b[0;34m\u001b[0m\u001b[0m\n\u001b[0m\u001b[1;32m   3637\u001b[0m             \u001b[0;32mif\u001b[0m \u001b[0;32mnot\u001b[0m \u001b[0misinstance\u001b[0m\u001b[0;34m(\u001b[0m\u001b[0mvalue\u001b[0m\u001b[0;34m,\u001b[0m \u001b[0;34m(\u001b[0m\u001b[0mnp\u001b[0m\u001b[0;34m.\u001b[0m\u001b[0mndarray\u001b[0m\u001b[0;34m,\u001b[0m \u001b[0mIndex\u001b[0m\u001b[0;34m)\u001b[0m\u001b[0;34m)\u001b[0m\u001b[0;34m:\u001b[0m\u001b[0;34m\u001b[0m\u001b[0;34m\u001b[0m\u001b[0m\n\u001b[1;32m   3638\u001b[0m                 \u001b[0;32mif\u001b[0m \u001b[0misinstance\u001b[0m\u001b[0;34m(\u001b[0m\u001b[0mvalue\u001b[0m\u001b[0;34m,\u001b[0m \u001b[0mlist\u001b[0m\u001b[0;34m)\u001b[0m \u001b[0;32mand\u001b[0m \u001b[0mlen\u001b[0m\u001b[0;34m(\u001b[0m\u001b[0mvalue\u001b[0m\u001b[0;34m)\u001b[0m \u001b[0;34m>\u001b[0m \u001b[0;36m0\u001b[0m\u001b[0;34m:\u001b[0m\u001b[0;34m\u001b[0m\u001b[0;34m\u001b[0m\u001b[0m\n",
      "\u001b[0;32m~/opt/anaconda3/envs/Dash-env/lib/python3.7/site-packages/pandas/core/internals/construction.py\u001b[0m in \u001b[0;36msanitize_index\u001b[0;34m(data, index, copy)\u001b[0m\n\u001b[1;32m    609\u001b[0m \u001b[0;34m\u001b[0m\u001b[0m\n\u001b[1;32m    610\u001b[0m     \u001b[0;32mif\u001b[0m \u001b[0mlen\u001b[0m\u001b[0;34m(\u001b[0m\u001b[0mdata\u001b[0m\u001b[0;34m)\u001b[0m \u001b[0;34m!=\u001b[0m \u001b[0mlen\u001b[0m\u001b[0;34m(\u001b[0m\u001b[0mindex\u001b[0m\u001b[0;34m)\u001b[0m\u001b[0;34m:\u001b[0m\u001b[0;34m\u001b[0m\u001b[0;34m\u001b[0m\u001b[0m\n\u001b[0;32m--> 611\u001b[0;31m         \u001b[0;32mraise\u001b[0m \u001b[0mValueError\u001b[0m\u001b[0;34m(\u001b[0m\u001b[0;34m\"Length of values does not match length of index\"\u001b[0m\u001b[0;34m)\u001b[0m\u001b[0;34m\u001b[0m\u001b[0;34m\u001b[0m\u001b[0m\n\u001b[0m\u001b[1;32m    612\u001b[0m \u001b[0;34m\u001b[0m\u001b[0m\n\u001b[1;32m    613\u001b[0m     \u001b[0;32mif\u001b[0m \u001b[0misinstance\u001b[0m\u001b[0;34m(\u001b[0m\u001b[0mdata\u001b[0m\u001b[0;34m,\u001b[0m \u001b[0mABCIndexClass\u001b[0m\u001b[0;34m)\u001b[0m \u001b[0;32mand\u001b[0m \u001b[0;32mnot\u001b[0m \u001b[0mcopy\u001b[0m\u001b[0;34m:\u001b[0m\u001b[0;34m\u001b[0m\u001b[0;34m\u001b[0m\u001b[0m\n",
      "\u001b[0;31mValueError\u001b[0m: Length of values does not match length of index"
     ]
    }
   ],
   "source": [
    "quotes_to_scrap['author'] = all_authors\n",
    "quotes_to_scrap"
   ]
  },
  {
   "cell_type": "code",
   "execution_count": 446,
   "metadata": {},
   "outputs": [
    {
     "name": "stdout",
     "output_type": "stream",
     "text": [
      "Steve Martin\n",
      "Albert Einstein\n",
      "Stephenie Meyer\n"
     ]
    }
   ],
   "source": [
    "all_authors = []\n",
    "for author in authors_l:\n",
    "    print(author)\n",
    "#    all_authors.append(author)\n",
    "#len(all_authors)"
   ]
  },
  {
   "cell_type": "code",
   "execution_count": 453,
   "metadata": {},
   "outputs": [
    {
     "name": "stdout",
     "output_type": "stream",
     "text": [
      "[['André Gide', 'Marilyn Monroe', 'Bob Marley', 'Elie Wiesel', 'Friedrich Nietzsche', 'Pablo Neruda', 'Marilyn Monroe', 'Marilyn Monroe', 'James Baldwin', 'Jane Austen'], ['Albert Einstein', 'Marilyn Monroe', 'Thomas A. Edison', 'Marilyn Monroe', 'Elie Wiesel', 'J.K. Rowling', 'George Eliot', 'C.S. Lewis', 'Martin Luther King Jr.', 'Helen Keller'], ['Albert Einstein', 'André Gide', 'Marilyn Monroe', 'Douglas Adams', 'Mark Twain', 'Allen Saunders', 'Dr. Seuss', 'Albert Einstein', 'George Bernard Shaw', 'Ralph Waldo Emerson'], ['Jane Austen', 'Steve Martin', 'Garrison Keillor', 'Jim Henson', 'Charles M. Schulz', 'Suzanne Collins', 'Charles Bukowski', 'Terry Pratchett', 'Dr. Seuss', 'George Carlin'], ['Jane Austen', 'Mark Twain', 'Jorge Luis Borges', 'C.S. Lewis', 'Haruki Murakami', 'Ernest Hemingway', 'J.D. Salinger', 'Mark Twain', 'Jane Austen', \"Madeleine L'Engle\"], ['Dr. Seuss', 'William Nicholson', 'George R.R. Martin', 'C.S. Lewis', 'J.D. Salinger', 'Mark Twain', 'Jane Austen'], ['Friedrich Nietzsche', 'Mark Twain', 'Bob Marley', 'Jane Austen', 'Alfred Tennyson'], ['Marilyn Monroe', 'J.K. Rowling', 'Mark Twain', 'Ernest Hemingway'], ['George Carlin', 'Mark Twain', 'J.K. Rowling', 'Mark Twain'], ['Steve Martin', 'Albert Einstein', 'Stephenie Meyer']]\n"
     ]
    }
   ],
   "source": [
    "urls = get_urls(soup)\n",
    "all_authors3 = []\n",
    "for url in urls:\n",
    "    author3, quotes3 = quotes(url)\n",
    "    all_authors3.append(author3)\n",
    "    \n",
    "print(all_authors3)"
   ]
  },
  {
   "cell_type": "code",
   "execution_count": 456,
   "metadata": {},
   "outputs": [
    {
     "name": "stdout",
     "output_type": "stream",
     "text": [
      "['André Gide', 'Marilyn Monroe', 'Bob Marley', 'Elie Wiesel', 'Friedrich Nietzsche', 'Pablo Neruda', 'Marilyn Monroe', 'Marilyn Monroe', 'James Baldwin', 'Jane Austen', 'Albert Einstein', 'Marilyn Monroe', 'Thomas A. Edison', 'Marilyn Monroe', 'Elie Wiesel', 'J.K. Rowling', 'George Eliot', 'C.S. Lewis', 'Martin Luther King Jr.', 'Helen Keller', 'Albert Einstein', 'André Gide', 'Marilyn Monroe', 'Douglas Adams', 'Mark Twain', 'Allen Saunders', 'Dr. Seuss', 'Albert Einstein', 'George Bernard Shaw', 'Ralph Waldo Emerson', 'Jane Austen', 'Steve Martin', 'Garrison Keillor', 'Jim Henson', 'Charles M. Schulz', 'Suzanne Collins', 'Charles Bukowski', 'Terry Pratchett', 'Dr. Seuss', 'George Carlin', 'Jane Austen', 'Mark Twain', 'Jorge Luis Borges', 'C.S. Lewis', 'Haruki Murakami', 'Ernest Hemingway', 'J.D. Salinger', 'Mark Twain', 'Jane Austen', \"Madeleine L'Engle\", 'Dr. Seuss', 'William Nicholson', 'George R.R. Martin', 'C.S. Lewis', 'J.D. Salinger', 'Mark Twain', 'Jane Austen', 'Friedrich Nietzsche', 'Mark Twain', 'Bob Marley', 'Jane Austen', 'Alfred Tennyson', 'Marilyn Monroe', 'J.K. Rowling', 'Mark Twain', 'Ernest Hemingway', 'George Carlin', 'Mark Twain', 'J.K. Rowling', 'Mark Twain', 'Steve Martin', 'Albert Einstein', 'Stephenie Meyer']\n"
     ]
    }
   ],
   "source": [
    "final_authors = []\n",
    "for authors in all_authors3:\n",
    "    for author_name in authors:\n",
    "        final_authors.append(author_name)\n",
    "print(final_authors)\n"
   ]
  },
  {
   "cell_type": "code",
   "execution_count": 457,
   "metadata": {},
   "outputs": [],
   "source": [
    "quotes_to_scrap['Authors'] = final_authors"
   ]
  },
  {
   "cell_type": "code",
   "execution_count": 458,
   "metadata": {},
   "outputs": [
    {
     "data": {
      "text/html": [
       "<div>\n",
       "<style scoped>\n",
       "    .dataframe tbody tr th:only-of-type {\n",
       "        vertical-align: middle;\n",
       "    }\n",
       "\n",
       "    .dataframe tbody tr th {\n",
       "        vertical-align: top;\n",
       "    }\n",
       "\n",
       "    .dataframe thead th {\n",
       "        text-align: right;\n",
       "    }\n",
       "</style>\n",
       "<table border=\"1\" class=\"dataframe\">\n",
       "  <thead>\n",
       "    <tr style=\"text-align: right;\">\n",
       "      <th></th>\n",
       "      <th>Quotes</th>\n",
       "      <th>Authors</th>\n",
       "    </tr>\n",
       "  </thead>\n",
       "  <tbody>\n",
       "    <tr>\n",
       "      <th>0</th>\n",
       "      <td>“It is better to be hated for what you are tha...</td>\n",
       "      <td>André Gide</td>\n",
       "    </tr>\n",
       "    <tr>\n",
       "      <th>1</th>\n",
       "      <td>“This life is what you make it. No matter what...</td>\n",
       "      <td>Marilyn Monroe</td>\n",
       "    </tr>\n",
       "    <tr>\n",
       "      <th>2</th>\n",
       "      <td>“You may not be her first, her last, or her on...</td>\n",
       "      <td>Bob Marley</td>\n",
       "    </tr>\n",
       "    <tr>\n",
       "      <th>3</th>\n",
       "      <td>“The opposite of love is not hate, it's indiff...</td>\n",
       "      <td>Elie Wiesel</td>\n",
       "    </tr>\n",
       "    <tr>\n",
       "      <th>4</th>\n",
       "      <td>“It is not a lack of love, but a lack of frien...</td>\n",
       "      <td>Friedrich Nietzsche</td>\n",
       "    </tr>\n",
       "    <tr>\n",
       "      <th>...</th>\n",
       "      <td>...</td>\n",
       "      <td>...</td>\n",
       "    </tr>\n",
       "    <tr>\n",
       "      <th>68</th>\n",
       "      <td>“The truth.\" Dumbledore sighed. \"It is a beaut...</td>\n",
       "      <td>J.K. Rowling</td>\n",
       "    </tr>\n",
       "    <tr>\n",
       "      <th>69</th>\n",
       "      <td>“Never tell the truth to people who are not wo...</td>\n",
       "      <td>Mark Twain</td>\n",
       "    </tr>\n",
       "    <tr>\n",
       "      <th>70</th>\n",
       "      <td>“A day without sunshine is like, you know, nig...</td>\n",
       "      <td>Steve Martin</td>\n",
       "    </tr>\n",
       "    <tr>\n",
       "      <th>71</th>\n",
       "      <td>“Life is like riding a bicycle. To keep your b...</td>\n",
       "      <td>Albert Einstein</td>\n",
       "    </tr>\n",
       "    <tr>\n",
       "      <th>72</th>\n",
       "      <td>“He's like a drug for you, Bella.”</td>\n",
       "      <td>Stephenie Meyer</td>\n",
       "    </tr>\n",
       "  </tbody>\n",
       "</table>\n",
       "<p>73 rows × 2 columns</p>\n",
       "</div>"
      ],
      "text/plain": [
       "                                               Quotes              Authors\n",
       "0   “It is better to be hated for what you are tha...           André Gide\n",
       "1   “This life is what you make it. No matter what...       Marilyn Monroe\n",
       "2   “You may not be her first, her last, or her on...           Bob Marley\n",
       "3   “The opposite of love is not hate, it's indiff...          Elie Wiesel\n",
       "4   “It is not a lack of love, but a lack of frien...  Friedrich Nietzsche\n",
       "..                                                ...                  ...\n",
       "68  “The truth.\" Dumbledore sighed. \"It is a beaut...         J.K. Rowling\n",
       "69  “Never tell the truth to people who are not wo...           Mark Twain\n",
       "70  “A day without sunshine is like, you know, nig...         Steve Martin\n",
       "71  “Life is like riding a bicycle. To keep your b...      Albert Einstein\n",
       "72                 “He's like a drug for you, Bella.”      Stephenie Meyer\n",
       "\n",
       "[73 rows x 2 columns]"
      ]
     },
     "execution_count": 458,
     "metadata": {},
     "output_type": "execute_result"
    }
   ],
   "source": [
    "quotes_to_scrap"
   ]
  },
  {
   "cell_type": "code",
   "execution_count": 474,
   "metadata": {},
   "outputs": [
    {
     "data": {
      "text/plain": [
       "['André Gide',\n",
       " 'Marilyn Monroe',\n",
       " 'Bob Marley',\n",
       " 'Elie Wiesel',\n",
       " 'Friedrich Nietzsche',\n",
       " 'Pablo Neruda',\n",
       " 'Marilyn Monroe',\n",
       " 'Marilyn Monroe',\n",
       " 'James Baldwin',\n",
       " 'Jane Austen',\n",
       " 'Albert Einstein',\n",
       " 'Marilyn Monroe',\n",
       " 'Thomas A. Edison',\n",
       " 'Marilyn Monroe',\n",
       " 'Elie Wiesel',\n",
       " 'J.K. Rowling',\n",
       " 'George Eliot',\n",
       " 'C.S. Lewis',\n",
       " 'Martin Luther King Jr.',\n",
       " 'Helen Keller',\n",
       " 'Albert Einstein',\n",
       " 'André Gide',\n",
       " 'Marilyn Monroe',\n",
       " 'Douglas Adams',\n",
       " 'Mark Twain',\n",
       " 'Allen Saunders',\n",
       " 'Dr. Seuss',\n",
       " 'Albert Einstein',\n",
       " 'George Bernard Shaw',\n",
       " 'Ralph Waldo Emerson',\n",
       " 'Jane Austen',\n",
       " 'Steve Martin',\n",
       " 'Garrison Keillor',\n",
       " 'Jim Henson',\n",
       " 'Charles M. Schulz',\n",
       " 'Suzanne Collins',\n",
       " 'Charles Bukowski',\n",
       " 'Terry Pratchett',\n",
       " 'Dr. Seuss',\n",
       " 'George Carlin',\n",
       " 'Jane Austen',\n",
       " 'Mark Twain',\n",
       " 'Jorge Luis Borges',\n",
       " 'C.S. Lewis',\n",
       " 'Haruki Murakami',\n",
       " 'Ernest Hemingway',\n",
       " 'J.D. Salinger',\n",
       " 'Mark Twain',\n",
       " 'Jane Austen',\n",
       " \"Madeleine L'Engle\",\n",
       " 'Dr. Seuss',\n",
       " 'William Nicholson',\n",
       " 'George R.R. Martin',\n",
       " 'C.S. Lewis',\n",
       " 'J.D. Salinger',\n",
       " 'Mark Twain',\n",
       " 'Jane Austen',\n",
       " 'Friedrich Nietzsche',\n",
       " 'Mark Twain',\n",
       " 'Bob Marley',\n",
       " 'Jane Austen',\n",
       " 'Alfred Tennyson',\n",
       " 'Marilyn Monroe',\n",
       " 'J.K. Rowling',\n",
       " 'Mark Twain',\n",
       " 'Ernest Hemingway',\n",
       " 'George Carlin',\n",
       " 'Mark Twain',\n",
       " 'J.K. Rowling',\n",
       " 'Mark Twain',\n",
       " 'Steve Martin',\n",
       " 'Albert Einstein',\n",
       " 'Stephenie Meyer']"
      ]
     },
     "execution_count": 474,
     "metadata": {},
     "output_type": "execute_result"
    }
   ],
   "source": [
    "def quotes(url):\n",
    "    new_list = []\n",
    "    author_names = []\n",
    "    final_list = []\n",
    "    source = urllib.request.urlopen(url).read()\n",
    "    soup = bs.BeautifulSoup(source, 'html.parser')\n",
    "    data = soup.find_all('div', attrs = {'class':'row','class':'col-md-8'})\n",
    "    for i in data:\n",
    "        text = i.find_all('span', class_='text')\n",
    "        for j in text:\n",
    "            new_list.append(j.text.strip())\n",
    "    for author in data:\n",
    "        author_name = author.find_all('small', class_='author')\n",
    "        for a_n in author_name:\n",
    "            author_names.append(a_n.text.strip())\n",
    "    \n",
    "       # final_list.append({\n",
    "        #    'quotes':new_list,\n",
    "         #   'authors':author_names\n",
    "        #})\n",
    "    return author_names, new_list\n",
    "\n",
    "urls = get_urls(soup)\n",
    "all_authors3 = []\n",
    "final_authors =[]\n",
    "for url in urls:\n",
    "    author3, quotes3 = quotes(url)\n",
    "    for author in author3:\n",
    "        final_authors.append(author)\n",
    "        \n",
    "final_authors"
   ]
  },
  {
   "cell_type": "code",
   "execution_count": 475,
   "metadata": {},
   "outputs": [
    {
     "data": {
      "text/plain": [
       "73"
      ]
     },
     "execution_count": 475,
     "metadata": {},
     "output_type": "execute_result"
    }
   ],
   "source": [
    "len(final_authors)"
   ]
  },
  {
   "cell_type": "code",
   "execution_count": 505,
   "metadata": {},
   "outputs": [
    {
     "ename": "TypeError",
     "evalue": "get_author_birthdate() takes 0 positional arguments but 1 was given",
     "output_type": "error",
     "traceback": [
      "\u001b[0;31m---------------------------------------------------------------------------\u001b[0m",
      "\u001b[0;31mTypeError\u001b[0m                                 Traceback (most recent call last)",
      "\u001b[0;32m<ipython-input-505-4d592699fda3>\u001b[0m in \u001b[0;36m<module>\u001b[0;34m\u001b[0m\n\u001b[0;32m----> 1\u001b[0;31m \u001b[0mauthor_birthdate\u001b[0m\u001b[0;34m,\u001b[0m \u001b[0mauthor_birthplace\u001b[0m \u001b[0;34m=\u001b[0m \u001b[0mget_author_birthdate\u001b[0m\u001b[0;34m(\u001b[0m\u001b[0mall_author_urls\u001b[0m\u001b[0;34m)\u001b[0m\u001b[0;34m\u001b[0m\u001b[0;34m\u001b[0m\u001b[0m\n\u001b[0m",
      "\u001b[0;31mTypeError\u001b[0m: get_author_birthdate() takes 0 positional arguments but 1 was given"
     ]
    }
   ],
   "source": [
    "author_birthdate, author_birthplace = get_author_birthdate(all_author_urls)"
   ]
  },
  {
   "cell_type": "code",
   "execution_count": 529,
   "metadata": {},
   "outputs": [
    {
     "ename": "HTTPError",
     "evalue": "HTTP Error 404: NOT FOUND",
     "output_type": "error",
     "traceback": [
      "\u001b[0;31m---------------------------------------------------------------------------\u001b[0m",
      "\u001b[0;31mHTTPError\u001b[0m                                 Traceback (most recent call last)",
      "\u001b[0;32m<ipython-input-529-87abcd89155d>\u001b[0m in \u001b[0;36m<module>\u001b[0;34m\u001b[0m\n\u001b[1;32m      1\u001b[0m \u001b[0;31m#for j in all_author_urls:\u001b[0m\u001b[0;34m\u001b[0m\u001b[0;34m\u001b[0m\u001b[0;34m\u001b[0m\u001b[0m\n\u001b[0;32m----> 2\u001b[0;31m \u001b[0mauthor_birthdate\u001b[0m\u001b[0;34m,\u001b[0m \u001b[0mauthor_birthplace\u001b[0m \u001b[0;34m=\u001b[0m \u001b[0mget_author_birthdate\u001b[0m\u001b[0;34m(\u001b[0m\u001b[0mall_author_urls\u001b[0m\u001b[0;34m)\u001b[0m\u001b[0;34m\u001b[0m\u001b[0;34m\u001b[0m\u001b[0m\n\u001b[0m\u001b[1;32m      3\u001b[0m    \u001b[0;31m# print(j)\u001b[0m\u001b[0;34m\u001b[0m\u001b[0;34m\u001b[0m\u001b[0;34m\u001b[0m\u001b[0m\n\u001b[1;32m      4\u001b[0m \u001b[0;31m#    final_url = base_url + j.lstrip('/')\u001b[0m\u001b[0;34m\u001b[0m\u001b[0;34m\u001b[0m\u001b[0;34m\u001b[0m\u001b[0m\n\u001b[1;32m      5\u001b[0m  \u001b[0;31m#   all_author_urls.append(j)\u001b[0m\u001b[0;34m\u001b[0m\u001b[0;34m\u001b[0m\u001b[0;34m\u001b[0m\u001b[0m\n",
      "\u001b[0;32m<ipython-input-527-5c248f0c98f2>\u001b[0m in \u001b[0;36mget_author_birthdate\u001b[0;34m(all_author_urls)\u001b[0m\n\u001b[1;32m      6\u001b[0m     \u001b[0mauthor_info\u001b[0m \u001b[0;34m=\u001b[0m \u001b[0;34m{\u001b[0m\u001b[0;34m}\u001b[0m\u001b[0;34m\u001b[0m\u001b[0;34m\u001b[0m\u001b[0m\n\u001b[1;32m      7\u001b[0m     \u001b[0;32mfor\u001b[0m \u001b[0mauthor_url_single\u001b[0m \u001b[0;32min\u001b[0m \u001b[0mall_author_urls\u001b[0m\u001b[0;34m:\u001b[0m\u001b[0;34m\u001b[0m\u001b[0;34m\u001b[0m\u001b[0m\n\u001b[0;32m----> 8\u001b[0;31m         \u001b[0msource_author\u001b[0m \u001b[0;34m=\u001b[0m \u001b[0murllib\u001b[0m\u001b[0;34m.\u001b[0m\u001b[0mrequest\u001b[0m\u001b[0;34m.\u001b[0m\u001b[0murlopen\u001b[0m\u001b[0;34m(\u001b[0m\u001b[0mauthor_url_single\u001b[0m\u001b[0;34m)\u001b[0m\u001b[0;34m.\u001b[0m\u001b[0mread\u001b[0m\u001b[0;34m(\u001b[0m\u001b[0;34m)\u001b[0m\u001b[0;34m\u001b[0m\u001b[0;34m\u001b[0m\u001b[0m\n\u001b[0m\u001b[1;32m      9\u001b[0m         \u001b[0msoup\u001b[0m \u001b[0;34m=\u001b[0m \u001b[0mbs\u001b[0m\u001b[0;34m.\u001b[0m\u001b[0mBeautifulSoup\u001b[0m\u001b[0;34m(\u001b[0m\u001b[0msource_author\u001b[0m\u001b[0;34m,\u001b[0m \u001b[0;34m'html.parser'\u001b[0m\u001b[0;34m)\u001b[0m\u001b[0;34m\u001b[0m\u001b[0;34m\u001b[0m\u001b[0m\n\u001b[1;32m     10\u001b[0m         \u001b[0mdata_author\u001b[0m \u001b[0;34m=\u001b[0m \u001b[0msoup\u001b[0m\u001b[0;34m.\u001b[0m\u001b[0mselect\u001b[0m\u001b[0;34m(\u001b[0m\u001b[0;34m'p'\u001b[0m\u001b[0;34m)\u001b[0m\u001b[0;34m\u001b[0m\u001b[0;34m\u001b[0m\u001b[0m\n",
      "\u001b[0;32m~/opt/anaconda3/envs/Dash-env/lib/python3.7/urllib/request.py\u001b[0m in \u001b[0;36murlopen\u001b[0;34m(url, data, timeout, cafile, capath, cadefault, context)\u001b[0m\n\u001b[1;32m    220\u001b[0m     \u001b[0;32melse\u001b[0m\u001b[0;34m:\u001b[0m\u001b[0;34m\u001b[0m\u001b[0;34m\u001b[0m\u001b[0m\n\u001b[1;32m    221\u001b[0m         \u001b[0mopener\u001b[0m \u001b[0;34m=\u001b[0m \u001b[0m_opener\u001b[0m\u001b[0;34m\u001b[0m\u001b[0;34m\u001b[0m\u001b[0m\n\u001b[0;32m--> 222\u001b[0;31m     \u001b[0;32mreturn\u001b[0m \u001b[0mopener\u001b[0m\u001b[0;34m.\u001b[0m\u001b[0mopen\u001b[0m\u001b[0;34m(\u001b[0m\u001b[0murl\u001b[0m\u001b[0;34m,\u001b[0m \u001b[0mdata\u001b[0m\u001b[0;34m,\u001b[0m \u001b[0mtimeout\u001b[0m\u001b[0;34m)\u001b[0m\u001b[0;34m\u001b[0m\u001b[0;34m\u001b[0m\u001b[0m\n\u001b[0m\u001b[1;32m    223\u001b[0m \u001b[0;34m\u001b[0m\u001b[0m\n\u001b[1;32m    224\u001b[0m \u001b[0;32mdef\u001b[0m \u001b[0minstall_opener\u001b[0m\u001b[0;34m(\u001b[0m\u001b[0mopener\u001b[0m\u001b[0;34m)\u001b[0m\u001b[0;34m:\u001b[0m\u001b[0;34m\u001b[0m\u001b[0;34m\u001b[0m\u001b[0m\n",
      "\u001b[0;32m~/opt/anaconda3/envs/Dash-env/lib/python3.7/urllib/request.py\u001b[0m in \u001b[0;36mopen\u001b[0;34m(self, fullurl, data, timeout)\u001b[0m\n\u001b[1;32m    529\u001b[0m         \u001b[0;32mfor\u001b[0m \u001b[0mprocessor\u001b[0m \u001b[0;32min\u001b[0m \u001b[0mself\u001b[0m\u001b[0;34m.\u001b[0m\u001b[0mprocess_response\u001b[0m\u001b[0;34m.\u001b[0m\u001b[0mget\u001b[0m\u001b[0;34m(\u001b[0m\u001b[0mprotocol\u001b[0m\u001b[0;34m,\u001b[0m \u001b[0;34m[\u001b[0m\u001b[0;34m]\u001b[0m\u001b[0;34m)\u001b[0m\u001b[0;34m:\u001b[0m\u001b[0;34m\u001b[0m\u001b[0;34m\u001b[0m\u001b[0m\n\u001b[1;32m    530\u001b[0m             \u001b[0mmeth\u001b[0m \u001b[0;34m=\u001b[0m \u001b[0mgetattr\u001b[0m\u001b[0;34m(\u001b[0m\u001b[0mprocessor\u001b[0m\u001b[0;34m,\u001b[0m \u001b[0mmeth_name\u001b[0m\u001b[0;34m)\u001b[0m\u001b[0;34m\u001b[0m\u001b[0;34m\u001b[0m\u001b[0m\n\u001b[0;32m--> 531\u001b[0;31m             \u001b[0mresponse\u001b[0m \u001b[0;34m=\u001b[0m \u001b[0mmeth\u001b[0m\u001b[0;34m(\u001b[0m\u001b[0mreq\u001b[0m\u001b[0;34m,\u001b[0m \u001b[0mresponse\u001b[0m\u001b[0;34m)\u001b[0m\u001b[0;34m\u001b[0m\u001b[0;34m\u001b[0m\u001b[0m\n\u001b[0m\u001b[1;32m    532\u001b[0m \u001b[0;34m\u001b[0m\u001b[0m\n\u001b[1;32m    533\u001b[0m         \u001b[0;32mreturn\u001b[0m \u001b[0mresponse\u001b[0m\u001b[0;34m\u001b[0m\u001b[0;34m\u001b[0m\u001b[0m\n",
      "\u001b[0;32m~/opt/anaconda3/envs/Dash-env/lib/python3.7/urllib/request.py\u001b[0m in \u001b[0;36mhttp_response\u001b[0;34m(self, request, response)\u001b[0m\n\u001b[1;32m    639\u001b[0m         \u001b[0;32mif\u001b[0m \u001b[0;32mnot\u001b[0m \u001b[0;34m(\u001b[0m\u001b[0;36m200\u001b[0m \u001b[0;34m<=\u001b[0m \u001b[0mcode\u001b[0m \u001b[0;34m<\u001b[0m \u001b[0;36m300\u001b[0m\u001b[0;34m)\u001b[0m\u001b[0;34m:\u001b[0m\u001b[0;34m\u001b[0m\u001b[0;34m\u001b[0m\u001b[0m\n\u001b[1;32m    640\u001b[0m             response = self.parent.error(\n\u001b[0;32m--> 641\u001b[0;31m                 'http', request, response, code, msg, hdrs)\n\u001b[0m\u001b[1;32m    642\u001b[0m \u001b[0;34m\u001b[0m\u001b[0m\n\u001b[1;32m    643\u001b[0m         \u001b[0;32mreturn\u001b[0m \u001b[0mresponse\u001b[0m\u001b[0;34m\u001b[0m\u001b[0;34m\u001b[0m\u001b[0m\n",
      "\u001b[0;32m~/opt/anaconda3/envs/Dash-env/lib/python3.7/urllib/request.py\u001b[0m in \u001b[0;36merror\u001b[0;34m(self, proto, *args)\u001b[0m\n\u001b[1;32m    567\u001b[0m         \u001b[0;32mif\u001b[0m \u001b[0mhttp_err\u001b[0m\u001b[0;34m:\u001b[0m\u001b[0;34m\u001b[0m\u001b[0;34m\u001b[0m\u001b[0m\n\u001b[1;32m    568\u001b[0m             \u001b[0margs\u001b[0m \u001b[0;34m=\u001b[0m \u001b[0;34m(\u001b[0m\u001b[0mdict\u001b[0m\u001b[0;34m,\u001b[0m \u001b[0;34m'default'\u001b[0m\u001b[0;34m,\u001b[0m \u001b[0;34m'http_error_default'\u001b[0m\u001b[0;34m)\u001b[0m \u001b[0;34m+\u001b[0m \u001b[0morig_args\u001b[0m\u001b[0;34m\u001b[0m\u001b[0;34m\u001b[0m\u001b[0m\n\u001b[0;32m--> 569\u001b[0;31m             \u001b[0;32mreturn\u001b[0m \u001b[0mself\u001b[0m\u001b[0;34m.\u001b[0m\u001b[0m_call_chain\u001b[0m\u001b[0;34m(\u001b[0m\u001b[0;34m*\u001b[0m\u001b[0margs\u001b[0m\u001b[0;34m)\u001b[0m\u001b[0;34m\u001b[0m\u001b[0;34m\u001b[0m\u001b[0m\n\u001b[0m\u001b[1;32m    570\u001b[0m \u001b[0;34m\u001b[0m\u001b[0m\n\u001b[1;32m    571\u001b[0m \u001b[0;31m# XXX probably also want an abstract factory that knows when it makes\u001b[0m\u001b[0;34m\u001b[0m\u001b[0;34m\u001b[0m\u001b[0;34m\u001b[0m\u001b[0m\n",
      "\u001b[0;32m~/opt/anaconda3/envs/Dash-env/lib/python3.7/urllib/request.py\u001b[0m in \u001b[0;36m_call_chain\u001b[0;34m(self, chain, kind, meth_name, *args)\u001b[0m\n\u001b[1;32m    501\u001b[0m         \u001b[0;32mfor\u001b[0m \u001b[0mhandler\u001b[0m \u001b[0;32min\u001b[0m \u001b[0mhandlers\u001b[0m\u001b[0;34m:\u001b[0m\u001b[0;34m\u001b[0m\u001b[0;34m\u001b[0m\u001b[0m\n\u001b[1;32m    502\u001b[0m             \u001b[0mfunc\u001b[0m \u001b[0;34m=\u001b[0m \u001b[0mgetattr\u001b[0m\u001b[0;34m(\u001b[0m\u001b[0mhandler\u001b[0m\u001b[0;34m,\u001b[0m \u001b[0mmeth_name\u001b[0m\u001b[0;34m)\u001b[0m\u001b[0;34m\u001b[0m\u001b[0;34m\u001b[0m\u001b[0m\n\u001b[0;32m--> 503\u001b[0;31m             \u001b[0mresult\u001b[0m \u001b[0;34m=\u001b[0m \u001b[0mfunc\u001b[0m\u001b[0;34m(\u001b[0m\u001b[0;34m*\u001b[0m\u001b[0margs\u001b[0m\u001b[0;34m)\u001b[0m\u001b[0;34m\u001b[0m\u001b[0;34m\u001b[0m\u001b[0m\n\u001b[0m\u001b[1;32m    504\u001b[0m             \u001b[0;32mif\u001b[0m \u001b[0mresult\u001b[0m \u001b[0;32mis\u001b[0m \u001b[0;32mnot\u001b[0m \u001b[0;32mNone\u001b[0m\u001b[0;34m:\u001b[0m\u001b[0;34m\u001b[0m\u001b[0;34m\u001b[0m\u001b[0m\n\u001b[1;32m    505\u001b[0m                 \u001b[0;32mreturn\u001b[0m \u001b[0mresult\u001b[0m\u001b[0;34m\u001b[0m\u001b[0;34m\u001b[0m\u001b[0m\n",
      "\u001b[0;32m~/opt/anaconda3/envs/Dash-env/lib/python3.7/urllib/request.py\u001b[0m in \u001b[0;36mhttp_error_default\u001b[0;34m(self, req, fp, code, msg, hdrs)\u001b[0m\n\u001b[1;32m    647\u001b[0m \u001b[0;32mclass\u001b[0m \u001b[0mHTTPDefaultErrorHandler\u001b[0m\u001b[0;34m(\u001b[0m\u001b[0mBaseHandler\u001b[0m\u001b[0;34m)\u001b[0m\u001b[0;34m:\u001b[0m\u001b[0;34m\u001b[0m\u001b[0;34m\u001b[0m\u001b[0m\n\u001b[1;32m    648\u001b[0m     \u001b[0;32mdef\u001b[0m \u001b[0mhttp_error_default\u001b[0m\u001b[0;34m(\u001b[0m\u001b[0mself\u001b[0m\u001b[0;34m,\u001b[0m \u001b[0mreq\u001b[0m\u001b[0;34m,\u001b[0m \u001b[0mfp\u001b[0m\u001b[0;34m,\u001b[0m \u001b[0mcode\u001b[0m\u001b[0;34m,\u001b[0m \u001b[0mmsg\u001b[0m\u001b[0;34m,\u001b[0m \u001b[0mhdrs\u001b[0m\u001b[0;34m)\u001b[0m\u001b[0;34m:\u001b[0m\u001b[0;34m\u001b[0m\u001b[0;34m\u001b[0m\u001b[0m\n\u001b[0;32m--> 649\u001b[0;31m         \u001b[0;32mraise\u001b[0m \u001b[0mHTTPError\u001b[0m\u001b[0;34m(\u001b[0m\u001b[0mreq\u001b[0m\u001b[0;34m.\u001b[0m\u001b[0mfull_url\u001b[0m\u001b[0;34m,\u001b[0m \u001b[0mcode\u001b[0m\u001b[0;34m,\u001b[0m \u001b[0mmsg\u001b[0m\u001b[0;34m,\u001b[0m \u001b[0mhdrs\u001b[0m\u001b[0;34m,\u001b[0m \u001b[0mfp\u001b[0m\u001b[0;34m)\u001b[0m\u001b[0;34m\u001b[0m\u001b[0;34m\u001b[0m\u001b[0m\n\u001b[0m\u001b[1;32m    650\u001b[0m \u001b[0;34m\u001b[0m\u001b[0m\n\u001b[1;32m    651\u001b[0m \u001b[0;32mclass\u001b[0m \u001b[0mHTTPRedirectHandler\u001b[0m\u001b[0;34m(\u001b[0m\u001b[0mBaseHandler\u001b[0m\u001b[0;34m)\u001b[0m\u001b[0;34m:\u001b[0m\u001b[0;34m\u001b[0m\u001b[0;34m\u001b[0m\u001b[0m\n",
      "\u001b[0;31mHTTPError\u001b[0m: HTTP Error 404: NOT FOUND"
     ]
    }
   ],
   "source": [
    "#for j in all_author_urls:\n",
    "author_birthdate, author_birthplace = get_author_birthdate(all_author_urls)\n",
    "   # print(j)\n",
    "#    final_url = base_url + j.lstrip('/')\n",
    " #   all_author_urls.append(j)\n",
    "\n"
   ]
  },
  {
   "cell_type": "code",
   "execution_count": 531,
   "metadata": {},
   "outputs": [
    {
     "data": {
      "text/plain": [
       "['http://quotes.toscrape.com/author/Andre-Gide',\n",
       " 'http://quotes.toscrape.com/author/Marilyn-Monroe',\n",
       " 'http://quotes.toscrape.com/author/Bob-Marley',\n",
       " 'http://quotes.toscrape.com/author/Elie-Wiesel',\n",
       " 'http://quotes.toscrape.com/author/Friedrich-Nietzsche',\n",
       " 'http://quotes.toscrape.com/author/Pablo-Neruda',\n",
       " 'http://quotes.toscrape.com/author/Marilyn-Monroe',\n",
       " 'http://quotes.toscrape.com/author/Marilyn-Monroe',\n",
       " 'http://quotes.toscrape.com/author/James-Baldwin',\n",
       " 'http://quotes.toscrape.com/author/Jane-Austen',\n",
       " 'http://quotes.toscrape.com/author/Albert-Einstein',\n",
       " 'http://quotes.toscrape.com/author/Marilyn-Monroe',\n",
       " 'http://quotes.toscrape.com/author/Thomas-A-Edison',\n",
       " 'http://quotes.toscrape.com/author/Marilyn-Monroe',\n",
       " 'http://quotes.toscrape.com/author/Elie-Wiesel',\n",
       " 'http://quotes.toscrape.com/author/J-K-Rowling',\n",
       " 'http://quotes.toscrape.com/author/George-Eliot',\n",
       " 'http://quotes.toscrape.com/author/C-S-Lewis',\n",
       " 'http://quotes.toscrape.com/author/Martin-Luther-King-Jr',\n",
       " 'http://quotes.toscrape.com/author/Helen-Keller',\n",
       " 'http://quotes.toscrape.com/author/Albert-Einstein',\n",
       " 'http://quotes.toscrape.com/author/Andre-Gide',\n",
       " 'http://quotes.toscrape.com/author/Marilyn-Monroe',\n",
       " 'http://quotes.toscrape.com/author/Douglas-Adams',\n",
       " 'http://quotes.toscrape.com/author/Mark-Twain',\n",
       " 'http://quotes.toscrape.com/author/Allen-Saunders',\n",
       " 'http://quotes.toscrape.com/author/Dr-Seuss',\n",
       " 'http://quotes.toscrape.com/author/Albert-Einstein',\n",
       " 'http://quotes.toscrape.com/author/George-Bernard-Shaw',\n",
       " 'http://quotes.toscrape.com/author/Ralph-Waldo-Emerson',\n",
       " 'http://quotes.toscrape.com/author/Jane-Austen',\n",
       " 'http://quotes.toscrape.com/author/Steve-Martin',\n",
       " 'http://quotes.toscrape.com/author/Garrison-Keillor',\n",
       " 'http://quotes.toscrape.com/author/Jim-Henson',\n",
       " 'http://quotes.toscrape.com/author/Charles-M-Schulz',\n",
       " 'http://quotes.toscrape.com/author/Suzanne-Collins',\n",
       " 'http://quotes.toscrape.com/author/Charles-Bukowski',\n",
       " 'http://quotes.toscrape.com/author/Terry-Pratchett',\n",
       " 'http://quotes.toscrape.com/author/Dr-Seuss',\n",
       " 'http://quotes.toscrape.com/author/George-Carlin',\n",
       " 'http://quotes.toscrape.com/author/Jane-Austen',\n",
       " 'http://quotes.toscrape.com/author/Mark-Twain',\n",
       " 'http://quotes.toscrape.com/author/Jorge-Luis-Borges',\n",
       " 'http://quotes.toscrape.com/author/C-S-Lewis',\n",
       " 'http://quotes.toscrape.com/author/Haruki-Murakami',\n",
       " 'http://quotes.toscrape.com/author/Ernest-Hemingway',\n",
       " 'http://quotes.toscrape.com/author/J-D-Salinger',\n",
       " 'http://quotes.toscrape.com/tag/authors/page/1/',\n",
       " 'http://quotes.toscrape.com/author/Mark-Twain',\n",
       " 'http://quotes.toscrape.com/author/Jane-Austen',\n",
       " 'http://quotes.toscrape.com/author/Madeleine-LEngle',\n",
       " 'http://quotes.toscrape.com/author/Dr-Seuss',\n",
       " 'http://quotes.toscrape.com/author/William-Nicholson',\n",
       " 'http://quotes.toscrape.com/author/George-R-R-Martin',\n",
       " 'http://quotes.toscrape.com/author/C-S-Lewis',\n",
       " 'http://quotes.toscrape.com/author/J-D-Salinger',\n",
       " 'http://quotes.toscrape.com/tag/authors/page/1/',\n",
       " 'http://quotes.toscrape.com/author/Mark-Twain',\n",
       " 'http://quotes.toscrape.com/author/Jane-Austen',\n",
       " 'http://quotes.toscrape.com/author/Friedrich-Nietzsche',\n",
       " 'http://quotes.toscrape.com/author/Mark-Twain',\n",
       " 'http://quotes.toscrape.com/author/Bob-Marley',\n",
       " 'http://quotes.toscrape.com/author/Jane-Austen',\n",
       " 'http://quotes.toscrape.com/author/Alfred-Tennyson',\n",
       " 'http://quotes.toscrape.com/author/Marilyn-Monroe',\n",
       " 'http://quotes.toscrape.com/author/J-K-Rowling',\n",
       " 'http://quotes.toscrape.com/author/Mark-Twain',\n",
       " 'http://quotes.toscrape.com/author/Ernest-Hemingway',\n",
       " 'http://quotes.toscrape.com/author/George-Carlin',\n",
       " 'http://quotes.toscrape.com/author/Mark-Twain',\n",
       " 'http://quotes.toscrape.com/author/J-K-Rowling',\n",
       " 'http://quotes.toscrape.com/author/Mark-Twain',\n",
       " 'http://quotes.toscrape.com/author/Steve-Martin',\n",
       " 'http://quotes.toscrape.com/author/Albert-Einstein',\n",
       " 'http://quotes.toscrape.com/author/Stephenie-Meyer']"
      ]
     },
     "execution_count": 531,
     "metadata": {},
     "output_type": "execute_result"
    }
   ],
   "source": [
    "all_author_urls"
   ]
  },
  {
   "cell_type": "code",
   "execution_count": 532,
   "metadata": {},
   "outputs": [
    {
     "name": "stdout",
     "output_type": "stream",
     "text": [
      "                                               Quotes               Author\n",
      "0   “It is better to be hated for what you are tha...           André Gide\n",
      "1   “This life is what you make it. No matter what...       Marilyn Monroe\n",
      "2   “You may not be her first, her last, or her on...           Bob Marley\n",
      "3   “The opposite of love is not hate, it's indiff...          Elie Wiesel\n",
      "4   “It is not a lack of love, but a lack of frien...  Friedrich Nietzsche\n",
      "..                                                ...                  ...\n",
      "68  “The truth.\" Dumbledore sighed. \"It is a beaut...         J.K. Rowling\n",
      "69  “Never tell the truth to people who are not wo...           Mark Twain\n",
      "70  “A day without sunshine is like, you know, nig...         Steve Martin\n",
      "71  “Life is like riding a bicycle. To keep your b...      Albert Einstein\n",
      "72                 “He's like a drug for you, Bella.”      Stephenie Meyer\n",
      "\n",
      "[73 rows x 2 columns]\n"
     ]
    }
   ],
   "source": [
    "import pandas as pd\n",
    "import numpy as np\n",
    "import bs4 as bs\n",
    "import urllib.request\n",
    "from urllib.parse import urlparse, urljoin\n",
    "\n",
    "# Declaring the base urls - Source of Data\n",
    "base_url = 'http://quotes.toscrape.com/'\n",
    "source = urllib.request.urlopen(base_url).read()\n",
    "soup = bs.BeautifulSoup(source, 'html.parser')\n",
    "\n",
    "\n",
    "#function to get the quotes text from the webpages\n",
    "def quotes(url):\n",
    "    new_list = []\n",
    "    author_names = []\n",
    "    final_list = []\n",
    "    source = urllib.request.urlopen(url).read()\n",
    "    soup = bs.BeautifulSoup(source, 'html.parser')\n",
    "    data = soup.find_all('div', attrs = {'class':'row','class':'col-md-8'})\n",
    "    for i in data:\n",
    "        text = i.find_all('span', class_='text')\n",
    "        for j in text:\n",
    "            new_list.append(j.text.strip())\n",
    "    for author in data:\n",
    "        author_name = author.find_all('small', class_='author')\n",
    "        for a_n in author_name:\n",
    "            author_names.append(a_n.text.strip())\n",
    "\n",
    "       # final_list.append({\n",
    "        #    'quotes':new_list,\n",
    "         #   'authors':author_names\n",
    "        #})\n",
    "    return author_names, new_list\n",
    "\n",
    "# Getting the URLs\n",
    "def get_urls(soup):\n",
    "    all_tags = []\n",
    "    for i in soup.find_all('div', class_ = 'col-md-4 tags-box'):\n",
    "        tags = i.find_all('a', href = True)\n",
    "        for j in tags:\n",
    "            all_tags.append(j.get('href'))\n",
    "    base_url = 'http://quotes.toscrape.com/'\n",
    "    tag_urls = []\n",
    "    for tag_url in all_tags:\n",
    "        url_tag = urljoin(base_url, tag_url)\n",
    "        tag_urls.append(url_tag)\n",
    "    return tag_urls\n",
    "\n",
    "# Get author links to get author's personal info\n",
    "def get_author_links(url):\n",
    "    source = urllib.request.urlopen(url).read()\n",
    "    soup = bs.BeautifulSoup(source, 'html.parser')\n",
    "    data = soup.find_all('div', attrs = {'class':'row','class':'col-md-8'})\n",
    "    author_links = []\n",
    "    for i in data:\n",
    "        author_link = i.select('a')\n",
    "        for j in author_link:\n",
    "            author_link2 = j.get('href')\n",
    "            if 'author' in author_link2:\n",
    "                author_links.append(author_link2)\n",
    "\n",
    "    return author_links\n",
    "\n",
    "def get_author_birthdate(all_author_urls):\n",
    "    author_birthdates = []\n",
    "    author_birthplaces = []\n",
    "    author_info = {}\n",
    "    for author_url_single in all_author_urls:\n",
    "        source_author = urllib.request.urlopen(author_url_single).read()\n",
    "        soup = bs.BeautifulSoup(source_author, 'html.parser')\n",
    "        data_author = soup.select('p')\n",
    "        for author in data_author:\n",
    "            birthdate = author.find_all('span',class_='author-born-date')\n",
    "            for i in birthdate:\n",
    "                author_birthdates.append(i.text)\n",
    "        for author in data_author:\n",
    "            birthplace = author.find_all('span', class_='author-born-location')\n",
    "            for j in birthplace:\n",
    "                author_birthplaces.append(j.text)\n",
    "\n",
    "                author_info = {\n",
    "                'birthdate':author_birthdates,\n",
    "                'birthplace':author_birthplaces\n",
    "                }\n",
    "    return author_birthdates, author_birthplaces\n",
    "\n",
    "\n",
    "\n",
    "\n",
    "\n",
    "#Main function\n",
    "all_authors3 = []\n",
    "urls = get_urls(soup)\n",
    "all_quotes = []\n",
    "for url1 in urls:\n",
    "    # print(url1)\n",
    "    author_names,quote_l = quotes(url1)\n",
    "  #  all_author_urls = get_author_links(url1)\n",
    "    #author_birthdate, author_birthplace = get_author_birthdate()\n",
    "    for author in author_names:\n",
    "        all_authors3.append(author)\n",
    "    # print(quote_l)\n",
    "    next_page = soup.select('li.next > a')\n",
    "    if not next_page or not next_page[0].get('href'):\n",
    "        break\n",
    "    url1 = url1 + next_page[0].get('href').lstrip('/')\n",
    "    # print(url1)\n",
    "    all_quotes.append(quote_l)\n",
    "    #print(len(all_quotes))\n",
    "new_list = []\n",
    "for i in all_quotes:\n",
    "    for j in i:\n",
    "        new_list.append(j)\n",
    "quotes_to_scrap = pd.DataFrame()\n",
    "quotes_to_scrap['Quotes'] = new_list\n",
    "quotes_to_scrap['Author'] = all_authors3\n",
    "#quotes_to_scrap['Author_birthdate'] = author_birthdate\n",
    "#quotes_to_scrap['Author_birthplace'] = author_birthplace\n",
    "#print(quotes_to_scrap)\n",
    "\n",
    "#all_author_urls = []\n",
    "#for url in urls:\n",
    " #       author_urls = get_author_links(url)\n",
    "  #      for j in author_urls:\n",
    "   #         final_url = base_url + j.lstrip('/')\n",
    "    #        all_author_urls.append(final_url)\n",
    "\n",
    "#author_birthdates, author_birthplaces = get_author_birthdate(all_author_urls)\n",
    "#quotes_to_scrap['Author_birthdate'] = author_birthdates\n",
    "#quotes_to_scrap['Author_birthplace'] = author_birthplaces\n",
    "\n",
    "print(quotes_to_scrap)\n",
    "\n",
    "\n",
    "\n",
    "\n",
    "\n",
    "\n",
    "\n",
    "\n",
    "\n",
    "\n"
   ]
  },
  {
   "cell_type": "code",
   "execution_count": 533,
   "metadata": {},
   "outputs": [],
   "source": [
    "all_author_urls = []\n",
    "for url in urls:\n",
    "        author_urls = get_author_links(url)\n",
    "        for j in author_urls:\n",
    "            final_url = base_url + j.lstrip('/')\n",
    "            all_author_urls.append(final_url)\n",
    "\n",
    "author_birthdates, author_birthplaces = get_author_birthdate(all_author_urls)\n",
    "quotes_to_scrap['Author_birthdate'] = author_birthdates\n",
    "quotes_to_scrap['Author_birthplace'] = author_birthplaces"
   ]
  },
  {
   "cell_type": "code",
   "execution_count": 539,
   "metadata": {},
   "outputs": [
    {
     "data": {
      "text/html": [
       "<div>\n",
       "<style scoped>\n",
       "    .dataframe tbody tr th:only-of-type {\n",
       "        vertical-align: middle;\n",
       "    }\n",
       "\n",
       "    .dataframe tbody tr th {\n",
       "        vertical-align: top;\n",
       "    }\n",
       "\n",
       "    .dataframe thead th {\n",
       "        text-align: right;\n",
       "    }\n",
       "</style>\n",
       "<table border=\"1\" class=\"dataframe\">\n",
       "  <thead>\n",
       "    <tr style=\"text-align: right;\">\n",
       "      <th></th>\n",
       "      <th>Quotes</th>\n",
       "      <th>Author</th>\n",
       "      <th>Author_birthdate</th>\n",
       "      <th>Author_birthplace</th>\n",
       "    </tr>\n",
       "  </thead>\n",
       "  <tbody>\n",
       "    <tr>\n",
       "      <th>0</th>\n",
       "      <td>“It is better to be hated for what you are tha...</td>\n",
       "      <td>André Gide</td>\n",
       "      <td>November 22, 1869</td>\n",
       "      <td>in Paris, France</td>\n",
       "    </tr>\n",
       "    <tr>\n",
       "      <th>1</th>\n",
       "      <td>“This life is what you make it. No matter what...</td>\n",
       "      <td>Marilyn Monroe</td>\n",
       "      <td>June 01, 1926</td>\n",
       "      <td>in The United States</td>\n",
       "    </tr>\n",
       "    <tr>\n",
       "      <th>2</th>\n",
       "      <td>“You may not be her first, her last, or her on...</td>\n",
       "      <td>Bob Marley</td>\n",
       "      <td>February 06, 1945</td>\n",
       "      <td>in Nine Mile, Saint Ann, Jamaica</td>\n",
       "    </tr>\n",
       "    <tr>\n",
       "      <th>3</th>\n",
       "      <td>“The opposite of love is not hate, it's indiff...</td>\n",
       "      <td>Elie Wiesel</td>\n",
       "      <td>September 30, 1928</td>\n",
       "      <td>in Sighet, Romania</td>\n",
       "    </tr>\n",
       "    <tr>\n",
       "      <th>4</th>\n",
       "      <td>“It is not a lack of love, but a lack of frien...</td>\n",
       "      <td>Friedrich Nietzsche</td>\n",
       "      <td>October 15, 1844</td>\n",
       "      <td>in Röcken bei Lützen, Prussian Province of Sax...</td>\n",
       "    </tr>\n",
       "    <tr>\n",
       "      <th>...</th>\n",
       "      <td>...</td>\n",
       "      <td>...</td>\n",
       "      <td>...</td>\n",
       "      <td>...</td>\n",
       "    </tr>\n",
       "    <tr>\n",
       "      <th>68</th>\n",
       "      <td>“The truth.\" Dumbledore sighed. \"It is a beaut...</td>\n",
       "      <td>J.K. Rowling</td>\n",
       "      <td>July 31, 1965</td>\n",
       "      <td>in Yate, South Gloucestershire, England, The U...</td>\n",
       "    </tr>\n",
       "    <tr>\n",
       "      <th>69</th>\n",
       "      <td>“Never tell the truth to people who are not wo...</td>\n",
       "      <td>Mark Twain</td>\n",
       "      <td>November 30, 1835</td>\n",
       "      <td>in Florida, Missouri, The United States</td>\n",
       "    </tr>\n",
       "    <tr>\n",
       "      <th>70</th>\n",
       "      <td>“A day without sunshine is like, you know, nig...</td>\n",
       "      <td>Steve Martin</td>\n",
       "      <td>August 14, 1945</td>\n",
       "      <td>in Waco, Texas, The United States</td>\n",
       "    </tr>\n",
       "    <tr>\n",
       "      <th>71</th>\n",
       "      <td>“Life is like riding a bicycle. To keep your b...</td>\n",
       "      <td>Albert Einstein</td>\n",
       "      <td>March 14, 1879</td>\n",
       "      <td>in Ulm, Germany</td>\n",
       "    </tr>\n",
       "    <tr>\n",
       "      <th>72</th>\n",
       "      <td>“He's like a drug for you, Bella.”</td>\n",
       "      <td>Stephenie Meyer</td>\n",
       "      <td>December 24, 1973</td>\n",
       "      <td>in Connecticut, The United States</td>\n",
       "    </tr>\n",
       "  </tbody>\n",
       "</table>\n",
       "<p>73 rows × 4 columns</p>\n",
       "</div>"
      ],
      "text/plain": [
       "                                               Quotes               Author  \\\n",
       "0   “It is better to be hated for what you are tha...           André Gide   \n",
       "1   “This life is what you make it. No matter what...       Marilyn Monroe   \n",
       "2   “You may not be her first, her last, or her on...           Bob Marley   \n",
       "3   “The opposite of love is not hate, it's indiff...          Elie Wiesel   \n",
       "4   “It is not a lack of love, but a lack of frien...  Friedrich Nietzsche   \n",
       "..                                                ...                  ...   \n",
       "68  “The truth.\" Dumbledore sighed. \"It is a beaut...         J.K. Rowling   \n",
       "69  “Never tell the truth to people who are not wo...           Mark Twain   \n",
       "70  “A day without sunshine is like, you know, nig...         Steve Martin   \n",
       "71  “Life is like riding a bicycle. To keep your b...      Albert Einstein   \n",
       "72                 “He's like a drug for you, Bella.”      Stephenie Meyer   \n",
       "\n",
       "      Author_birthdate                                  Author_birthplace  \n",
       "0    November 22, 1869                                   in Paris, France  \n",
       "1        June 01, 1926                               in The United States  \n",
       "2    February 06, 1945                   in Nine Mile, Saint Ann, Jamaica  \n",
       "3   September 30, 1928                                 in Sighet, Romania  \n",
       "4     October 15, 1844  in Röcken bei Lützen, Prussian Province of Sax...  \n",
       "..                 ...                                                ...  \n",
       "68       July 31, 1965  in Yate, South Gloucestershire, England, The U...  \n",
       "69   November 30, 1835            in Florida, Missouri, The United States  \n",
       "70     August 14, 1945                  in Waco, Texas, The United States  \n",
       "71      March 14, 1879                                    in Ulm, Germany  \n",
       "72   December 24, 1973                  in Connecticut, The United States  \n",
       "\n",
       "[73 rows x 4 columns]"
      ]
     },
     "execution_count": 539,
     "metadata": {},
     "output_type": "execute_result"
    }
   ],
   "source": [
    "quotes_to_scrap"
   ]
  },
  {
   "cell_type": "code",
   "execution_count": 536,
   "metadata": {},
   "outputs": [],
   "source": [
    "for author in data_author:\n",
    "    birthplace = author.find_all('span', class_='author-born-location')"
   ]
  },
  {
   "cell_type": "code",
   "execution_count": 537,
   "metadata": {},
   "outputs": [
    {
     "data": {
      "text/plain": [
       "[]"
      ]
     },
     "execution_count": 537,
     "metadata": {},
     "output_type": "execute_result"
    }
   ],
   "source": []
  },
  {
   "cell_type": "code",
   "execution_count": null,
   "metadata": {},
   "outputs": [],
   "source": []
  }
 ],
 "metadata": {
  "kernelspec": {
   "display_name": "Python 3",
   "language": "python",
   "name": "python3"
  },
  "language_info": {
   "codemirror_mode": {
    "name": "ipython",
    "version": 3
   },
   "file_extension": ".py",
   "mimetype": "text/x-python",
   "name": "python",
   "nbconvert_exporter": "python",
   "pygments_lexer": "ipython3",
   "version": "3.7.6"
  }
 },
 "nbformat": 4,
 "nbformat_minor": 4
}
